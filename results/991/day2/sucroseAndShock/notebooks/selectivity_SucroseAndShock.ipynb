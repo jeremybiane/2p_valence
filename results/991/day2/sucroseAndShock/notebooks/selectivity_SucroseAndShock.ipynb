{
 "cells": [
  {
   "cell_type": "code",
   "execution_count": 1,
   "metadata": {
    "collapsed": false
   },
   "outputs": [
    {
     "data": {
      "text/html": [
       "<script>jQuery(function() {if (jQuery(\"body.notebook_app\").length == 0) { jQuery(\".input_area\").toggle(); jQuery(\".prompt\").toggle();}});</script>"
      ]
     },
     "metadata": {},
     "output_type": "display_data"
    },
    {
     "data": {
      "text/html": [
       "<button onclick=\"jQuery('.input_area').toggle(); jQuery('.prompt').toggle();\">Toggle code</button>"
      ]
     },
     "metadata": {},
     "output_type": "display_data"
    }
   ],
   "source": [
    "from IPython.display import display\n",
    "from IPython.display import HTML\n",
    "import IPython.core.display as di # Example: di.display_html('<h3>%s:</h3>' % str, raw=True)\n",
    "\n",
    "# This line will hide code by default when the notebook is exported as HTML\n",
    "di.display_html('<script>jQuery(function() {if (jQuery(\"body.notebook_app\").length == 0) { jQuery(\".input_area\").toggle(); jQuery(\".prompt\").toggle();}});</script>', raw=True)\n",
    "\n",
    "# This line will add a button to toggle visibility of code blocks, for use with the HTML export version\n",
    "di.display_html('''<button onclick=\"jQuery('.input_area').toggle(); jQuery('.prompt').toggle();\">Toggle code</button>''', raw=True)\n"
   ]
  },
  {
   "cell_type": "code",
   "execution_count": 2,
   "metadata": {
    "collapsed": false
   },
   "outputs": [],
   "source": [
    "# all modules necessary for this nb\n",
    "import os\n",
    "import sys\n",
    "import pickle\n",
    "\n",
    "from scipy import stats as sstats\n",
    "import numpy as np\n",
    "import pylab as pl\n",
    "\n",
    "# setting parameters for default matplotlib plots\n",
    "%matplotlib inline\n",
    "pl.rcParams['savefig.dpi'] = 300 # dpi for most publications\n",
    "pl.rcParams['xtick.labelsize'] = 7\n",
    "pl.rcParams['ytick.labelsize'] = 7\n",
    "pl.rcParams['axes.labelsize'] = 7\n",
    "\n",
    "# needs to find the library of functions\n",
    "sys.path.append('../../../../../code/')  # to be replaced!\n",
    "\n",
    "import utils as ut\n",
    "import plots as pt"
   ]
  },
  {
   "cell_type": "code",
   "execution_count": 3,
   "metadata": {
    "collapsed": true
   },
   "outputs": [],
   "source": [
    "NOTEBOOK_NAME = 'selectivity_SucroseAndShock'"
   ]
  },
  {
   "cell_type": "code",
   "execution_count": 4,
   "metadata": {
    "collapsed": false
   },
   "outputs": [
    {
     "name": "stdout",
     "output_type": "stream",
     "text": [
      "Unable to restore variable 'update_selectivity', ignoring (use %store -d to forget!)\n",
      "('The error was:', <type 'exceptions.KeyError'>)\n"
     ]
    }
   ],
   "source": [
    "from pickleshare import PickleShareDB\n",
    "\n",
    "autorestore_folder = os.path.join(os.getcwd(), 'autorestore', NOTEBOOK_NAME)\n",
    "db = PickleShareDB(autorestore_folder)\n",
    "import sys\n",
    "from workspace import *\n",
    "import IPython\n",
    "ip = IPython.get_ipython()\n",
    "\n",
    "# this will restore all the saved variables. ignore the errors listed.\n",
    "load_workspace(ip, db)\n",
    "\n",
    "# use `save_worspace(db)` to save variables at the end"
   ]
  },
  {
   "cell_type": "code",
   "execution_count": 5,
   "metadata": {
    "collapsed": false
   },
   "outputs": [],
   "source": [
    "folder = './autorestore/preprocessing_SucroseAndShock/'\n",
    "for var in ('time_ax', 'events', 'cycles',\n",
    "            'CYCLE_START', 'ANALYSIS_WINDOW',\n",
    "            'US_START', 'US_DURATION',\n",
    "            'is_rewardt', 'is_shockt', \n",
    "            'licks', 'mean_image', 'contours'): \n",
    "    exec('%s = ut.load_variable(\\'%s\\', folder=\\'%s\\')'%(var, var, folder))"
   ]
  },
  {
   "cell_type": "code",
   "execution_count": 6,
   "metadata": {
    "collapsed": false
   },
   "outputs": [
    {
     "name": "stdout",
     "output_type": "stream",
     "text": [
      "-6\n"
     ]
    }
   ],
   "source": [
    "print CYCLE_START"
   ]
  },
  {
   "cell_type": "code",
   "execution_count": 7,
   "metadata": {
    "collapsed": true
   },
   "outputs": [],
   "source": [
    "from scipy import stats as sstats"
   ]
  },
  {
   "cell_type": "code",
   "execution_count": 8,
   "metadata": {
    "collapsed": false
   },
   "outputs": [],
   "source": [
    "def update_selectivity(selectivity, trial_types, between_what, and_what, append='', append_trial='t'):\n",
    "\n",
    "    for t in trial_types:\n",
    "\n",
    "        # this one selects which trials to consider\n",
    "        which_cycles = eval('is_%s'%(t+append_trial))\n",
    "        print sum(which_cycles)\n",
    "            \n",
    "        if not np.any(which_cycles):\n",
    "            continue\n",
    "        \n",
    "        selectivity[t+append] = ut.compute_selectivity(time_ax, events, cycles[which_cycles],\n",
    "                                                       between_what, and_what)"
   ]
  },
  {
   "cell_type": "code",
   "execution_count": 9,
   "metadata": {
    "collapsed": false
   },
   "outputs": [],
   "source": [
    "def update_selectivity_40suc_10sho_constrained(selectivity_constrained, trial_types, between_what, and_what, append='', append_trial='t'):\n",
    "\n",
    "    for t in trial_types:\n",
    "\n",
    "        # this one selects which trials to consider\n",
    "        which_cycles = eval('is_%s'%(t+append_trial))\n",
    "        if t == 'reward':\n",
    "            is_first_40_rewardt = np.r_[[False]*len(which_cycles)]\n",
    "            trues = [i for i, x in enumerate(which_cycles) if x == True]\n",
    "            trues = trues[0:40]\n",
    "            for i in range(len(trues)):\n",
    "                is_first_40_rewardt[trues[i]] = True\n",
    "            which_cycles = is_first_40_rewardt\n",
    "            \n",
    "            print sum(which_cycles)\n",
    "                \n",
    "        elif t == 'shock':\n",
    "            is_first_10_shockt = np.r_[[False]*len(which_cycles)]\n",
    "            trues = [i for i, x in enumerate(which_cycles) if x == True]\n",
    "            trues = trues[0:10]\n",
    "            for i in range(len(trues)):\n",
    "                is_first_10_shockt[trues[i]] = True\n",
    "            which_cycles = is_first_10_shockt\n",
    "\n",
    "            print sum(which_cycles)\n",
    "            \n",
    "        if not np.any(which_cycles):\n",
    "            continue\n",
    "        \n",
    "        selectivity_constrained[t+append] = ut.compute_selectivity(time_ax, events, cycles[which_cycles],\n",
    "                                                       between_what, and_what)"
   ]
  },
  {
   "cell_type": "code",
   "execution_count": 10,
   "metadata": {
    "collapsed": false
   },
   "outputs": [],
   "source": [
    "# CHOOSE WHAT PERIOD DEFINES THE CS WITH REF. TO CYCLE START\n",
    "baseline_timeframe = (US_START-CYCLE_START-ANALYSIS_WINDOW, US_START-CYCLE_START)\n",
    "us_timeframe = (US_START-CYCLE_START, US_START+ANALYSIS_WINDOW-CYCLE_START)\n",
    "us_late_timeframe = (US_START+ANALYSIS_WINDOW-CYCLE_START, US_START+US_DURATION-CYCLE_START+ANALYSIS_WINDOW)\n",
    "pre_timeframe = (US_START-CYCLE_START-ANALYSIS_WINDOW-ANALYSIS_WINDOW, US_START-CYCLE_START-ANALYSIS_WINDOW)\n",
    "fourSec_baseline_timeframe= (US_START-CYCLE_START-4, US_START-CYCLE_START)\n",
    "fourSec_us_timeframe = (US_START-CYCLE_START, US_START+4-CYCLE_START)\n",
    "fourSec_pre_timeframe = (US_START-CYCLE_START-8, US_START-CYCLE_START-4)"
   ]
  },
  {
   "cell_type": "code",
   "execution_count": 11,
   "metadata": {
    "collapsed": false
   },
   "outputs": [
    {
     "name": "stdout",
     "output_type": "stream",
     "text": [
      "10\n",
      "40\n",
      "10\n",
      "40\n",
      "10\n",
      "40\n",
      "10\n",
      "40\n",
      "10\n",
      "40\n"
     ]
    }
   ],
   "source": [
    "selectivity = {}\n",
    "\n",
    "trial_types = np.r_[['shock', 'reward']]\n",
    "\n",
    "# US\n",
    "update_selectivity(selectivity, trial_types, us_timeframe, baseline_timeframe, '_us')\n",
    "# US late\n",
    "update_selectivity(selectivity, trial_types, us_late_timeframe, baseline_timeframe, '_late')\n",
    "#pre-baseline\n",
    "update_selectivity(selectivity, trial_types, pre_timeframe, baseline_timeframe, '_pre')\n",
    "# 4s_US\n",
    "update_selectivity(selectivity, trial_types, fourSec_us_timeframe, fourSec_baseline_timeframe, '_4s_us')\n",
    "# 4s_pre-baseline\n",
    "update_selectivity(selectivity, trial_types, fourSec_pre_timeframe, fourSec_baseline_timeframe, '_4s_pre')\n"
   ]
  },
  {
   "cell_type": "code",
   "execution_count": 12,
   "metadata": {
    "collapsed": false
   },
   "outputs": [
    {
     "name": "stdout",
     "output_type": "stream",
     "text": [
      "10\n",
      "40\n",
      "10\n",
      "40\n",
      "10\n",
      "40\n",
      "10\n",
      "40\n",
      "10\n",
      "40\n"
     ]
    }
   ],
   "source": [
    "selectivity_constrained = {}\n",
    "\n",
    "trial_types = np.r_[['shock', 'reward']]\n",
    "\n",
    "# US\n",
    "update_selectivity_40suc_10sho_constrained(selectivity_constrained, trial_types, us_timeframe, baseline_timeframe, '_us')\n",
    "# US late\n",
    "update_selectivity_40suc_10sho_constrained(selectivity_constrained, trial_types, us_late_timeframe, baseline_timeframe, '_late')\n",
    "#pre-baseline\n",
    "update_selectivity_40suc_10sho_constrained(selectivity_constrained, trial_types, pre_timeframe, baseline_timeframe, '_pre')\n",
    "# 4s_US\n",
    "update_selectivity_40suc_10sho_constrained(selectivity_constrained, trial_types, fourSec_us_timeframe, fourSec_baseline_timeframe, '_4s_us')\n",
    "# 4s_pre-baseline\n",
    "update_selectivity_40suc_10sho_constrained(selectivity_constrained, trial_types, fourSec_pre_timeframe, fourSec_baseline_timeframe, '_4s_pre')\n"
   ]
  },
  {
   "cell_type": "code",
   "execution_count": 13,
   "metadata": {
    "collapsed": false
   },
   "outputs": [
    {
     "data": {
      "text/plain": [
       "<function keys>"
      ]
     },
     "execution_count": 13,
     "metadata": {},
     "output_type": "execute_result"
    }
   ],
   "source": [
    "selectivity_constrained.keys"
   ]
  },
  {
   "cell_type": "code",
   "execution_count": null,
   "metadata": {
    "collapsed": false
   },
   "outputs": [],
   "source": [
    "selectivity.keys()"
   ]
  },
  {
   "cell_type": "code",
   "execution_count": null,
   "metadata": {
    "collapsed": false
   },
   "outputs": [],
   "source": [
    "significance = 0.01\n",
    "\n",
    "fig, ax = pl.subplots(1, 1, figsize=(5, 1.5))\n",
    "values = [np.sum(ut.adjust_pvalues([s[1] for s in selectivity[t][:, 0]])<significance)\n",
    "          for t in selectivity.keys()]\n",
    "pt.plot_bars(values, ax=ax)\n",
    "ax.set_xticks(range(len(selectivity)))\n",
    "ax.set_xticklabels(selectivity.keys(), rotation=30, fontsize=5)\n",
    "pt.nicer_plot(ax)\n",
    "ax.set_ylabel('# Selective cells')\n",
    "# ax.set_ylim(0, 0.7)"
   ]
  },
  {
   "cell_type": "code",
   "execution_count": null,
   "metadata": {
    "collapsed": false
   },
   "outputs": [],
   "source": [
    "len(contours)"
   ]
  },
  {
   "cell_type": "code",
   "execution_count": null,
   "metadata": {
    "collapsed": false
   },
   "outputs": [],
   "source": [
    "significance = 0.01\n",
    "\n",
    "fig, ax = pl.subplots(1, 1, figsize=(5, 1.5))\n",
    "values = [np.sum(ut.adjust_pvalues([s[1] for s in selectivity_constrained[t][:, 0]])<significance)\n",
    "          for t in selectivity_constrained.keys()]\n",
    "pt.plot_bars(values, ax=ax)\n",
    "ax.set_xticks(range(len(selectivity_constrained)))\n",
    "ax.set_xticklabels(selectivity_constrained.keys(), rotation=30, fontsize=5)\n",
    "pt.nicer_plot(ax)\n",
    "ax.set_ylabel('# Selective cells')\n",
    "# ax.set_ylim(0, 0.7)"
   ]
  },
  {
   "cell_type": "code",
   "execution_count": null,
   "metadata": {
    "collapsed": true
   },
   "outputs": [],
   "source": [
    "pvals_sucrose_4s_us = ut.multipletests([s[0][-1] for s in selectivity['reward_4s_us']], method='fdr_bh')[1]\n",
    "dirs_sucrose_4s_us = np.r_[[s[1] for s in selectivity['reward_4s_us']]]\n",
    "pvals_shock_4s_us = ut.multipletests([s[0][-1] for s in selectivity['shock_4s_us']], method='fdr_bh')[1]\n",
    "dirs_shock_4s_us = np.r_[[s[1] for s in selectivity['shock_4s_us']]]"
   ]
  },
  {
   "cell_type": "code",
   "execution_count": null,
   "metadata": {
    "collapsed": false
   },
   "outputs": [],
   "source": [
    "sucrose_4s_us_up = (((pvals_sucrose_4s_us<significance)*(dirs_sucrose_4s_us>0))).sum()\n",
    "shock_4s_us_up = (((pvals_shock_4s_us<significance)*(dirs_shock_4s_us>0))).sum()\n",
    "sucrose_4s_us_dn = (((pvals_sucrose_4s_us<significance)*(dirs_sucrose_4s_us<0))).sum()\n",
    "shock_4s_us_dn = (((pvals_shock_4s_us<significance)*(dirs_shock_4s_us<0))).sum()\n",
    "sucrose_4s_us_up__shock_4s_us_up = (((pvals_sucrose_4s_us<significance)*(dirs_sucrose_4s_us>0))*((pvals_shock_4s_us<significance)*(dirs_shock_4s_us>0))).sum()\n",
    "sucrose_4s_us_dn__shock_4s_us_dn = (((pvals_sucrose_4s_us<significance)*(dirs_sucrose_4s_us<0))*((pvals_shock_4s_us<significance)*(dirs_shock_4s_us<0))).sum()\n",
    "sucrose_4s_us_up__shock_4s_us_dn = (((pvals_sucrose_4s_us<significance)*(dirs_sucrose_4s_us>0))*((pvals_shock_4s_us<significance)*(dirs_shock_4s_us<0))).sum()\n",
    "sucrose_4s_us_dn__shock_4s_us_up = (((pvals_sucrose_4s_us<significance)*(dirs_sucrose_4s_us<0))*((pvals_shock_4s_us<significance)*(dirs_shock_4s_us>0))).sum()"
   ]
  },
  {
   "cell_type": "code",
   "execution_count": null,
   "metadata": {
    "collapsed": false
   },
   "outputs": [],
   "source": [
    "print \"There are\", sucrose_4s_us_up, \"cells that increase activity to sucrose.\"\n",
    "print \"There are\", shock_4s_us_up, \"cells that increase activity to shock.\"\n",
    "print \"There are\", sucrose_4s_us_dn, \"cells that decrease activity to sucrose.\"\n",
    "print \"There are\", shock_4s_us_dn, \"cells that decrease activity to shock.\"\n",
    "print \"There are\", sucrose_4s_us_up__shock_4s_us_up, \"cells that increase activity to both sucrose and shock.\"\n",
    "print \"There are\", sucrose_4s_us_dn__shock_4s_us_dn, \"cells that decrase activity to both sucrose and shock.\"\n",
    "print \"There are\", sucrose_4s_us_up__shock_4s_us_dn, \"cells that increase activity to sucrose and decrease to shock.\"\n",
    "print \"There are\", sucrose_4s_us_dn__shock_4s_us_up, \"cells that decrase activity to sucrose and increase shock.\""
   ]
  },
  {
   "cell_type": "code",
   "execution_count": null,
   "metadata": {
    "collapsed": true
   },
   "outputs": [],
   "source": [
    "tuned_cells = {}\n",
    "for k, v in selectivity.iteritems():\n",
    "    corrected_ps = ut.adjust_pvalues([s[1] for s in selectivity[k][:, 0]])\n",
    "    tuned_cells[k] = [np.where((corrected_ps<0.01)*([s>0 for s in v[:, 1]]))[0],\n",
    "                      np.where((corrected_ps<0.01)*([s<0 for s in v[:, 1]]))[0],]"
   ]
  },
  {
   "cell_type": "code",
   "execution_count": null,
   "metadata": {
    "collapsed": false
   },
   "outputs": [],
   "source": [
    "list_of_cells = [tuned_cells['reward_4s_us'][0], tuned_cells['shock_4s_us'][0]]\n",
    "rest_of_cells = np.delete(range(events.shape[1]), np.concatenate(list_of_cells))\n",
    "list_of_cells.append(rest_of_cells)\n",
    "\n",
    "fig, ax = pl.subplots(1, 1, figsize=(3, 3))\n",
    "pt.plot_rois(mean_image, contours,\n",
    "             list_of_cells,\n",
    "             colors=['b', 'r', '0.65'],\n",
    "             ax=ax\n",
    "            )\n",
    "ax.set_xticks(())\n",
    "ax.set_yticks(())\n",
    "ax.text(200, 15, 'pos. tuned sucrose', color='b', fontsize=5)\n",
    "ax.text(200, 30, 'pos. tuned shock', color='r', fontsize=5)\n",
    "ax.text(200, 45, 'both', color='b', fontsize=5, alpha=0.5)\n",
    "ax.text(200, 45, 'both', color='r', fontsize=5, alpha=0.5)"
   ]
  },
  {
   "cell_type": "code",
   "execution_count": null,
   "metadata": {
    "collapsed": false
   },
   "outputs": [],
   "source": [
    "list_of_cells = [tuned_cells['reward_4s_us'][1], tuned_cells['shock_4s_us'][1]]\n",
    "rest_of_cells = np.delete(range(events.shape[1]), np.concatenate(list_of_cells))\n",
    "list_of_cells.append(rest_of_cells)\n",
    "\n",
    "fig, ax = pl.subplots(1, 1, figsize=(3, 3))\n",
    "pt.plot_rois(mean_image, contours,\n",
    "             list_of_cells,\n",
    "             colors=['b', 'r', '0.65'],\n",
    "             ax=ax\n",
    "            )\n",
    "ax.set_xticks(())\n",
    "ax.set_yticks(())\n",
    "ax.text(200, 15, 'neg. tuned sucrose', color='b', fontsize=5)\n",
    "ax.text(200, 30, 'neg. tuned shock', color='r', fontsize=5)\n",
    "ax.text(200, 45, 'both', color='b', fontsize=5, alpha=0.5)\n",
    "ax.text(200, 45, 'both', color='r', fontsize=5, alpha=0.5)"
   ]
  },
  {
   "cell_type": "code",
   "execution_count": null,
   "metadata": {
    "collapsed": false
   },
   "outputs": [],
   "source": [
    "save_workspace(db)"
   ]
  },
  {
   "cell_type": "code",
   "execution_count": null,
   "metadata": {
    "collapsed": true
   },
   "outputs": [],
   "source": []
  },
  {
   "cell_type": "code",
   "execution_count": null,
   "metadata": {
    "collapsed": true
   },
   "outputs": [],
   "source": []
  }
 ],
 "metadata": {
  "anaconda-cloud": {},
  "kernelspec": {
   "display_name": "Python [default]",
   "language": "python",
   "name": "python2"
  },
  "language_info": {
   "codemirror_mode": {
    "name": "ipython",
    "version": 2
   },
   "file_extension": ".py",
   "mimetype": "text/x-python",
   "name": "python",
   "nbconvert_exporter": "python",
   "pygments_lexer": "ipython2",
   "version": "2.7.12"
  }
 },
 "nbformat": 4,
 "nbformat_minor": 2
}
