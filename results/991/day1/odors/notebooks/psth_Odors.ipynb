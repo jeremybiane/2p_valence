{
 "cells": [
  {
   "cell_type": "code",
   "execution_count": 1,
   "metadata": {
    "collapsed": false
   },
   "outputs": [
    {
     "data": {
      "text/html": [
       "<script>jQuery(function() {if (jQuery(\"body.notebook_app\").length == 0) { jQuery(\".input_area\").toggle(); jQuery(\".prompt\").toggle();}});</script>"
      ]
     },
     "metadata": {},
     "output_type": "display_data"
    },
    {
     "data": {
      "text/html": [
       "<button onclick=\"jQuery('.input_area').toggle(); jQuery('.prompt').toggle();\">Toggle code</button>"
      ]
     },
     "metadata": {},
     "output_type": "display_data"
    }
   ],
   "source": [
    "from IPython.display import display\n",
    "from IPython.display import HTML\n",
    "import IPython.core.display as di # Example: di.display_html('<h3>%s:</h3>' % str, raw=True)\n",
    "\n",
    "# This line will hide code by default when the notebook is exported as HTML\n",
    "di.display_html('<script>jQuery(function() {if (jQuery(\"body.notebook_app\").length == 0) { jQuery(\".input_area\").toggle(); jQuery(\".prompt\").toggle();}});</script>', raw=True)\n",
    "\n",
    "# This line will add a button to toggle visibility of code blocks, for use with the HTML export version\n",
    "di.display_html('''<button onclick=\"jQuery('.input_area').toggle(); jQuery('.prompt').toggle();\">Toggle code</button>''', raw=True)\n"
   ]
  },
  {
   "cell_type": "code",
   "execution_count": 2,
   "metadata": {
    "collapsed": false
   },
   "outputs": [],
   "source": [
    "# all modules necessary for this nb\n",
    "import os\n",
    "import sys\n",
    "import pickle\n",
    "\n",
    "import numpy as np\n",
    "import pylab as pl\n",
    "\n",
    "# setting parameters for default matplotlib plots\n",
    "%matplotlib inline\n",
    "pl.rcParams['savefig.dpi'] = 300 # dpi for most publications\n",
    "pl.rcParams['xtick.labelsize'] = 7\n",
    "pl.rcParams['ytick.labelsize'] = 7\n",
    "pl.rcParams['axes.labelsize'] = 7\n",
    "\n",
    "# needs to find the library of functions\n",
    "sys.path.append('../../../../../code/')  # to be replaced!\n",
    "\n",
    "import utils as ut\n",
    "import plots as pt"
   ]
  },
  {
   "cell_type": "code",
   "execution_count": 3,
   "metadata": {
    "collapsed": false
   },
   "outputs": [],
   "source": [
    "NOTEBOOK_NAME = 'psth_Odors'"
   ]
  },
  {
   "cell_type": "code",
   "execution_count": 23,
   "metadata": {
    "collapsed": false
   },
   "outputs": [],
   "source": [
    "from pickleshare import PickleShareDB\n",
    "\n",
    "autorestore_folder = os.path.join(os.getcwd(), 'autorestore', NOTEBOOK_NAME)\n",
    "db = PickleShareDB(autorestore_folder)\n",
    "import sys\n",
    "from workspace import *\n",
    "import IPython\n",
    "ip = IPython.get_ipython()\n",
    "\n",
    "# this will restore all the saved variables. ignore the errors listed.\n",
    "load_workspace(ip, db)\n",
    "\n",
    "# use `save_worspace(db)` to save variables at the end"
   ]
  },
  {
   "cell_type": "code",
   "execution_count": 24,
   "metadata": {
    "collapsed": false
   },
   "outputs": [],
   "source": [
    "folder = './autorestore/preprocessing_Odors/'\n",
    "for var in ('time_ax', 'time_ax_single','events', 'cycles','licks',\n",
    "            'CYCLE_START', 'ANALYSIS_WINDOW',\n",
    "            'US_START', 'US_DURATION',\n",
    "            'is_femalet', 'is_coyotet'): \n",
    "    exec('%s = ut.load_variable(\\'%s\\', folder=\\'%s\\')'%(var, var, folder))\n",
    "    \n",
    "folder = './autorestore/selectivity_Odors/'\n",
    "for var in 'selectivity',: \n",
    "    exec('%s = ut.load_variable(\\'%s\\', folder=\\'%s\\')'%(var, var, folder))\n",
    "    "
   ]
  },
  {
   "cell_type": "code",
   "execution_count": 25,
   "metadata": {
    "collapsed": false
   },
   "outputs": [
    {
     "name": "stderr",
     "output_type": "stream",
     "text": [
      "/home/fabios/anaconda2/lib/python2.7/site-packages/ipykernel/__main__.py:11: RuntimeWarning: Mean of empty slice.\n"
     ]
    }
   ],
   "source": [
    "bool_filter = np.r_[[False]*len(events)]\n",
    "\n",
    "baseline_period = (US_START-CYCLE_START-ANALYSIS_WINDOW, US_START-CYCLE_START)\n",
    "\n",
    "for s, e in cycles:\n",
    "    bool_filter[(time_ax>=(s-CYCLE_START+baseline_period[0])) *\n",
    "                (time_ax<(s-CYCLE_START+baseline_period[1]))] = True\n",
    "\n",
    "evs_means = np.zeros(events.shape[1])\n",
    "for cell in xrange(events.shape[1]):\n",
    "    evs_means[cell] = events[:, cell][bool_filter * (events[:, cell]>0)].mean(0)"
   ]
  },
  {
   "cell_type": "code",
   "execution_count": 26,
   "metadata": {
    "collapsed": true
   },
   "outputs": [],
   "source": [
    "# def plot_hm(cell, iso, ax, vmax=5, t_pre=6, t_post=6):\n",
    "\n",
    "#     alldffs = ut.compute_all_dffs(time_ax, events, cell, cycles[iso], time_ax_single)\n",
    "#     im = ax.imshow(alldffs, origin='lower', aspect='auto',\n",
    "#               extent=(time_ax_single[0], time_ax_single[-1], 0, len(cycles[iso])))\n",
    "#     pt.nicer_plot(ax)\n",
    "#     ax.set_xlim(-t_pre, t_post+CS_DURATION)\n",
    "\n",
    "#     return im\n",
    "\n",
    "# def plot_mean(cell, iso, ax, vmax=5, t_pre=6, t_post=6, color='k'):\n",
    "\n",
    "#     alldffs = ut.compute_all_dffs(time_ax, events, cell, cycles[iso], time_ax_single)\n",
    "#     ax.plot(time_ax_single, np.mean(alldffs, 0), lw=1, color=color)\n",
    "#     m = np.mean(alldffs, 0)\n",
    "#     s = np.std(alldffs, 0)/np.sqrt(np.sum(iso)-1)\n",
    "#     ax.fill_between(time_ax_single, m-s, m+s,\n",
    "#                      lw=0, color=color, zorder=0, alpha=0.2)\n",
    "#     for s in ax.spines.values():\n",
    "#         s.set_visible(False)\n",
    "#     ax.set_xticks(())\n",
    "#     ax.set_yticks(())\n",
    "#     pt.nicer_plot(ax)\n",
    "\n",
    "#     ax.set_xlim(-t_pre, t_post+CS_DURATION)\n",
    "\n",
    "#     return\n"
   ]
  },
  {
   "cell_type": "code",
   "execution_count": 27,
   "metadata": {
    "collapsed": false
   },
   "outputs": [],
   "source": [
    "delta_t = min(np.diff(time_ax))\n",
    "\n",
    "def plot_panel(cell, cycles, trial_types_top, trial_types_bottom,\n",
    "               lick_trials_top, lick_trials_bottom, delta_t=delta_t,\n",
    "               colortop='b', colorbottom='r', cmap=pl.cm.jet, cs_color='r', us_color='k',\n",
    "               t_start=-6, t_stop=6, vmax=1):\n",
    "    fig, axs = pl.subplots(3, 2, figsize=(3, 4),\n",
    "                           gridspec_kw={'width_ratios':(1, .1), 'height_ratios':(2, 4, 4)},)\n",
    "\n",
    "    for iso, ax, ax0 in zip(trial_types_top, axs[1], axs[0]):\n",
    "        alldffs = ut.compute_all_dffs(time_ax, events, cell, cycles[iso], time_ax_single)\n",
    "        im = ax.imshow(alldffs/np.max(alldffs), origin='lower', aspect='auto', vmax=vmax,\n",
    "                  extent=(time_ax_single[0], time_ax_single[-1], 0, len(cycles[iso])), cmap=cmap)\n",
    "        ax0.plot(time_ax_single, np.mean(alldffs, 0), lw=0.5, color=colortop)\n",
    "        m = np.mean(alldffs, 0)\n",
    "        s = np.std(alldffs, 0)/np.sqrt(np.sum(iso)-1)\n",
    "        ax0.fill_between(time_ax_single, m-s, m+s,\n",
    "                         lw=0, color=colortop, zorder=0, alpha=0.2)\n",
    "        ax0.set_ylim(-1, 5)\n",
    "        ax.vlines(US_START, 0, np.sum(iso), color='r', lw=0.5)\n",
    "\n",
    "\n",
    "    for iso, ax, ax0 in zip(trial_types_bottom, axs[2], axs[0]):\n",
    "        alldffs = ut.compute_all_dffs(time_ax, events, cell, cycles[iso], time_ax_single)\n",
    "        im = ax.imshow(alldffs/np.max(alldffs), origin='lower', aspect='auto', vmax=vmax,\n",
    "                  extent=(time_ax_single[0], time_ax_single[-1], 0, len(cycles[iso])), cmap=cmap)\n",
    "        ax0.plot(time_ax_single, np.mean(alldffs, 0), lw=0.5, color=colorbottom)\n",
    "        m = np.mean(alldffs, 0)\n",
    "        s = np.std(alldffs, 0)/np.sqrt(np.sum(iso)-1)\n",
    "        ax0.fill_between(time_ax_single, m-s, m+s,\n",
    "                         lw=0, color=colorbottom, zorder=0, alpha=0.2)\n",
    "        ax0.set_ylim(-1, 5)\n",
    "        ax.vlines(US_START, 0, np.sum(iso), color='r', lw=0.5)\n",
    "\n",
    "\n",
    "    ax = axs[1][-1]\n",
    "    fig.colorbar(im, cax=ax, orientation='vertical', ticks=(0, vmax) )\n",
    "    ax.set_xticks(())\n",
    "    ax.set_yticks((0, 10))\n",
    "    ax.text(-0.5, 0.7, 'Normalized event magnitude', rotation=90, ha='center', fontsize=3)\n",
    "\n",
    "    for ax in axs.flatten():\n",
    "        pt.remove_axes(ax)\n",
    "    \n",
    "    axs[1][0].set_ylabel(\"Cell #%d\" % (cell+1), rotation=0, ha='right', fontsize=5)\n",
    "\n",
    "    for ax, iso in zip(axs[0], trial_types_bottom):\n",
    "        ax.set_clip_on(False)\n",
    "        pt.plot_period_bar(ax, -0.5, delta_y=.3, color=us_color,\n",
    "                           start_end=(US_START, ANALYSIS_WINDOW))\n",
    "        \n",
    "        \n",
    "#    pt.plot_licks(cycles[:, 0][lick_trials_top]-CYCLE_START, licks, color='b', ax=axs[1][1])\n",
    "#    pt.plot_licks(cycles[:, 0][lick_trials_bottom]-CYCLE_START, licks, color='r', ax=axs[2][1])\n",
    "    \n",
    "    for a in axs:\n",
    "        for ax in a[:-1]:\n",
    "            ax.set_xlim(t_start, t_stop)\n",
    "    \n",
    "#    for ax, iso in zip(axs[0], trial_types_bottom):\n",
    "#        ax.set_ylim(0, np.sum(iso))\n",
    "#        ax.set_clip_on(False)\n",
    "\n",
    "    return fig, axs"
   ]
  },
  {
   "cell_type": "code",
   "execution_count": 28,
   "metadata": {
    "collapsed": false
   },
   "outputs": [
    {
     "name": "stdout",
     "output_type": "stream",
     "text": [
      "mkdir: cannot create directory ‘../img’: File exists\r\n"
     ]
    }
   ],
   "source": [
    "!mkdir ../img"
   ]
  },
  {
   "cell_type": "code",
   "execution_count": null,
   "metadata": {
    "collapsed": false,
    "scrolled": true
   },
   "outputs": [],
   "source": [
    "significance = 0.01\n",
    "#t = np.where(ut.adjust_pvalues([s[1] for s in selectivity['femalet'][:, 0]])<significance)\n",
    "for cell in  range(events.shape[1]): #t[0] \n",
    "    fig, axs = plot_panel(cell, cycles,\n",
    "                          trial_types_top=[is_femalet],\n",
    "                          trial_types_bottom=[is_coyotet],\n",
    "                          lick_trials_top=is_femalet, lick_trials_bottom=is_coyotet,\n",
    "                          t_start=-6, t_stop=6)\n",
    "    axs[0][0].set_title('Female(blue)\\Coyote', fontsize=5)\n",
    "#    axs[0][1].set_title('Licks female\\Licks coyote', fontsize=5)\n",
    "#    axs[0][2].set_title('femaleed CS+\\nNot femaleed CS+', fontsize=5)\n",
    "#    axs[0][3].set_title('Licks CS+\\nLicks CS-', fontsize=5)\n",
    "    fig.savefig(\"../img/psth_cell%03d.pdf\" % (cell+1))"
   ]
  },
  {
   "cell_type": "code",
   "execution_count": null,
   "metadata": {
    "collapsed": false
   },
   "outputs": [],
   "source": [
    "su = np.where(ut.adjust_pvalues([s[1] for s in selectivity['female_4s_us'][:, 0]])<significance)"
   ]
  },
  {
   "cell_type": "code",
   "execution_count": null,
   "metadata": {
    "collapsed": false
   },
   "outputs": [],
   "source": [
    "su[0]"
   ]
  },
  {
   "cell_type": "code",
   "execution_count": null,
   "metadata": {
    "collapsed": false
   },
   "outputs": [],
   "source": [
    "sh = np.where(ut.adjust_pvalues([s[1] for s in selectivity['coyote_4s_us'][:, 0]])<significance)"
   ]
  },
  {
   "cell_type": "code",
   "execution_count": null,
   "metadata": {
    "collapsed": false
   },
   "outputs": [],
   "source": [
    "sh[0]"
   ]
  },
  {
   "cell_type": "code",
   "execution_count": null,
   "metadata": {
    "collapsed": false
   },
   "outputs": [],
   "source": [
    "!pdftk ../img/psth_cell*.pdf cat output ../img/psth_booklet.pdf"
   ]
  },
  {
   "cell_type": "code",
   "execution_count": null,
   "metadata": {
    "collapsed": false
   },
   "outputs": [],
   "source": [
    "save_workspace(db)"
   ]
  },
  {
   "cell_type": "code",
   "execution_count": null,
   "metadata": {
    "collapsed": true
   },
   "outputs": [],
   "source": []
  }
 ],
 "metadata": {
  "anaconda-cloud": {},
  "kernelspec": {
   "display_name": "Python [default]",
   "language": "python",
   "name": "python2"
  },
  "language_info": {
   "codemirror_mode": {
    "name": "ipython",
    "version": 2
   },
   "file_extension": ".py",
   "mimetype": "text/x-python",
   "name": "python",
   "nbconvert_exporter": "python",
   "pygments_lexer": "ipython2",
   "version": "2.7.12"
  }
 },
 "nbformat": 4,
 "nbformat_minor": 2
}
