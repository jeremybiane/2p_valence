{
 "cells": [
  {
   "cell_type": "code",
   "execution_count": null,
   "metadata": {
    "collapsed": false
   },
   "outputs": [],
   "source": [
    "from IPython.display import display\n",
    "from IPython.display import HTML\n",
    "import IPython.core.display as di # Example: di.display_html('<h3>%s:</h3>' % str, raw=True)\n",
    "\n",
    "# This line will hide code by default when the notebook is exported as HTML\n",
    "di.display_html('<script>jQuery(function() {if (jQuery(\"body.notebook_app\").length == 0) { jQuery(\".input_area\").toggle(); jQuery(\".prompt\").toggle();}});</script>', raw=True)\n",
    "\n",
    "# This line will add a button to toggle visibility of code blocks, for use with the HTML export version\n",
    "di.display_html('''<button onclick=\"jQuery('.input_area').toggle(); jQuery('.prompt').toggle();\">Toggle code</button>''', raw=True)\n"
   ]
  },
  {
   "cell_type": "code",
   "execution_count": null,
   "metadata": {
    "collapsed": false
   },
   "outputs": [],
   "source": [
    "# all modules necessary for this nb\n",
    "import os\n",
    "import sys\n",
    "import pickle\n",
    "\n",
    "from scipy import stats as sstats\n",
    "import numpy as np\n",
    "import pylab as pl\n",
    "\n",
    "# setting parameters for default matplotlib plots\n",
    "%matplotlib inline\n",
    "pl.rcParams['savefig.dpi'] = 300 # dpi for most publications\n",
    "pl.rcParams['xtick.labelsize'] = 7\n",
    "pl.rcParams['ytick.labelsize'] = 7\n",
    "pl.rcParams['axes.labelsize'] = 7\n",
    "\n",
    "# needs to find the library of functions\n",
    "sys.path.append('../../../../../code/')  # to be replaced!\n",
    "\n",
    "import utils as ut\n",
    "import plots as pt"
   ]
  },
  {
   "cell_type": "code",
   "execution_count": null,
   "metadata": {
    "collapsed": true
   },
   "outputs": [],
   "source": [
    "NOTEBOOK_NAME = 'selectivity'"
   ]
  },
  {
   "cell_type": "code",
   "execution_count": null,
   "metadata": {
    "collapsed": false
   },
   "outputs": [],
   "source": [
    "from pickleshare import PickleShareDB\n",
    "\n",
    "autorestore_folder = os.path.join(os.getcwd(), 'autorestore', NOTEBOOK_NAME)\n",
    "db = PickleShareDB(autorestore_folder)\n",
    "import sys\n",
    "from workspace import *\n",
    "import IPython\n",
    "ip = IPython.get_ipython()\n",
    "\n",
    "# this will restore all the saved variables. ignore the errors listed.\n",
    "load_workspace(ip, db)\n",
    "\n",
    "# use `save_worspace(db)` to save variables at the end"
   ]
  },
  {
   "cell_type": "code",
   "execution_count": null,
   "metadata": {
    "collapsed": false
   },
   "outputs": [],
   "source": [
    "folder = './autorestore/preprocessing/'\n",
    "for var in ('time_ax', 'events', 'cycles',\n",
    "            'CYCLE_START', 'ANALYSIS_WINDOW',\n",
    "            'US_START', 'US_DURATION',\n",
    "            'is_rewardt', 'is_shockt',\n",
    "            'is_coyotet', 'is_femalet',\n",
    "            'is_consumed', 'consumption_times',\n",
    "            'consumptions', 'is_blastt', \n",
    "            'licks', 'mean_image', 'contours'): \n",
    "    exec('%s = ut.load_variable(\\'%s\\', folder=\\'%s\\')'%(var, var, folder))"
   ]
  },
  {
   "cell_type": "code",
   "execution_count": null,
   "metadata": {
    "collapsed": false
   },
   "outputs": [],
   "source": [
    "print CYCLE_START"
   ]
  },
  {
   "cell_type": "code",
   "execution_count": null,
   "metadata": {
    "collapsed": true
   },
   "outputs": [],
   "source": [
    "from scipy import stats as sstats"
   ]
  },
  {
   "cell_type": "code",
   "execution_count": null,
   "metadata": {
    "collapsed": false
   },
   "outputs": [],
   "source": [
    "def update_selectivity(selectivity, trial_types, between_what, and_what, append='', append_trial='t'):\n",
    "\n",
    "    for t in trial_types:\n",
    "\n",
    "        # this one selects which trials to consider\n",
    "        which_cycles = eval('is_%s'%(t+append_trial))\n",
    "        print sum(which_cycles),\n",
    "            \n",
    "        if not np.any(which_cycles):\n",
    "            continue\n",
    "        \n",
    "        selectivity[t+append] = ut.compute_selectivity(time_ax, events, cycles[which_cycles],\n",
    "                                                       between_what, and_what)"
   ]
  },
  {
   "cell_type": "code",
   "execution_count": null,
   "metadata": {
    "collapsed": false
   },
   "outputs": [],
   "source": [
    "# CHOOSE WHAT PERIOD DEFINES THE CS WITH REF. TO CYCLE START\n",
    "baseline_timeframe = (US_START-CYCLE_START-ANALYSIS_WINDOW, US_START-CYCLE_START)\n",
    "us_timeframe = (US_START-CYCLE_START, US_START+ANALYSIS_WINDOW-CYCLE_START)\n",
    "us_late_timeframe = (US_START+ANALYSIS_WINDOW-CYCLE_START, US_START+US_DURATION-CYCLE_START+ANALYSIS_WINDOW)\n",
    "pre_timeframe = (US_START-CYCLE_START-ANALYSIS_WINDOW-ANALYSIS_WINDOW, US_START-CYCLE_START-ANALYSIS_WINDOW)\n",
    "fourSec_baseline_timeframe= (US_START-CYCLE_START-4, US_START-CYCLE_START)\n",
    "fourSec_us_timeframe = (US_START-CYCLE_START, US_START+4-CYCLE_START)\n",
    "#fourSec_pre_timeframe = (US_START-CYCLE_START-8, US_START-CYCLE_START-4)\n",
    "\n",
    "#create selectivity where activity window starts at first lick after reward delivery\n",
    "times = consumption_times[is_consumed]\n",
    "us_timeframe_consumption = np.c_[us_timeframe[0]+times, us_timeframe[0]+times+ANALYSIS_WINDOW]\n",
    "bs_timeframe_consumption = np.c_[us_timeframe[0]+times-ANALYSIS_WINDOW-0.5, us_timeframe[0]+times-0.5]\n",
    "pre_timeframe_consumption = np.c_[us_timeframe[0]+times-ANALYSIS_WINDOW-ANALYSIS_WINDOW-0.5, us_timeframe[0]+times-ANALYSIS_WINDOW-0.5]\n",
    "fourSec_us_timeframe_consumption = np.c_[us_timeframe[0]+times, us_timeframe[0]+times+4]\n",
    "fourSec_bs_timeframe_consumption = np.c_[us_timeframe[0]+times-4.5, us_timeframe[0]+times-0.5]"
   ]
  },
  {
   "cell_type": "code",
   "execution_count": null,
   "metadata": {
    "collapsed": false
   },
   "outputs": [],
   "source": [
    "selectivity = {}\n",
    "\n",
    "trial_types = np.r_[['shock', 'reward', 'coyote', 'female', 'blast']]\n",
    "# will eventually eliminate 'shock' and 'reward',\n",
    "#but keeping for now to make sure they mostly match shock_10 and consumption values for 2018 collective\n",
    "\n",
    "# US\n",
    "update_selectivity(selectivity, trial_types, us_timeframe, baseline_timeframe, '_us')\n",
    "# US late\n",
    "#update_selectivity(selectivity, trial_types, us_late_timeframe, baseline_timeframe, '_late')\n",
    "#pre-baseline\n",
    "update_selectivity(selectivity, trial_types, pre_timeframe, baseline_timeframe, '_pre')\n",
    "# 4s_US\n",
    "update_selectivity(selectivity, trial_types, fourSec_us_timeframe, fourSec_baseline_timeframe, '_4s_us')\n",
    "# 4s_pre-baseline\n",
    "#update_selectivity(selectivity, trial_types, fourSec_pre_timeframe, fourSec_baseline_timeframe, '_4s_pre')\n",
    "\n",
    "\n",
    "#selectivity['consumption_us'] = ut.compute_selectivity(time_ax, events, cycles[is_rewardt][is_consumed],\n",
    "#                                               us_timeframe_consumption, bs_timeframe_consumption)\n",
    "#selectivity['consumption_pre'] = ut.compute_selectivity(time_ax, events, cycles[is_rewardt][is_consumed],\n",
    "#                                               pre_timeframe_consumption, bs_timeframe_consumption)\n",
    "#selectivity['consumption_4s_us'] = ut.compute_selectivity(time_ax, events, cycles[is_rewardt][is_consumed],\n",
    "#                                               fourSec_us_timeframe_consumption, fourSec_bs_timeframe_consumption)\n",
    "\n",
    "# Because 25 consumptions and 10 shocks are the lowest common occurence accross all animals, restricting to these values\n",
    "selectivity['consumption_25_us'] = ut.compute_selectivity(time_ax, events, cycles[is_rewardt][is_consumed][:25],\n",
    "                                               us_timeframe_consumption[:25], bs_timeframe_consumption[:25])\n",
    "selectivity['consumption_25_pre'] = ut.compute_selectivity(time_ax, events, cycles[is_rewardt][is_consumed][:25],\n",
    "                                               pre_timeframe_consumption[:25], bs_timeframe_consumption[:25])\n",
    "selectivity['consumption_25_4s_us'] = ut.compute_selectivity(time_ax, events, cycles[is_rewardt][is_consumed][:25],\n",
    "                                               fourSec_us_timeframe_consumption[:25], fourSec_bs_timeframe_consumption[:25])\n",
    "selectivity['shock_10_us'] = ut.compute_selectivity(time_ax, events, cycles[is_shockt][:10],\n",
    "                                               us_timeframe[:10], baseline_timeframe[:10])\n",
    "selectivity['shock_10_pre'] = ut.compute_selectivity(time_ax, events, cycles[is_shockt][:10],\n",
    "                                               pre_timeframe[:10], baseline_timeframe[:10])\n",
    "selectivity['shock_10_4s_us'] = ut.compute_selectivity(time_ax, events, cycles[is_shockt][:10],\n",
    "                                               fourSec_us_timeframe[:10], fourSec_baseline_timeframe[:10])\n"
   ]
  },
  {
   "cell_type": "code",
   "execution_count": null,
   "metadata": {
    "collapsed": false
   },
   "outputs": [],
   "source": [
    "selectivity.iterkeys()"
   ]
  },
  {
   "cell_type": "code",
   "execution_count": null,
   "metadata": {
    "collapsed": false
   },
   "outputs": [],
   "source": [
    "sorted(selectivity)"
   ]
  },
  {
   "cell_type": "code",
   "execution_count": null,
   "metadata": {
    "collapsed": true
   },
   "outputs": [],
   "source": [
    "significance = 0.05"
   ]
  },
  {
   "cell_type": "code",
   "execution_count": null,
   "metadata": {
    "collapsed": false
   },
   "outputs": [],
   "source": [
    "fig, ax = pl.subplots(1, 1, figsize=(8, 1.5))\n",
    "values = [np.sum(ut.adjust_pvalues([s[1] for s in selectivity[t][:, 0]])<significance)\n",
    "          for t in sorted(selectivity)]\n",
    "pt.plot_bars(values, ax=ax)\n",
    "ax.set_xticks(range(len(selectivity)))\n",
    "ax.set_xticklabels(sorted(selectivity), rotation=70, fontsize=6)\n",
    "pt.nicer_plot(ax)\n",
    "ax.set_ylabel('# Selective cells')\n",
    "# ax.set_ylim(0, 0.7)"
   ]
  },
  {
   "cell_type": "code",
   "execution_count": null,
   "metadata": {
    "collapsed": false
   },
   "outputs": [],
   "source": [
    "fig, ax = pl.subplots(1, 1, figsize=(8, 1.5))\n",
    "values_float = [np.sum(ut.adjust_pvalues([s[1] for s in selectivity[t][:, 0]])<significance)\n",
    "          for t in sorted(selectivity)]\n",
    "[float(i) for i in values_float]\n",
    "denominator = float(len(contours))\n",
    "proportions = [v/denominator for v in values_float]\n",
    "pt.plot_bars(proportions, ax=ax)\n",
    "ax.set_xticks(range(len(selectivity)))\n",
    "ax.set_xticklabels(sorted(selectivity), rotation=70, fontsize=6)\n",
    "pt.nicer_plot(ax)\n",
    "ax.set_ylabel('Proprotion selective cells')\n",
    "ax.set_ylim(0, 0.6)"
   ]
  },
  {
   "cell_type": "code",
   "execution_count": null,
   "metadata": {
    "collapsed": false
   },
   "outputs": [],
   "source": [
    "len(contours)"
   ]
  },
  {
   "cell_type": "code",
   "execution_count": null,
   "metadata": {
    "collapsed": false
   },
   "outputs": [],
   "source": [
    "\n",
    "try:\n",
    "    pvals_female_4s_us = ut.multipletests([s[0][-1] for s in selectivity['female_4s_us']], method='fdr_bh')[1]\n",
    "    dirs_female_4s_us = np.r_[[s[1] for s in selectivity['female_4s_us']]]\n",
    "except:\n",
    "    falied_female = True\n",
    "    print 'failed female'\n",
    "try:\n",
    "    pvals_coyote_4s_us = ut.multipletests([s[0][-1] for s in selectivity['coyote_4s_us']], method='fdr_bh')[1]\n",
    "    dirs_coyote_4s_us = np.r_[[s[1] for s in selectivity['coyote_4s_us']]]\n",
    "except:\n",
    "    failed_coyote = True\n",
    "    print 'failed coyote'\n",
    "    #pvals_sucrose_4s_us = ut.multipletests([s[0][-1] for s in selectivity['reward_4s_us']], method='fdr_bh')[1]\n",
    "    #dirs_sucrose_4s_us = np.r_[[s[1] for s in selectivity['reward_4s_us']]]\n",
    "try:\n",
    "    pvals_shock_10_4s_us = ut.multipletests([s[0][-1] for s in selectivity['shock_10_4s_us']], method='fdr_bh')[1]\n",
    "    dirs_shock_10_4s_us = np.r_[[s[1] for s in selectivity['shock_10_4s_us']]]\n",
    "except:\n",
    "    falied_shock = True\n",
    "    print 'failed shock'\n",
    "try:\n",
    "    pvals_consumption_25_4s_us = ut.multipletests([s[0][-1] for s in selectivity['consumption_25_4s_us']], method='fdr_bh')[1]\n",
    "    dirs_consumption_25_4s_us = np.r_[[s[1] for s in selectivity['consumption_25_4s_us']]]\n",
    "except:\n",
    "    failed_sucrose = True\n",
    "    print 'failed sucrose'"
   ]
  },
  {
   "cell_type": "code",
   "execution_count": null,
   "metadata": {
    "collapsed": false
   },
   "outputs": [],
   "source": [
    "try:\n",
    "    consumption_25_4s_us_up = (((pvals_consumption_25_4s_us<significance)*(dirs_consumption_25_4s_us>0))).sum()\n",
    "    shock_10_4s_us_up = (((pvals_shock_10_4s_us<significance)*(dirs_shock_10_4s_us>0))).sum()\n",
    "    consumption_25_4s_us_dn = (((pvals_consumption_25_4s_us<significance)*(dirs_consumption_25_4s_us<0))).sum()\n",
    "    shock_10_4s_us_dn = (((pvals_shock_10_4s_us<significance)*(dirs_shock_10_4s_us<0))).sum()\n",
    "    consumption_25_4s_us_up__shock_10_4s_us_up = (((pvals_consumption_25_4s_us<significance)*(dirs_consumption_25_4s_us>0))*((pvals_shock_10_4s_us<significance)*(dirs_shock_10_4s_us>0))).sum()\n",
    "    consumption_25_4s_us_dn__shock_10_4s_us_dn = (((pvals_consumption_25_4s_us<significance)*(dirs_consumption_25_4s_us<0))*((pvals_shock_10_4s_us<significance)*(dirs_shock_10_4s_us<0))).sum()\n",
    "    consumption_25_4s_us_up__shock_10_4s_us_dn = (((pvals_consumption_25_4s_us<significance)*(dirs_consumption_25_4s_us>0))*((pvals_shock_10_4s_us<significance)*(dirs_shock_10_4s_us<0))).sum()\n",
    "    consumption_25_4s_us_dn__shock_10_4s_us_up = (((pvals_consumption_25_4s_us<significance)*(dirs_consumption_25_4s_us<0))*((pvals_shock_10_4s_us<significance)*(dirs_shock_10_4s_us>0))).sum()\n",
    "    print \"There are\", consumption_25_4s_us_up, \"cells that increase activity to consumption_25.\"\n",
    "    print \"There are\", shock_10_4s_us_up, \"cells that increase activity to shock_10.\"\n",
    "    print \"There are\", consumption_25_4s_us_dn, \"cells that decrease activity to consumption_25.\"\n",
    "    print \"There are\", shock_10_4s_us_dn, \"cells that decrease activity to shock_10.\"\n",
    "    print \"There are\", consumption_25_4s_us_up__shock_10_4s_us_up, \"cells that increase activity to both consumption_25 and shock_10.\"\n",
    "    print \"There are\", consumption_25_4s_us_dn__shock_10_4s_us_dn, \"cells that decrase activity to both consumption_25 and shock_10.\"\n",
    "    print \"There are\", consumption_25_4s_us_up__shock_10_4s_us_dn, \"cells that increase activity to consumption_25 and decrease to shock_10.\"\n",
    "    print \"There are\", consumption_25_4s_us_dn__shock_10_4s_us_up, \"cells that decrase activity to consumption_25 and increase shock_10.\"\n",
    "except:\n",
    "    print'failed sucrose and shock'\n",
    "    \n",
    "#odors\n",
    "try:\n",
    "    female_4s_us_up = (((pvals_female_4s_us<significance)*(dirs_female_4s_us>0))).sum()\n",
    "    coyote_4s_us_up = (((pvals_coyote_4s_us<significance)*(dirs_coyote_4s_us>0))).sum()\n",
    "    female_4s_us_dn = (((pvals_female_4s_us<significance)*(dirs_female_4s_us<0))).sum()\n",
    "    coyote_4s_us_dn = (((pvals_coyote_4s_us<significance)*(dirs_coyote_4s_us<0))).sum()\n",
    "    female_4s_us_up__coyote_4s_us_up = (((pvals_female_4s_us<significance)*(dirs_female_4s_us>0))*((pvals_coyote_4s_us<significance)*(dirs_coyote_4s_us>0))).sum()\n",
    "    female_4s_us_dn__coyote_4s_us_dn = (((pvals_female_4s_us<significance)*(dirs_female_4s_us<0))*((pvals_coyote_4s_us<significance)*(dirs_coyote_4s_us<0))).sum()\n",
    "    female_4s_us_up__coyote_4s_us_dn = (((pvals_female_4s_us<significance)*(dirs_female_4s_us>0))*((pvals_coyote_4s_us<significance)*(dirs_coyote_4s_us<0))).sum()\n",
    "    female_4s_us_dn__coyote_4s_us_up = (((pvals_female_4s_us<significance)*(dirs_female_4s_us<0))*((pvals_coyote_4s_us<significance)*(dirs_coyote_4s_us>0))).sum()\n",
    "    print \"There are\", female_4s_us_up, \"cells that increase activity to female.\"\n",
    "    print \"There are\", coyote_4s_us_up, \"cells that increase activity to coyote.\"\n",
    "    print \"There are\", female_4s_us_dn, \"cells that decrease activity to female.\"\n",
    "    print \"There are\", coyote_4s_us_dn, \"cells that decrease activity to coyote.\"\n",
    "    print \"There are\", female_4s_us_up__coyote_4s_us_up, \"cells that increase activity to both female and coyote.\"\n",
    "    print \"There are\", female_4s_us_dn__coyote_4s_us_dn, \"cells that decrase activity to both female and coyote.\"\n",
    "    print \"There are\", female_4s_us_up__coyote_4s_us_dn, \"cells that increase activity to female and decrease to coyote.\"\n",
    "    print \"There are\", female_4s_us_dn__coyote_4s_us_up, \"cells that decrase activity to female and increase coyote.\"\n",
    "except:\n",
    "    print 'failed odors'"
   ]
  },
  {
   "cell_type": "code",
   "execution_count": null,
   "metadata": {
    "collapsed": false
   },
   "outputs": [],
   "source": [
    "#blasts\n",
    "try:\n",
    "    pvals_blast_4s_us = ut.multipletests([s[0][-1] for s in selectivity['blast_4s_us']], method='fdr_bh')[1]\n",
    "    dirs_blast_4s_us = np.r_[[s[1] for s in selectivity['blast_4s_us']]]\n",
    "    \n",
    "    blast_4s_us_up = (((pvals_blast_4s_us<significance)*(dirs_blast_4s_us>0))).sum()\n",
    "    blast_4s_us_dn = (((pvals_blast_4s_us<significance)*(dirs_blast_4s_us<0))).sum()\n",
    "except:\n",
    "    print 'failed blasts'"
   ]
  },
  {
   "cell_type": "code",
   "execution_count": null,
   "metadata": {
    "collapsed": true
   },
   "outputs": [],
   "source": [
    "tuned_cells = {}\n",
    "for k, v in selectivity.iteritems():\n",
    "    corrected_ps = ut.adjust_pvalues([s[1] for s in selectivity[k][:, 0]])\n",
    "    tuned_cells[k] = [np.where((corrected_ps<significance)*([s>0 for s in v[:, 1]]))[0],\n",
    "                      np.where((corrected_ps<significance)*([s<0 for s in v[:, 1]]))[0],]"
   ]
  },
  {
   "cell_type": "code",
   "execution_count": null,
   "metadata": {
    "collapsed": false
   },
   "outputs": [],
   "source": [
    "try:\n",
    "    list_of_cells = [tuned_cells['consumption_25_4s_us'][0], tuned_cells['shock_10_4s_us'][0]]\n",
    "    rest_of_cells = np.delete(range(events.shape[1]), np.concatenate(list_of_cells))\n",
    "    list_of_cells.append(rest_of_cells)\n",
    "    \n",
    "    fig, ax = pl.subplots(1, 1, figsize=(3, 3))\n",
    "    pt.plot_rois(mean_image, contours,\n",
    "                 list_of_cells,\n",
    "                 colors=['b', 'r', '0.65'],\n",
    "                 ax=ax\n",
    "                )\n",
    "    ax.set_xticks(())\n",
    "    ax.set_yticks(())\n",
    "    ax.text(200, 15, 'pos. tuned sucrose', color='b', fontsize=5)\n",
    "    ax.text(200, 30, 'pos. tuned shock', color='r', fontsize=5)\n",
    "    ax.text(200, 45, 'both', color='b', fontsize=5, alpha=0.5)\n",
    "    ax.text(200, 45, 'both', color='r', fontsize=5, alpha=0.5)\n",
    "except:\n",
    "    print 'failed'"
   ]
  },
  {
   "cell_type": "code",
   "execution_count": null,
   "metadata": {
    "collapsed": false
   },
   "outputs": [],
   "source": [
    "try:\n",
    "    list_of_cells = [tuned_cells['consumption_25_4s_us'][1], tuned_cells['shock_10_4s_us'][1]]\n",
    "    rest_of_cells = np.delete(range(events.shape[1]), np.concatenate(list_of_cells))\n",
    "    list_of_cells.append(rest_of_cells)\n",
    "    \n",
    "    fig, ax = pl.subplots(1, 1, figsize=(3, 3))\n",
    "    pt.plot_rois(mean_image, contours,\n",
    "                 list_of_cells,\n",
    "                 colors=['b', 'r', '0.65'],\n",
    "                 ax=ax\n",
    "                )\n",
    "    ax.set_xticks(())\n",
    "    ax.set_yticks(())\n",
    "    ax.text(200, 15, 'neg. tuned sucrose', color='b', fontsize=5)\n",
    "    ax.text(200, 30, 'neg. tuned shock', color='r', fontsize=5)\n",
    "    ax.text(200, 45, 'both', color='b', fontsize=5, alpha=0.5)\n",
    "    ax.text(200, 45, 'both', color='r', fontsize=5, alpha=0.5)\n",
    "except:\n",
    "    print 'failed'"
   ]
  },
  {
   "cell_type": "code",
   "execution_count": null,
   "metadata": {
    "collapsed": false
   },
   "outputs": [],
   "source": [
    "try:\n",
    "    list_of_cells = [tuned_cells['consumption_25_4s_us'][0], tuned_cells['shock_10_4s_us'][1]]\n",
    "    rest_of_cells = np.delete(range(events.shape[1]), np.concatenate(list_of_cells))\n",
    "    list_of_cells.append(rest_of_cells)\n",
    "    \n",
    "    fig, ax = pl.subplots(1, 1, figsize=(3, 3))\n",
    "    pt.plot_rois(mean_image, contours,\n",
    "                 list_of_cells,\n",
    "                 colors=['b', 'r', '0.65'],\n",
    "                 ax=ax\n",
    "                )\n",
    "    ax.set_xticks(())\n",
    "    ax.set_yticks(())\n",
    "    ax.text(200, 15, 'pos. tuned sucrose', color='b', fontsize=5)\n",
    "    ax.text(200, 30, 'neg. tuned shock', color='r', fontsize=5)\n",
    "    ax.text(200, 45, 'both', color='b', fontsize=5, alpha=0.5)\n",
    "    ax.text(200, 45, 'both', color='r', fontsize=5, alpha=0.5)\n",
    "except:\n",
    "    print 'failed'"
   ]
  },
  {
   "cell_type": "code",
   "execution_count": null,
   "metadata": {
    "collapsed": false
   },
   "outputs": [],
   "source": [
    "try:\n",
    "    list_of_cells = [tuned_cells['consumption_25_4s_us'][1], tuned_cells['shock_10_4s_us'][0]]\n",
    "    rest_of_cells = np.delete(range(events.shape[1]), np.concatenate(list_of_cells))\n",
    "    list_of_cells.append(rest_of_cells)\n",
    "    \n",
    "    fig, ax = pl.subplots(1, 1, figsize=(3, 3))\n",
    "    pt.plot_rois(mean_image, contours,\n",
    "                 list_of_cells,\n",
    "                 colors=['b', 'r', '0.65'],\n",
    "                 ax=ax\n",
    "                )\n",
    "    ax.set_xticks(())\n",
    "    ax.set_yticks(())\n",
    "    ax.text(200, 15, 'neg. tuned sucrose', color='b', fontsize=5)\n",
    "    ax.text(200, 30, 'pos. tuned shock', color='r', fontsize=5)\n",
    "    ax.text(200, 45, 'both', color='b', fontsize=5, alpha=0.5)\n",
    "    ax.text(200, 45, 'both', color='r', fontsize=5, alpha=0.5)\n",
    "except:\n",
    "    print 'failed'"
   ]
  },
  {
   "cell_type": "code",
   "execution_count": null,
   "metadata": {
    "collapsed": false
   },
   "outputs": [],
   "source": [
    "try:\n",
    "    list_of_cells = [tuned_cells['female_4s_us'][0], tuned_cells['coyote_4s_us'][0]]\n",
    "    rest_of_cells = np.delete(range(events.shape[1]), np.concatenate(list_of_cells))\n",
    "    list_of_cells.append(rest_of_cells)\n",
    "    \n",
    "    fig, ax = pl.subplots(1, 1, figsize=(3, 3))\n",
    "    pt.plot_rois(mean_image, contours,\n",
    "                 list_of_cells,\n",
    "                 colors=['darkorange', 'b', '0.65'],\n",
    "                 ax=ax\n",
    "                )\n",
    "    ax.set_xticks(())\n",
    "    ax.set_yticks(())\n",
    "    ax.text(200, 15, 'pos. tuned female', color='darkorange', fontsize=5)\n",
    "    ax.text(200, 30, 'pos. tuned coyote', color='b', fontsize=5)\n",
    "    ax.text(200, 45, 'both', color='darkorange', fontsize=5, alpha=0.5)\n",
    "    ax.text(200, 45, 'both', color='b', fontsize=5, alpha=0.5)\n",
    "except:\n",
    "    print 'failed'"
   ]
  },
  {
   "cell_type": "code",
   "execution_count": null,
   "metadata": {
    "collapsed": false
   },
   "outputs": [],
   "source": [
    "try:\n",
    "    list_of_cells = [tuned_cells['female_4s_us'][1], tuned_cells['coyote_4s_us'][1]]\n",
    "    rest_of_cells = np.delete(range(events.shape[1]), np.concatenate(list_of_cells))\n",
    "    list_of_cells.append(rest_of_cells)\n",
    "    \n",
    "    fig, ax = pl.subplots(1, 1, figsize=(3, 3))\n",
    "    pt.plot_rois(mean_image, contours,\n",
    "                 list_of_cells,\n",
    "                 colors=['darkorange', 'b', '0.65'],\n",
    "                 ax=ax\n",
    "                )\n",
    "    ax.set_xticks(())\n",
    "    ax.set_yticks(())\n",
    "    ax.text(200, 15, 'neg. tuned female', color='darkorange', fontsize=5)\n",
    "    ax.text(200, 30, 'nge. tuned coyote', color='b', fontsize=5)\n",
    "    ax.text(200, 45, 'both', color='darkorange', fontsize=5, alpha=0.5)\n",
    "    ax.text(200, 45, 'both', color='b', fontsize=5, alpha=0.5)\n",
    "except:\n",
    "    print 'failed'"
   ]
  },
  {
   "cell_type": "code",
   "execution_count": null,
   "metadata": {
    "collapsed": false
   },
   "outputs": [],
   "source": [
    "try:\n",
    "    list_of_cells = [tuned_cells['consumption_25_4s_us'][0], tuned_cells['female_4s_us'][0]]\n",
    "    rest_of_cells = np.delete(range(events.shape[1]), np.concatenate(list_of_cells))\n",
    "    list_of_cells.append(rest_of_cells)\n",
    "    \n",
    "    fig, ax = pl.subplots(1, 1, figsize=(3, 3))\n",
    "    pt.plot_rois(mean_image, contours,\n",
    "                 list_of_cells,\n",
    "                 colors=['b', 'r', '0.65'],\n",
    "                 ax=ax\n",
    "                )\n",
    "    ax.set_xticks(())\n",
    "    ax.set_yticks(())\n",
    "    ax.text(200, 15, 'pos. tuned sucrose', color='b', fontsize=5)\n",
    "    ax.text(200, 30, 'pos. tuned female', color='r', fontsize=5)\n",
    "    ax.text(200, 45, 'both', color='b', fontsize=5, alpha=0.5)\n",
    "    ax.text(200, 45, 'both', color='r', fontsize=5, alpha=0.5)\n",
    "except:\n",
    "    print 'failed'"
   ]
  },
  {
   "cell_type": "code",
   "execution_count": null,
   "metadata": {
    "collapsed": false
   },
   "outputs": [],
   "source": [
    "try:\n",
    "    list_of_cells = [tuned_cells['coyote_4s_us'][0], tuned_cells['shock_10_4s_us'][0]]\n",
    "    rest_of_cells = np.delete(range(events.shape[1]), np.concatenate(list_of_cells))\n",
    "    list_of_cells.append(rest_of_cells)\n",
    "    \n",
    "    fig, ax = pl.subplots(1, 1, figsize=(3, 3))\n",
    "    pt.plot_rois(mean_image, contours,\n",
    "                 list_of_cells,\n",
    "                 colors=['b', 'r', '0.65'],\n",
    "                 ax=ax\n",
    "                )\n",
    "    ax.set_xticks(())\n",
    "    ax.set_yticks(())\n",
    "    ax.text(200, 15, 'pos. tuned coyote', color='b', fontsize=5)\n",
    "    ax.text(200, 30, 'pos. tuned shock', color='r', fontsize=5)\n",
    "    ax.text(200, 45, 'both', color='b', fontsize=5, alpha=0.5)\n",
    "    ax.text(200, 45, 'both', color='r', fontsize=5, alpha=0.5)\n",
    "except:\n",
    "    print 'failed'"
   ]
  },
  {
   "cell_type": "code",
   "execution_count": null,
   "metadata": {
    "collapsed": false
   },
   "outputs": [],
   "source": [
    "try:\n",
    "    list_of_cells = [tuned_cells['consumption_25_4s_us'][0], tuned_cells['coyote_4s_us'][0]]\n",
    "    rest_of_cells = np.delete(range(events.shape[1]), np.concatenate(list_of_cells))\n",
    "    list_of_cells.append(rest_of_cells)\n",
    "    \n",
    "    fig, ax = pl.subplots(1, 1, figsize=(3, 3))\n",
    "    pt.plot_rois(mean_image, contours,\n",
    "                 list_of_cells,\n",
    "                 colors=['b', 'r', '0.65'],\n",
    "                 ax=ax\n",
    "                )\n",
    "    ax.set_xticks(())\n",
    "    ax.set_yticks(())\n",
    "    ax.text(200, 15, 'pos. tuned sucrose', color='b', fontsize=5)\n",
    "    ax.text(200, 30, 'pos. tuned coyote', color='r', fontsize=5)\n",
    "    ax.text(200, 45, 'both', color='b', fontsize=5, alpha=0.5)\n",
    "    ax.text(200, 45, 'both', color='r', fontsize=5, alpha=0.5)\n",
    "except:\n",
    "    print 'failed'"
   ]
  },
  {
   "cell_type": "code",
   "execution_count": null,
   "metadata": {
    "collapsed": false
   },
   "outputs": [],
   "source": [
    "try:\n",
    "    list_of_cells = [tuned_cells['female_4s_us'][0], tuned_cells['shock_10_4s_us'][0]]\n",
    "    rest_of_cells = np.delete(range(events.shape[1]), np.concatenate(list_of_cells))\n",
    "    list_of_cells.append(rest_of_cells)\n",
    "    \n",
    "    fig, ax = pl.subplots(1, 1, figsize=(3, 3))\n",
    "    pt.plot_rois(mean_image, contours,\n",
    "                 list_of_cells,\n",
    "                 colors=['b', 'r', '0.65'],\n",
    "                 ax=ax\n",
    "                )\n",
    "    ax.set_xticks(())\n",
    "    ax.set_yticks(())\n",
    "    ax.text(200, 15, 'pos. tuned female', color='b', fontsize=5)\n",
    "    ax.text(200, 30, 'pos. tuned shock', color='r', fontsize=5)\n",
    "    ax.text(200, 45, 'both', color='b', fontsize=5, alpha=0.5)\n",
    "    ax.text(200, 45, 'both', color='r', fontsize=5, alpha=0.5)\n",
    "except:\n",
    "    print 'failed'"
   ]
  },
  {
   "cell_type": "code",
   "execution_count": null,
   "metadata": {
    "collapsed": false
   },
   "outputs": [],
   "source": [
    "try:\n",
    "    list_of_cells = [tuned_cells['blast_4s_us'][0], tuned_cells['shock_10_4s_us'][0]]\n",
    "    rest_of_cells = np.delete(range(events.shape[1]), np.concatenate(list_of_cells))\n",
    "    list_of_cells.append(rest_of_cells)\n",
    "    \n",
    "    fig, ax = pl.subplots(1, 1, figsize=(3, 3))\n",
    "    pt.plot_rois(mean_image, contours,\n",
    "                 list_of_cells,\n",
    "                 colors=['b', 'r', '0.65'],\n",
    "                 ax=ax\n",
    "                )\n",
    "    ax.set_xticks(())\n",
    "    ax.set_yticks(())\n",
    "    ax.text(200, 15, 'pos. tuned blast', color='b', fontsize=5)\n",
    "    ax.text(200, 30, 'pos. tuned shock', color='r', fontsize=5)\n",
    "    ax.text(200, 45, 'both', color='b', fontsize=5, alpha=0.5)\n",
    "    ax.text(200, 45, 'both', color='r', fontsize=5, alpha=0.5)\n",
    "except:\n",
    "    print 'failed'"
   ]
  },
  {
   "cell_type": "code",
   "execution_count": null,
   "metadata": {
    "collapsed": false
   },
   "outputs": [],
   "source": [
    "try:\n",
    "    list_of_cells = [tuned_cells['blast_4s_us'][0], tuned_cells['sucrose_10_4s_us'][0]]\n",
    "    rest_of_cells = np.delete(range(events.shape[1]), np.concatenate(list_of_cells))\n",
    "    list_of_cells.append(rest_of_cells)\n",
    "    \n",
    "    fig, ax = pl.subplots(1, 1, figsize=(3, 3))\n",
    "    pt.plot_rois(mean_image, contours,\n",
    "                 list_of_cells,\n",
    "                 colors=['b', 'r', '0.65'],\n",
    "                 ax=ax\n",
    "                )\n",
    "    ax.set_xticks(())\n",
    "    ax.set_yticks(())\n",
    "    ax.text(200, 15, 'pos. tuned female', color='b', fontsize=5)\n",
    "    ax.text(200, 30, 'pos. tuned shock', color='r', fontsize=5)\n",
    "    ax.text(200, 45, 'both', color='b', fontsize=5, alpha=0.5)\n",
    "    ax.text(200, 45, 'both', color='r', fontsize=5, alpha=0.5)\n",
    "except:\n",
    "    print 'failed'"
   ]
  },
  {
   "cell_type": "code",
   "execution_count": null,
   "metadata": {
    "collapsed": false
   },
   "outputs": [],
   "source": [
    "save_workspace(db)"
   ]
  },
  {
   "cell_type": "code",
   "execution_count": null,
   "metadata": {
    "collapsed": true
   },
   "outputs": [],
   "source": []
  }
 ],
 "metadata": {
  "anaconda-cloud": {},
  "kernelspec": {
   "display_name": "Python [default]",
   "language": "python",
   "name": "python2"
  },
  "language_info": {
   "codemirror_mode": {
    "name": "ipython",
    "version": 2
   },
   "file_extension": ".py",
   "mimetype": "text/x-python",
   "name": "python",
   "nbconvert_exporter": "python",
   "pygments_lexer": "ipython2",
   "version": "2.7.12"
  }
 },
 "nbformat": 4,
 "nbformat_minor": 2
}
