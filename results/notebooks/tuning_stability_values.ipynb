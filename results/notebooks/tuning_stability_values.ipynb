{
 "cells": [
  {
   "cell_type": "code",
   "execution_count": 1,
   "metadata": {
    "collapsed": false
   },
   "outputs": [
    {
     "data": {
      "text/html": [
       "<script>jQuery(function() {if (jQuery(\"body.notebook_app\").length == 0) { jQuery(\".input_area\").toggle(); jQuery(\".prompt\").toggle();}});</script>"
      ]
     },
     "metadata": {},
     "output_type": "display_data"
    },
    {
     "data": {
      "text/html": [
       "<button onclick=\"jQuery('.input_area').toggle(); jQuery('.prompt').toggle();\">Toggle code</button>"
      ]
     },
     "metadata": {},
     "output_type": "display_data"
    }
   ],
   "source": [
    "from IPython.display import display\n",
    "from IPython.display import HTML\n",
    "import IPython.core.display as di # Example: di.display_html('<h3>%s:</h3>' % str, raw=True)\n",
    "\n",
    "# This line will hide code by default when the notebook is exported as HTML\n",
    "di.display_html('<script>jQuery(function() {if (jQuery(\"body.notebook_app\").length == 0) { jQuery(\".input_area\").toggle(); jQuery(\".prompt\").toggle();}});</script>', raw=True)\n",
    "\n",
    "# This line will add a button to toggle visibility of code blocks, for use with the HTML export version\n",
    "di.display_html('''<button onclick=\"jQuery('.input_area').toggle(); jQuery('.prompt').toggle();\">Toggle code</button>''', raw=True)\n"
   ]
  },
  {
   "cell_type": "code",
   "execution_count": 2,
   "metadata": {
    "collapsed": true
   },
   "outputs": [],
   "source": [
    "# all modules necessary for this nb\n",
    "import os\n",
    "import sys\n",
    "import pickle\n",
    "\n",
    "import numpy as np\n",
    "import pylab as pl\n",
    "\n",
    "# setting parameters for default matplotlib plots\n",
    "%matplotlib inline"
   ]
  },
  {
   "cell_type": "code",
   "execution_count": 3,
   "metadata": {
    "collapsed": false
   },
   "outputs": [
    {
     "name": "stdout",
     "output_type": "stream",
     "text": [
      "mkdir: cannot create directory ‘../img’: File exists\r\n"
     ]
    }
   ],
   "source": [
    "pl.style.use('fabiostyle')\n",
    "!mkdir ../img\n",
    "\n",
    "# needs to find the library of functions\n",
    "sys.path.append('/home/fabios/data/data/Jeremy2pValence_ForAnalysis/code/')  # to be replaced!\n",
    "\n",
    "import utils as ut\n",
    "import plots as pt"
   ]
  },
  {
   "cell_type": "code",
   "execution_count": 4,
   "metadata": {
    "collapsed": true
   },
   "outputs": [],
   "source": [
    "NOTEBOOK_NAME = 'tuning_stability_values'"
   ]
  },
  {
   "cell_type": "code",
   "execution_count": 5,
   "metadata": {
    "collapsed": false
   },
   "outputs": [],
   "source": [
    "from pickleshare import PickleShareDB\n",
    "\n",
    "autorestore_folder = os.path.join(os.getcwd(), 'autorestore', NOTEBOOK_NAME)\n",
    "db = PickleShareDB(autorestore_folder)\n",
    "import sys\n",
    "from workspace import *\n",
    "import IPython\n",
    "ip = IPython.get_ipython()\n",
    "\n",
    "# this will restore all the saved variables. ignore the errors listed.\n",
    "load_workspace(ip, db)\n",
    "\n",
    "# use `save_worspace(db)` to save variables at the end"
   ]
  },
  {
   "cell_type": "code",
   "execution_count": 6,
   "metadata": {
    "collapsed": false
   },
   "outputs": [],
   "source": [
    "vars_pre = {}\n",
    "folder = '../day1/sucroseAndShock/notebooks/autorestore/preprocessing_SucroseAndShock/'\n",
    "for var in ('time_ax', 'time_ax_single', 'events', 'cycles', 'licks',\n",
    "            'is_rewardt', \n",
    "            'CYCLE_START',\n",
    "            'US_START', 'US_DURATION', 'US_END'): \n",
    "    vars_pre.update({var:ut.load_variable(var, folder=folder)})\n",
    "\n",
    "    \n",
    "vars_post = {}\n",
    "folder = '../day2/sucroseAndShock/notebooks/autorestore/preprocessing_SucroseAndShock/'\n",
    "for var in ('time_ax', 'time_ax_single', 'events', 'cycles', 'licks',\n",
    "            'is_rewardt',\n",
    "            'CYCLE_START',\n",
    "            'US_START', 'US_DURATION', 'US_END'): \n",
    "    vars_post.update({var:ut.load_variable(var, folder=folder)})\n",
    "\n",
    "    \n",
    "selectivity_pre = {}\n",
    "selectivity_pre.update(ut.load_variable('selectivity', folder='../day1/sucroseAndShock/notebooks/autorestore/selectivity_SucroseAndShock/'))\n",
    "\n",
    "selectivity_post = {}\n",
    "selectivity_post.update(ut.load_variable('selectivity', folder='../day2/sucroseAndShock/notebooks/autorestore/selectivity_SucroseAndShock/'))\n",
    "    \n",
    "selectivity_pre_constrained = {}\n",
    "selectivity_pre_constrained.update(ut.load_variable('selectivity', folder='../day1/sucroseAndShock/notebooks/autorestore/selectivity_SucroseAndShock/'))\n",
    "\n",
    "selectivity_post_constrained = {}\n",
    "selectivity_post_constrained.update(ut.load_variable('selectivity', folder='../day2/sucroseAndShock/notebooks/autorestore/selectivity_SucroseAndShock/'))\n",
    "\n",
    "\n",
    "# corrs_pre = {}\n",
    "# folder = '../day1/sucroseAndShock/notebooks/autorestore/selectivity_SucroseAndShock/'\n",
    "# for var in ('correlatedLicks_US','correlatedLicks_CS_US','correlatedLicks_Tr_US','correlatedLicks_CS_Tr'): \n",
    "#     corrs_pre.update({var:ut.load_variable(var, folder=folder)})\n",
    "\n",
    "# corrs_post = {}\n",
    "# folder = '../post/notebooks/autorestore/selectivity'\n",
    "# for var in ( 'correlatedLicks_US','correlatedLicks_CS_US','correlatedLicks_Tr_US','correlatedLicks_CS_Tr'): \n",
    "#     corrs_post.update({var:ut.load_variable(var, folder=folder)})\n"
   ]
  },
  {
   "cell_type": "code",
   "execution_count": 7,
   "metadata": {
    "collapsed": false
   },
   "outputs": [],
   "source": [
    "import json\n",
    "\n",
    "with open('../data/cellreg_dict.txt', 'w+') as f:\n",
    "    a = np.loadtxt('../data/CellReg/SS/cellreg.txt')\n",
    "    json.dump(dict(day1=a[:, 0].astype(int).tolist(), day2=a[:, 1].astype(int).tolist()), f)"
   ]
  },
  {
   "cell_type": "code",
   "execution_count": 8,
   "metadata": {
    "collapsed": false
   },
   "outputs": [],
   "source": [
    "conditions = ['day1', 'day2']\n",
    "cellregs = dict(zip(conditions, [ut.load_cellreg_dict('../data/cellreg_dict.txt', c) for c in conditions]))"
   ]
  },
  {
   "cell_type": "code",
   "execution_count": 9,
   "metadata": {
    "collapsed": true
   },
   "outputs": [],
   "source": [
    "# import json\n",
    "\n",
    "# with open('../data/cellreg_dict.txt') as f:\n",
    "#     cellregs = json.load(f)"
   ]
  },
  {
   "cell_type": "code",
   "execution_count": 10,
   "metadata": {
    "collapsed": false
   },
   "outputs": [
    {
     "data": {
      "text/plain": [
       "['reward_4s_pre',\n",
       " 'shock_us',\n",
       " 'reward_late',\n",
       " 'reward_4s_us',\n",
       " 'shock_4s_pre',\n",
       " 'shock_pre',\n",
       " 'shock_4s_us',\n",
       " 'reward_pre',\n",
       " 'shock_late',\n",
       " 'reward_us']"
      ]
     },
     "execution_count": 10,
     "metadata": {},
     "output_type": "execute_result"
    }
   ],
   "source": [
    "selectivity_pre.keys()"
   ]
  },
  {
   "cell_type": "code",
   "execution_count": 11,
   "metadata": {
    "collapsed": true
   },
   "outputs": [],
   "source": [
    "pvalue = 0.05"
   ]
  },
  {
   "cell_type": "code",
   "execution_count": 12,
   "metadata": {
    "collapsed": false
   },
   "outputs": [],
   "source": [
    "# all cells\n",
    "pvalues_allpre_rew = ut.adjust_pvalues([s[0][-1] for s in selectivity_pre['reward_4s_us']])\n",
    "d_up = np.r_[[s[1]>0 for s in selectivity_pre['reward_4s_us']]]\n",
    "d_dn = np.r_[[s[1]<0 for s in selectivity_pre['reward_4s_us']]]\n",
    "cells_allpre_rew_up = (ut.adjust_pvalues(pvalues_allpre_rew) < pvalue) * d_up\n",
    "cells_allpre_rew_dn = (ut.adjust_pvalues(pvalues_allpre_rew) < pvalue) * d_dn\n",
    "cells_allpre_rew = ut.adjust_pvalues(pvalues_allpre_rew) < pvalue\n",
    "\n",
    "pvalues_allpost_rew = ut.adjust_pvalues([s[0][-1] for s in selectivity_post['reward_4s_us']])\n",
    "d_up = np.r_[[s[1]>0 for s in selectivity_post['reward_4s_us']]]\n",
    "d_dn = np.r_[[s[1]<0 for s in selectivity_post['reward_4s_us']]]\n",
    "cells_allpost_rew_up = (ut.adjust_pvalues(pvalues_allpost_rew) < pvalue) * d_up\n",
    "cells_allpost_rew_dn = (ut.adjust_pvalues(pvalues_allpost_rew) < pvalue) * d_dn\n",
    "cells_allpost_rew = ut.adjust_pvalues(pvalues_allpost_rew) < pvalue\n",
    "\n",
    "pvalues_allpre_sho = ut.adjust_pvalues([s[0][-1] for s in selectivity_pre['shock_4s_us']])\n",
    "d_up = np.r_[[s[1]>0 for s in selectivity_pre['shock_4s_us']]]\n",
    "d_dn = np.r_[[s[1]<0 for s in selectivity_pre['shock_4s_us']]]\n",
    "cells_allpre_sho_up = (ut.adjust_pvalues(pvalues_allpre_sho) < pvalue) * d_up\n",
    "cells_allpre_sho_dn = (ut.adjust_pvalues(pvalues_allpre_sho) < pvalue) * d_dn\n",
    "cells_allpre_sho = ut.adjust_pvalues(pvalues_allpre_sho) < pvalue\n",
    "\n",
    "pvalues_allpost_sho = ut.adjust_pvalues([s[0][-1] for s in selectivity_post['shock_4s_us']])\n",
    "d_up = np.r_[[s[1]>0 for s in selectivity_post['shock_4s_us']]]\n",
    "d_dn = np.r_[[s[1]<0 for s in selectivity_post['shock_4s_us']]]\n",
    "cells_allpost_sho_up = (ut.adjust_pvalues(pvalues_allpost_sho) < pvalue) * d_up\n",
    "cells_allpost_sho_dn = (ut.adjust_pvalues(pvalues_allpost_sho) < pvalue) * d_dn\n",
    "cells_allpost_sho = ut.adjust_pvalues(pvalues_allpost_sho) < pvalue\n",
    "\n",
    "# registered\n",
    "pvalues_pre_rew = ut.adjust_pvalues([s[0][-1] for s in selectivity_pre['reward_4s_us']])[cellregs['day1']]\n",
    "d_up = np.r_[[s[1]>0 for s in selectivity_pre['reward_4s_us']]][cellregs['day1']]\n",
    "d_dn = np.r_[[s[1]<0 for s in selectivity_pre['reward_4s_us']]][cellregs['day1']]\n",
    "cells_pre_rew_up = (ut.adjust_pvalues(pvalues_pre_rew) < pvalue) * d_up\n",
    "cells_pre_rew_dn = (ut.adjust_pvalues(pvalues_pre_rew) < pvalue) * d_dn\n",
    "cells_pre_rew = ut.adjust_pvalues(pvalues_pre_rew) < pvalue\n",
    "\n",
    "pvalues_post_rew = ut.adjust_pvalues([s[0][-1] for s in selectivity_post['reward_4s_us']])[cellregs['day2']]\n",
    "d_up = np.r_[[s[1]>0 for s in selectivity_post['reward_4s_us']]][cellregs['day2']]\n",
    "d_dn = np.r_[[s[1]<0 for s in selectivity_post['reward_4s_us']]][cellregs['day2']]\n",
    "cells_post_rew_up = (ut.adjust_pvalues(pvalues_post_rew) < pvalue) * d_up\n",
    "cells_post_rew_dn = (ut.adjust_pvalues(pvalues_post_rew) < pvalue) * d_dn\n",
    "cells_post_rew = ut.adjust_pvalues(pvalues_post_rew) < pvalue\n",
    "\n",
    "pvalues_pre_sho = ut.adjust_pvalues([s[0][-1] for s in selectivity_pre['shock_4s_us']])[cellregs['day1']]\n",
    "d_up = np.r_[[s[1]>0 for s in selectivity_pre['shock_4s_us']]][cellregs['day1']]\n",
    "d_dn = np.r_[[s[1]<0 for s in selectivity_pre['shock_4s_us']]][cellregs['day1']]\n",
    "cells_pre_sho_up = (ut.adjust_pvalues(pvalues_pre_sho) < pvalue) * d_up\n",
    "cells_pre_sho_dn = (ut.adjust_pvalues(pvalues_pre_sho) < pvalue) * d_dn\n",
    "cells_pre_sho = ut.adjust_pvalues(pvalues_pre_sho) < pvalue\n",
    "\n",
    "pvalues_post_sho = ut.adjust_pvalues([s[0][-1] for s in selectivity_post['shock_4s_us']])[cellregs['day2']]\n",
    "d_up = np.r_[[s[1]>0 for s in selectivity_post['shock_4s_us']]][cellregs['day2']]\n",
    "d_dn = np.r_[[s[1]<0 for s in selectivity_post['shock_4s_us']]][cellregs['day2']]\n",
    "cells_post_sho_up = (ut.adjust_pvalues(pvalues_post_sho) < pvalue) * d_up\n",
    "cells_post_sho_dn = (ut.adjust_pvalues(pvalues_post_sho) < pvalue) * d_dn\n",
    "cells_post_sho = ut.adjust_pvalues(pvalues_post_sho) < pvalue"
   ]
  },
  {
   "cell_type": "code",
   "execution_count": 16,
   "metadata": {
    "collapsed": false
   },
   "outputs": [],
   "source": [
    "# all cells\n",
    "pvalues_allpre_rew_constrained = ut.adjust_pvalues([s[0][-1] for s in selectivity_pre_constrained['reward_4s_us']])\n",
    "d_up_constrained = np.r_[[s[1]>0 for s in selectivity_pre_constrained['reward_4s_us']]]\n",
    "d_dn_constrained = np.r_[[s[1]<0 for s in selectivity_pre_constrained['reward_4s_us']]]\n",
    "cells_allpre_rew_up_constrained = (ut.adjust_pvalues(pvalues_allpre_rew_constrained) < pvalue) * d_up_constrained\n",
    "cells_allpre_rew_dn_constrained = (ut.adjust_pvalues(pvalues_allpre_rew_constrained) < pvalue) * d_dn_constrained\n",
    "cells_allpre_rew_constrained = ut.adjust_pvalues(pvalues_allpre_rew_constrained) < pvalue\n",
    "\n",
    "pvalues_allpost_rew_constrained = ut.adjust_pvalues([s[0][-1] for s in selectivity_post_constrained['reward_4s_us']])\n",
    "d_up_constrained = np.r_[[s[1]>0 for s in selectivity_post_constrained['reward_4s_us']]]\n",
    "d_dn_constrained = np.r_[[s[1]<0 for s in selectivity_post_constrained['reward_4s_us']]]\n",
    "cells_allpost_rew_up_constrained = (ut.adjust_pvalues(pvalues_allpost_rew_constrained) < pvalue) * d_up_constrained\n",
    "cells_allpost_rew_dn_constrained = (ut.adjust_pvalues(pvalues_allpost_rew_constrained) < pvalue) * d_dn_constrained\n",
    "cells_allpost_rew_constrained= ut.adjust_pvalues(pvalues_allpost_rew_constrained) < pvalue\n",
    "\n",
    "pvalues_allpre_sho_constrained = ut.adjust_pvalues([s[0][-1] for s in selectivity_pre_constrained['shock_4s_us']])\n",
    "d_up_constrained = np.r_[[s[1]>0 for s in selectivity_pre['shock_4s_us']]]\n",
    "d_dn_constrained = np.r_[[s[1]<0 for s in selectivity_pre['shock_4s_us']]]\n",
    "cells_allpre_sho_up_constrained = (ut.adjust_pvalues(pvalues_allpre_sho_constrained) < pvalue) * d_up_constrained\n",
    "cells_allpre_sho_dn_constrained = (ut.adjust_pvalues(pvalues_allpre_sho_constrained) < pvalue) * d_dn_constrained\n",
    "cells_allpre_sho_constrained = ut.adjust_pvalues(pvalues_allpre_sho_constrained) < pvalue\n",
    "\n",
    "pvalues_allpost_sho_constrained = ut.adjust_pvalues([s[0][-1] for s in selectivity_post_constrained['shock_4s_us']])\n",
    "d_up_constrained = np.r_[[s[1]>0 for s in selectivity_post_constrained['shock_4s_us']]]\n",
    "d_dn_constrained = np.r_[[s[1]<0 for s in selectivity_post_constrained['shock_4s_us']]]\n",
    "cells_allpost_sho_up_constrained = (ut.adjust_pvalues(pvalues_allpost_sho_constrained) < pvalue) * d_up_constrained\n",
    "cells_allpost_sho_dn_constrained = (ut.adjust_pvalues(pvalues_allpost_sho_constrained) < pvalue) * d_dn_constrained\n",
    "cells_allpost_sho_constrained = ut.adjust_pvalues(pvalues_allpost_sho_constrained) < pvalue\n",
    "\n",
    "# registered\n",
    "pvalues_pre_rew_constrained = ut.adjust_pvalues([s[0][-1] for s in selectivity_pre_constrained['reward_4s_us']])[cellregs['day1']]\n",
    "d_up_constrained = np.r_[[s[1]>0 for s in selectivity_pre_constrained['reward_4s_us']]][cellregs['day1']]\n",
    "d_dn_constrained = np.r_[[s[1]<0 for s in selectivity_pre_constrained['reward_4s_us']]][cellregs['day1']]\n",
    "cells_pre_rew_up_constrained = (ut.adjust_pvalues(pvalues_pre_rew_constrained) < pvalue) * d_up_constrained\n",
    "cells_pre_rew_dn_constrained = (ut.adjust_pvalues(pvalues_pre_rew_constrained) < pvalue) * d_dn_constrained\n",
    "cells_pre_rew_constrained = ut.adjust_pvalues(pvalues_pre_rew_constrained) < pvalue\n",
    "\n",
    "pvalues_post_rew_constrained = ut.adjust_pvalues([s[0][-1] for s in selectivity_post_constrained['reward_4s_us']])[cellregs['day2']]\n",
    "d_up_constrained = np.r_[[s[1]>0 for s in selectivity_post_constrained['reward_4s_us']]][cellregs['day2']]\n",
    "d_dn_constrained = np.r_[[s[1]<0 for s in selectivity_post_constrained['reward_4s_us']]][cellregs['day2']]\n",
    "cells_post_rew_up_constrained = (ut.adjust_pvalues(pvalues_post_rew_constrained) < pvalue) * d_up_constrained\n",
    "cells_post_rew_dn_constrained = (ut.adjust_pvalues(pvalues_post_rew_constrained) < pvalue) * d_dn_constrained\n",
    "cells_post_rew_constrained = ut.adjust_pvalues(pvalues_post_rew_constrained) < pvalue\n",
    "\n",
    "pvalues_pre_sho_constrained = ut.adjust_pvalues([s[0][-1] for s in selectivity_pre_constrained['shock_4s_us']])[cellregs['day1']]\n",
    "d_up_constrained = np.r_[[s[1]>0 for s in selectivity_pre_constrained['shock_4s_us']]][cellregs['day1']]\n",
    "d_dn_constrained = np.r_[[s[1]<0 for s in selectivity_pre_constrained['shock_4s_us']]][cellregs['day1']]\n",
    "cells_pre_sho_up_constrained = (ut.adjust_pvalues(pvalues_pre_sho_constrained) < pvalue) * d_up_constrained\n",
    "cells_pre_sho_dn_constrained = (ut.adjust_pvalues(pvalues_pre_sho_constrained) < pvalue) * d_dn_constrained\n",
    "cells_pre_sho_constrained = ut.adjust_pvalues(pvalues_pre_sho_constrained) < pvalue\n",
    "\n",
    "pvalues_post_sho_constrained = ut.adjust_pvalues([s[0][-1] for s in selectivity_post_constrained['shock_4s_us']])[cellregs['day2']]\n",
    "d_up_constrained = np.r_[[s[1]>0 for s in selectivity_post_constrained['shock_4s_us']]][cellregs['day2']]\n",
    "d_dn_constrained = np.r_[[s[1]<0 for s in selectivity_post_constrained['shock_4s_us']]][cellregs['day2']]\n",
    "cells_post_sho_up_constrained = (ut.adjust_pvalues(pvalues_post_sho_constrained) < pvalue) * d_up_constrained\n",
    "cells_post_sho_dn_constrained = (ut.adjust_pvalues(pvalues_post_sho_constrained) < pvalue) * d_dn_constrained\n",
    "cells_post_sho_constrained = ut.adjust_pvalues(pvalues_post_sho_constrained) < pvalue"
   ]
  },
  {
   "cell_type": "code",
   "execution_count": 17,
   "metadata": {
    "collapsed": false,
    "scrolled": true
   },
   "outputs": [
    {
     "name": "stdout",
     "output_type": "stream",
     "text": [
      "Could not store variable 'di'. Skipping...\n",
      "Could not store variable 'os'. Skipping...\n",
      "Could not store variable 'IPython'. Skipping...\n",
      "Could not store variable 'pt'. Skipping...\n",
      "Could not store variable 'json'. Skipping...\n",
      "Could not store variable 'pl'. Skipping...\n",
      "Could not store variable 'ut'. Skipping...\n",
      "Could not store variable 'ip'. Skipping...\n",
      "Could not store variable 'np'. Skipping...\n",
      "Could not store variable 'sys'. Skipping...\n",
      "Could not store variable 'pickle'. Skipping...\n"
     ]
    }
   ],
   "source": [
    "save_workspace(db)"
   ]
  },
  {
   "cell_type": "code",
   "execution_count": null,
   "metadata": {
    "collapsed": true
   },
   "outputs": [],
   "source": []
  }
 ],
 "metadata": {
  "anaconda-cloud": {},
  "kernelspec": {
   "display_name": "Python [default]",
   "language": "python",
   "name": "python2"
  },
  "language_info": {
   "codemirror_mode": {
    "name": "ipython",
    "version": 2
   },
   "file_extension": ".py",
   "mimetype": "text/x-python",
   "name": "python",
   "nbconvert_exporter": "python",
   "pygments_lexer": "ipython2",
   "version": "2.7.12"
  }
 },
 "nbformat": 4,
 "nbformat_minor": 2
}
