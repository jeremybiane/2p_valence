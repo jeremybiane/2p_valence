{
 "cells": [
  {
   "cell_type": "code",
   "execution_count": null,
   "metadata": {
    "collapsed": false
   },
   "outputs": [],
   "source": [
    "from IPython.display import display\n",
    "from IPython.display import HTML\n",
    "import IPython.core.display as di # Example: di.display_html('<h3>%s:</h3>' % str, raw=True)\n",
    "\n",
    "# This line will hide code by default when the notebook is exported as HTML\n",
    "di.display_html('<script>jQuery(function() {if (jQuery(\"body.notebook_app\").length == 0) { jQuery(\".input_area\").toggle(); jQuery(\".prompt\").toggle();}});</script>', raw=True)\n",
    "\n",
    "# This line will add a button to toggle visibility of code blocks, for use with the HTML export version\n",
    "di.display_html('''<button onclick=\"jQuery('.input_area').toggle(); jQuery('.prompt').toggle();\">Toggle code</button>''', raw=True)\n"
   ]
  },
  {
   "cell_type": "code",
   "execution_count": null,
   "metadata": {
    "collapsed": true
   },
   "outputs": [],
   "source": [
    "# all modules necessary for this nb\n",
    "import os\n",
    "import sys\n",
    "import pickle\n",
    "\n",
    "import numpy as np\n",
    "np.random.seed(0)\n",
    "import pylab as pl\n",
    "import scipy.stats as sstats\n",
    "\n",
    "# setting parameters for default matplotlib plots\n",
    "%matplotlib inline"
   ]
  },
  {
   "cell_type": "code",
   "execution_count": null,
   "metadata": {
    "collapsed": false
   },
   "outputs": [],
   "source": [
    "pl.style.use('fabiostyle')\n",
    "# needs to find the library of functions\n",
    "sys.path.append('../../../code/')  # to be replaced!\n",
    "\n",
    "import utils as ut\n",
    "import plots as pt"
   ]
  },
  {
   "cell_type": "code",
   "execution_count": null,
   "metadata": {
    "collapsed": false
   },
   "outputs": [],
   "source": [
    "NOTEBOOK_NAME = 'overlaps_d1d2'"
   ]
  },
  {
   "cell_type": "code",
   "execution_count": null,
   "metadata": {
    "collapsed": false
   },
   "outputs": [],
   "source": [
    "from pickleshare import PickleShareDB\n",
    "\n",
    "autorestore_folder = os.path.join(os.getcwd(), 'autorestore', NOTEBOOK_NAME)\n",
    "db = PickleShareDB(autorestore_folder)\n",
    "import sys\n",
    "from workspace import *\n",
    "import IPython\n",
    "ip = IPython.get_ipython()\n",
    "\n",
    "# this will restore all the saved variables. ignore the errors listed.\n",
    "load_workspace(ip, db)\n",
    "\n",
    "# use `save_worspace(db)` to save variables at the end"
   ]
  },
  {
   "cell_type": "code",
   "execution_count": null,
   "metadata": {
    "collapsed": false,
    "scrolled": false
   },
   "outputs": [],
   "source": [
    "from itertools import product\n",
    "def load_all_animals_vars(varname, animal_list, pilot_list=None, notebook='preprocessing'):\n",
    "    all_of_them = {}\n",
    "    for ani in animal_list:\n",
    "        folder = '../autorestore/%s/' % (notebook)\n",
    "        all_of_them.update({ani: ut.load_variable(varname, folder)})\n",
    "    return all_of_them"
   ]
  },
  {
   "cell_type": "code",
   "execution_count": null,
   "metadata": {
    "collapsed": false
   },
   "outputs": [],
   "source": [
    "#all_animals = '52', '64', '991', 'NEW_58', #'NEW_57_1day'#, 'NEW_991b'\n",
    "#\n",
    "#animals = all_animals\n",
    "#prod = product(['pre', 'post'], ['rew', 'sho'], ['all', ''],['_constrained'])\n",
    "#\n",
    "## load data for constrained selectivity\n",
    "#animals = all_animals\n",
    "#prod = product(['pre', 'post'], ['rew', 'sho'], ['all', ''])\n",
    "#for a, b, c in prod:\n",
    "#    try:\n",
    "#        what = np.concatenate([ut.load_variable('cells_%s%s_%s'%(c, a, b), '../%s/notebooks/autorestore/tuning_stability_values/'%ani)\n",
    "#                               for ani in animals])\n",
    "#        exec('cells_%s%s_%s_constrained = what'%(c, a, b))\n",
    "#    except IOError:\n",
    "#        print(\"Skip\", ani, a, b, c)"
   ]
  },
  {
   "cell_type": "code",
   "execution_count": null,
   "metadata": {
    "collapsed": false
   },
   "outputs": [],
   "source": [
    "# load data\n",
    "prod = product(['pre', 'post'], ['rew', 'sho', 'coyote', 'female', 'blasts'], ['all', ''])\n",
    "for a, b, c in prod:\n",
    "    try:\n",
    "        exec('cells_%s%s_%s = ut.load_variable(\\'cells_%s%s_%s\\', folder=\\'./autorestore/tuning_stability_values/\\')'%(c,a,b,c, a, b))\n",
    "#        exec('cells_%s%s_%s = what'%(c, a, b))\n",
    "    except IOError:\n",
    "        print(\"Skip\", a, b, c)"
   ]
  },
  {
   "cell_type": "code",
   "execution_count": null,
   "metadata": {
    "collapsed": false
   },
   "outputs": [],
   "source": [
    "print len(cells_allpre_rew)\n",
    "print len(cells_pre_rew)"
   ]
  },
  {
   "cell_type": "code",
   "execution_count": null,
   "metadata": {
    "collapsed": false
   },
   "outputs": [],
   "source": [
    "print cells_pre_sho"
   ]
  },
  {
   "cell_type": "code",
   "execution_count": null,
   "metadata": {
    "collapsed": true
   },
   "outputs": [],
   "source": [
    "N = len(cells_post_rew)\n",
    "n_loops = 5000\n",
    "\n",
    "def calc_shuffle_overlap(pop1, pop2, n_loops=n_loops):\n",
    "     return [(np.random.choice([0, 1], size=N, p=(1-pop1.mean(), pop1.mean()))*\n",
    "                  np.random.choice([0, 1], size=N, p=(1-pop2.mean(), pop2.mean()))).mean() for r in range(n_loops)]\n",
    "\n"
   ]
  },
  {
   "cell_type": "code",
   "execution_count": null,
   "metadata": {
    "collapsed": false
   },
   "outputs": [],
   "source": [
    "n_loops"
   ]
  },
  {
   "cell_type": "code",
   "execution_count": null,
   "metadata": {
    "collapsed": false
   },
   "outputs": [],
   "source": [
    "def sigtest(values, x):\n",
    "    return [None, 1 - sstats.norm(np.mean(values), np.std(values)).cdf(x)]\n",
    "def plot_hist(ax, vals, colors=['0.7', 'k'], bins=np.linspace(0, 0.05, 30), ids=[0, 1]):\n",
    "    # ax.hist(vals2_all[0], bins=10, histtype='step', color='0.7')\n",
    "    y, x = np.histogram(vals[ids[0]], bins=bins, normed=True)\n",
    "    ax.step(x[:-1], y*np.diff(x)[0], color=colors[0], lw=1, where='post')\n",
    "    ax.vlines(vals[ids[1]], 0, 0.4, color=colors[1], lw=1, zorder=19)\n",
    "    y = np.diff(ax.axis()[-2:])*0.95 + ax.axis()[-2]\n",
    "    pt.add_significance(ax, vals[ids[0]], vals[ids[1]], vals[ids[1]], vals[ids[1]], y, sig_func=sigtest)\n",
    "    pt.nicer_plot(ax)"
   ]
  },
  {
   "cell_type": "code",
   "execution_count": null,
   "metadata": {
    "collapsed": true
   },
   "outputs": [],
   "source": [
    "def plot_it(pop1, pop2, untuned, est, labels=['Pre', 'Post', 'Pre+Post', 'Untuned'], title=\"Sucrose\",\n",
    "            colors=[(1, 0., 0.2), (1, 0.5, 0.2), (1, 0.8, 0.2), (0.8, 0.8, 0.8)],\n",
    "            hist_colors=[(1, 0.7, 0.7), 'r']):\n",
    "    fig, axs = pl.subplots(1, 2, figsize=(3, 1))\n",
    "\n",
    "    ax = axs[0]\n",
    "    plot_hist(ax, [est, (pop1*pop2).mean()], bins=np.linspace(0, 0.2, 30),\n",
    "            colors=hist_colors)\n",
    "\n",
    "    ax.set_xlabel('Co-tuned Cells Ratio')\n",
    "    ax.set_ylabel('PDF')\n",
    "\n",
    "    ax.set_xlim(0, 0.3)\n",
    "    ax.set_ylim(0, 0.5)\n",
    "\n",
    "    ax = axs[1]\n",
    "    \n",
    "    t = map(sum, [pop1*~pop2, pop2*~pop1, pop1*pop2, untuned])\n",
    "    total = np.sum(t)\n",
    "    _, txts, _ = ax.pie(t, colors=colors, explode=[0.05]*len(t),\n",
    "                        autopct=lambda x: \"%.1f%%\"%(x),\n",
    "                        labels=labels,\n",
    "                        textprops={'fontsize':3})\n",
    "    for tt in txts:\n",
    "        tt.set_fontsize(5)\n",
    "    ax.text(1, -1.3, 'n = %d'%total, fontsize=3)\n",
    "\n",
    "    ax.set_aspect('equal')\n",
    "    fig.suptitle(title)\n",
    "    \n",
    "    return fig, axs"
   ]
  },
  {
   "cell_type": "code",
   "execution_count": null,
   "metadata": {
    "collapsed": false
   },
   "outputs": [],
   "source": [
    "pop1 = cells_pre_rew\n",
    "pop2 = cells_post_rew\n",
    "unt = ~(cells_pre_rew + cells_post_rew)\n",
    "est = calc_shuffle_overlap(pop1, pop2, n_loops=n_loops)\n",
    "\n",
    "fig, axs = plot_it(pop1, pop2, unt, est)\n",
    "fig.savefig('../img/cotuned_suc_prepost.pdf')"
   ]
  },
  {
   "cell_type": "code",
   "execution_count": null,
   "metadata": {
    "collapsed": false
   },
   "outputs": [],
   "source": [
    "pop1 = cells_pre_sho\n",
    "pop2 = cells_post_sho\n",
    "unt = ~(cells_pre_sho + cells_post_sho)\n",
    "est = calc_shuffle_overlap(pop1, pop2, n_loops=n_loops)\n",
    "\n",
    "colors = [(0, 0.2, 1), (0.5, 0.2, 1), (0.8, 0.2, 1), (0.8, 0.8, 0.8)]\n",
    "fig, axs = plot_it(pop1, pop2, unt, est,\n",
    "                   title='Shock', colors=colors, hist_colors=[(0.7, 0.7, 1), 'b'])\n",
    "fig.savefig('../img/cotuned_sho_prepost.pdf')"
   ]
  },
  {
   "cell_type": "code",
   "execution_count": null,
   "metadata": {
    "collapsed": false
   },
   "outputs": [],
   "source": [
    "#using all cells here, since no need cellReg necessary (data are all from same session)\n",
    "pop1 = cells_allpre_rew\n",
    "pop2 = cells_allpre_sho\n",
    "unt = ~(cells_allpre_rew+cells_allpre_sho)\n",
    "est = calc_shuffle_overlap(pop1, pop2, n_loops=n_loops)\n",
    "\n",
    "colors = [(0, 0.2, 1), (0.5, 0.2, 1), (0.8, 0.2, 1), (0.8, 0.8, 0.8)]\n",
    "fig, axs = plot_it(pop1, pop2, unt, est,\n",
    "                   title='Pre', labels=['Sucrose', 'Shock', 'Sucrose+Shock', 'Untuned'],\n",
    "                   colors=colors, hist_colors=[(0.7, 0.7, 1), 'b'])\n",
    "fig.savefig('../img/cotuned_sucsho_pre.pdf')"
   ]
  },
  {
   "cell_type": "code",
   "execution_count": null,
   "metadata": {
    "collapsed": false
   },
   "outputs": [],
   "source": [
    "#using all cells here, since no need cellReg necessary (data are all from same session)\n",
    "pop1 = cells_allpost_rew\n",
    "pop2 = cells_allpost_sho\n",
    "unt = ~(cells_allpost_rew + cells_allpost_sho)\n",
    "est = calc_shuffle_overlap(pop1, pop2, n_loops=n_loops)\n",
    "\n",
    "fig, axs = plot_it(pop1, pop2, unt, est,\n",
    "                   title='Post', labels=['Sucrose', 'Shock', 'Sucrose+Shock', 'Untuned'])\n",
    "fig.savefig('../img/cotuned_sucho_post.pdf')"
   ]
  },
  {
   "cell_type": "code",
   "execution_count": null,
   "metadata": {
    "collapsed": false
   },
   "outputs": [],
   "source": [
    "pop1 = cells_pre_coyote\n",
    "pop2 = cells_post_coyote\n",
    "unt = ~(cells_pre_coyote + cells_post_coyote\n",
    "est = calc_shuffle_overlap(pop1, pop2, n_loops=n_loops)\n",
    "\n",
    "fig, axs = plot_it(pop1, pop2, unt, est)\n",
    "fig.savefig('../img/cotuned_coyote_prepost.pdf')"
   ]
  },
  {
   "cell_type": "code",
   "execution_count": null,
   "metadata": {
    "collapsed": false
   },
   "outputs": [],
   "source": [
    "pop1 = cells_pre_female\n",
    "pop2 = cells_post_female\n",
    "unt = ~(cells_pre_female + cells_post_female)\n",
    "est = calc_shuffle_overlap(pop1, pop2, n_loops=n_loops)\n",
    "\n",
    "colors = [(0, 0.2, 1), (0.5, 0.2, 1), (0.8, 0.2, 1), (0.8, 0.8, 0.8)]\n",
    "fig, axs = plot_it(pop1, pop2, unt, est,\n",
    "                   title='Female', colors=colors, hist_colors=[(0.7, 0.7, 1), 'b'])\n",
    "fig.savefig('../img/cotuned_female_prepost.pdf')"
   ]
  },
  {
   "cell_type": "code",
   "execution_count": null,
   "metadata": {
    "collapsed": false
   },
   "outputs": [],
   "source": [
    "#using all cells here, since no need cellReg necessary (data are all from same session)\n",
    "pop1 = cells_allpre_coyote\n",
    "pop2 = cells_allpre_female\n",
    "unt = ~(cells_allpre_coyote+cells_allpre_female)\n",
    "est = calc_shuffle_overlap(pop1, pop2, n_loops=n_loops)\n",
    "\n",
    "colors = [(0, 0.2, 1), (0.5, 0.2, 1), (0.8, 0.2, 1), (0.8, 0.8, 0.8)]\n",
    "fig, axs = plot_it(pop1, pop2, unt, est,\n",
    "                   title='Pre', labels=['Coyote', 'Female', 'C+F', 'Untuned'],\n",
    "                   colors=colors, hist_colors=[(0.7, 0.7, 1), 'b'])\n",
    "fig.savefig('../img/cotuned_CandF_pre.pdf')"
   ]
  },
  {
   "cell_type": "code",
   "execution_count": null,
   "metadata": {
    "collapsed": false
   },
   "outputs": [],
   "source": [
    "#using all cells here, since no need cellReg necessary (data are all from same session)\n",
    "pop1 = cells_allpost_coyote\n",
    "pop2 = cells_allpost_female\n",
    "unt = ~(cells_allpost_coyote + cells_allpost_female)\n",
    "est = calc_shuffle_overlap(pop1, pop2, n_loops=n_loops)\n",
    "\n",
    "fig, axs = plot_it(pop1, pop2, unt, est,\n",
    "                   title='Post', labels=['Coyote', 'Female', 'C+F', 'Untuned'],\n",
    "fig.savefig('../img/cotuned_CandF_post.pdf')"
   ]
  },
  {
   "cell_type": "code",
   "execution_count": null,
   "metadata": {
    "collapsed": true
   },
   "outputs": [],
   "source": [
    "pop1 = cells_pre_blasts\n",
    "pop2 = cells_post_blasts\n",
    "unt = ~(cells_pre_blasts + cells_post_blasts\n",
    "est = calc_shuffle_overlap(pop1, pop2, n_loops=n_loops)\n",
    "\n",
    "fig, axs = plot_it(pop1, pop2, unt, est)\n",
    "fig.savefig('../img/cotuned_blasts_prepost.pdf')"
   ]
  },
  {
   "cell_type": "code",
   "execution_count": null,
   "metadata": {
    "collapsed": true
   },
   "outputs": [],
   "source": [
    "#using all cells here, since no need cellReg necessary (data are all from same session)\n",
    "pop1 = cells_allpre_blasts\n",
    "pop2 = cells_allpre_sho\n",
    "unt = ~(cells_allpre_blasts+cells_allpre_sho)\n",
    "est = calc_shuffle_overlap(pop1, pop2, n_loops=n_loops)\n",
    "\n",
    "colors = [(0, 0.2, 1), (0.5, 0.2, 1), (0.8, 0.2, 1), (0.8, 0.8, 0.8)]\n",
    "fig, axs = plot_it(pop1, pop2, unt, est,\n",
    "                   title='Pre', labels=['blasts', 'sho', 'Bl+Sho', 'Untuned'],\n",
    "                   colors=colors, hist_colors=[(0.7, 0.7, 1), 'b'])\n",
    "fig.savefig('../img/cotuned_BandSho_pre.pdf')"
   ]
  },
  {
   "cell_type": "code",
   "execution_count": null,
   "metadata": {
    "collapsed": true
   },
   "outputs": [],
   "source": [
    "#using all cells here, since no need cellReg necessary (data are all from same session)\n",
    "pop1 = cells_allpost_blasts\n",
    "pop2 = cells_allpost_sho\n",
    "unt = ~(cells_allpost_blasts+cells_allpost_sho)\n",
    "est = calc_shuffle_overlap(pop1, pop2, n_loops=n_loops)\n",
    "\n",
    "colors = [(0, 0.2, 1), (0.5, 0.2, 1), (0.8, 0.2, 1), (0.8, 0.8, 0.8)]\n",
    "fig, axs = plot_it(pop1, pop2, unt, est,\n",
    "                   title='Post', labels=['blasts', 'sho', 'Bl+Sho', 'Untuned'],\n",
    "                   colors=colors, hist_colors=[(0.7, 0.7, 1), 'b'])\n",
    "fig.savefig('../img/cotuned_BandSho_post.pdf')"
   ]
  },
  {
   "cell_type": "code",
   "execution_count": null,
   "metadata": {
    "collapsed": true
   },
   "outputs": [],
   "source": [
    "#using all cells here, since no need cellReg necessary (data are all from same session)\n",
    "pop1 = cells_allpre_coyote\n",
    "pop2 = cells_allpre_sho\n",
    "unt = ~(cells_allpre_coyote+cells_alpret_sho)\n",
    "est = calc_shuffle_overlap(pop1, pop2, n_loops=n_loops)\n",
    "\n",
    "colors = [(0, 0.2, 1), (0.5, 0.2, 1), (0.8, 0.2, 1), (0.8, 0.8, 0.8)]\n",
    "fig, axs = plot_it(pop1, pop2, unt, est,\n",
    "                   title='pre', labels=['coyote', 'sho', 'C+Sho', 'Untuned'],\n",
    "                   colors=colors, hist_colors=[(0.7, 0.7, 1), 'b'])\n",
    "fig.savefig('../img/cotuned_CandSho_pre.pdf')"
   ]
  },
  {
   "cell_type": "code",
   "execution_count": null,
   "metadata": {
    "collapsed": true
   },
   "outputs": [],
   "source": [
    "#using all cells here, since no need cellReg necessary (data are all from same session)\n",
    "pop1 = cells_allpost_coyote\n",
    "pop2 = cells_allpost_sho\n",
    "unt = ~(cells_allpost_coyote+cells_allpost_sho)\n",
    "est = calc_shuffle_overlap(pop1, pop2, n_loops=n_loops)\n",
    "\n",
    "colors = [(0, 0.2, 1), (0.5, 0.2, 1), (0.8, 0.2, 1), (0.8, 0.8, 0.8)]\n",
    "fig, axs = plot_it(pop1, pop2, unt, est,\n",
    "                   title='Post', labels=['coyote', 'sho', 'C+Sho', 'Untuned'],\n",
    "                   colors=colors, hist_colors=[(0.7, 0.7, 1), 'b'])\n",
    "fig.savefig('../img/cotuned_CandSho_post.pdf')"
   ]
  },
  {
   "cell_type": "code",
   "execution_count": null,
   "metadata": {
    "collapsed": true
   },
   "outputs": [],
   "source": [
    "#using all cells here, since no need cellReg necessary (data are all from same session)\n",
    "pop1 = cells_allpre_female\n",
    "pop2 = cells_allpre_rew\n",
    "unt = ~(cells_allpre_female+cells_allpre_rew)\n",
    "est = calc_shuffle_overlap(pop1, pop2, n_loops=n_loops)\n",
    "\n",
    "colors = [(0, 0.2, 1), (0.5, 0.2, 1), (0.8, 0.2, 1), (0.8, 0.8, 0.8)]\n",
    "fig, axs = plot_it(pop1, pop2, unt, est,\n",
    "                   title='Pre', labels=['female', 'rew', 'F+R', 'Untuned'],\n",
    "                   colors=colors, hist_colors=[(0.7, 0.7, 1), 'b'])\n",
    "fig.savefig('../img/cotuned_FandRew_pre.pdf')"
   ]
  },
  {
   "cell_type": "code",
   "execution_count": null,
   "metadata": {
    "collapsed": true
   },
   "outputs": [],
   "source": [
    "#using all cells here, since no need cellReg necessary (data are all from same session)\n",
    "pop1 = cells_allpost_female\n",
    "pop2 = cells_allpost_rew\n",
    "unt = ~(cells_allpost_female+cells_allpost_rew)\n",
    "est = calc_shuffle_overlap(pop1, pop2, n_loops=n_loops)\n",
    "\n",
    "colors = [(0, 0.2, 1), (0.5, 0.2, 1), (0.8, 0.2, 1), (0.8, 0.8, 0.8)]\n",
    "fig, axs = plot_it(pop1, pop2, unt, est,\n",
    "                   title='Post', labels=['female', 'rew', 'F+R', 'Untuned'],\n",
    "                   colors=colors, hist_colors=[(0.7, 0.7, 1), 'b'])\n",
    "fig.savefig('../img/cotuned_FandRew_post.pdf')"
   ]
  },
  {
   "cell_type": "code",
   "execution_count": null,
   "metadata": {
    "collapsed": true
   },
   "outputs": [],
   "source": [
    "#using all cells here, since no need cellReg necessary (data are all from same session)\n",
    "pop1 = cells_allpre_coyote\n",
    "pop2 = cells_allpre_rew\n",
    "unt = ~(cells_allpre_coyote+cells_allpre_rew)\n",
    "est = calc_shuffle_overlap(pop1, pop2, n_loops=n_loops)\n",
    "\n",
    "colors = [(0, 0.2, 1), (0.5, 0.2, 1), (0.8, 0.2, 1), (0.8, 0.8, 0.8)]\n",
    "fig, axs = plot_it(pop1, pop2, unt, est,\n",
    "                   title='Pre', labels=['coyote', 'rew', 'F+R', 'Untuned'],\n",
    "                   colors=colors, hist_colors=[(0.7, 0.7, 1), 'b'])\n",
    "fig.savefig('../img/cotuned_CandRew_pre.pdf')"
   ]
  },
  {
   "cell_type": "code",
   "execution_count": null,
   "metadata": {
    "collapsed": true
   },
   "outputs": [],
   "source": [
    "#using all cells here, since no need cellReg necessary (data are all from same session)\n",
    "pop1 = cells_allpost_coyote\n",
    "pop2 = cells_allpost_rew\n",
    "unt = ~(cells_allpost_coyote+cells_allpost_rew)\n",
    "est = calc_shuffle_overlap(pop1, pop2, n_loops=n_loops)\n",
    "\n",
    "colors = [(0, 0.2, 1), (0.5, 0.2, 1), (0.8, 0.2, 1), (0.8, 0.8, 0.8)]\n",
    "fig, axs = plot_it(pop1, pop2, unt, est,\n",
    "                   title='Post', labels=['coyote', 'rew', 'F+R', 'Untuned'],\n",
    "                   colors=colors, hist_colors=[(0.7, 0.7, 1), 'b'])\n",
    "fig.savefig('../img/cotuned_CandRew_post.pdf')"
   ]
  },
  {
   "cell_type": "code",
   "execution_count": null,
   "metadata": {
    "collapsed": false
   },
   "outputs": [],
   "source": [
    "save_workspace(db)"
   ]
  },
  {
   "cell_type": "code",
   "execution_count": null,
   "metadata": {
    "collapsed": true
   },
   "outputs": [],
   "source": []
  }
 ],
 "metadata": {
  "anaconda-cloud": {},
  "kernelspec": {
   "display_name": "Python [default]",
   "language": "python",
   "name": "python2"
  },
  "language_info": {
   "codemirror_mode": {
    "name": "ipython",
    "version": 2
   },
   "file_extension": ".py",
   "mimetype": "text/x-python",
   "name": "python",
   "nbconvert_exporter": "python",
   "pygments_lexer": "ipython2",
   "version": "2.7.12"
  },
  "nbpresent": {
   "slides": {
    "0d986ed2-5f0a-4fb5-bef8-671b9a7944c2": {
     "id": "0d986ed2-5f0a-4fb5-bef8-671b9a7944c2",
     "layout": "grid",
     "prev": null,
     "regions": {
      "8225e319-a034-4787-b6c3-67ba18e539df": {
       "attrs": {
        "height": 1,
        "pad": 0.01,
        "treemap:weight": 1,
        "width": 0.5,
        "x": 0.5,
        "y": 0
       },
       "id": "8225e319-a034-4787-b6c3-67ba18e539df"
      },
      "da963486-c522-4461-b750-f656e415a1be": {
       "attrs": {
        "height": 1,
        "pad": 0.01,
        "treemap:weight": 1,
        "width": 0.5,
        "x": 0,
        "y": 0
       },
       "id": "da963486-c522-4461-b750-f656e415a1be"
      }
     }
    },
    "1735d954-277d-4120-b50d-1eda74274968": {
     "id": "1735d954-277d-4120-b50d-1eda74274968",
     "prev": "0d986ed2-5f0a-4fb5-bef8-671b9a7944c2",
     "regions": {
      "a6210379-c2c0-4a0b-b180-def0b2e45d5a": {
       "attrs": {
        "height": 1,
        "width": 1,
        "x": 0,
        "y": 0
       },
       "content": {
        "cell": "58ed5f85-9757-4f05-94ef-a631c3d9dd51",
        "part": "outputs"
       },
       "id": "a6210379-c2c0-4a0b-b180-def0b2e45d5a"
      }
     }
    },
    "17414c21-2d5e-4e85-a979-be0a81228952": {
     "id": "17414c21-2d5e-4e85-a979-be0a81228952",
     "prev": "3ba851ce-b3eb-409e-8809-d72887d124c6",
     "regions": {
      "8b369589-ef7b-40d4-986f-89079045d9ea": {
       "attrs": {
        "height": 1,
        "width": 1,
        "x": 0,
        "y": 0
       },
       "id": "8b369589-ef7b-40d4-986f-89079045d9ea"
      }
     }
    },
    "3ba851ce-b3eb-409e-8809-d72887d124c6": {
     "id": "3ba851ce-b3eb-409e-8809-d72887d124c6",
     "prev": "1735d954-277d-4120-b50d-1eda74274968",
     "regions": {
      "a70ad6eb-6c6c-4a9b-b2e6-844787805048": {
       "attrs": {
        "height": 0.7020408163265306,
        "width": 0.8377551020408163,
        "x": 0.1622448979591837,
        "y": 0.2979591836734694
       },
       "content": {
        "cell": "c50576db-4f27-48e8-a63a-42de45527151",
        "part": "outputs"
       },
       "id": "a70ad6eb-6c6c-4a9b-b2e6-844787805048"
      },
      "bebea0da-137b-4a60-9392-618d040c348d": {
       "attrs": {
        "height": 0.1360544217687075,
        "width": 0.8604591836734694,
        "x": 0.1,
        "y": 0.1
       },
       "id": "bebea0da-137b-4a60-9392-618d040c348d"
      }
     }
    }
   },
   "themes": {}
  }
 },
 "nbformat": 4,
 "nbformat_minor": 2
}
