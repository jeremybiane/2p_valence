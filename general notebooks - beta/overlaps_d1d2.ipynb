{
 "cells": [
  {
   "cell_type": "code",
   "execution_count": null,
   "metadata": {
    "collapsed": false
   },
   "outputs": [],
   "source": [
    "from IPython.display import display\n",
    "from IPython.display import HTML\n",
    "import IPython.core.display as di # Example: di.display_html('<h3>%s:</h3>' % str, raw=True)\n",
    "\n",
    "# This line will hide code by default when the notebook is exported as HTML\n",
    "di.display_html('<script>jQuery(function() {if (jQuery(\"body.notebook_app\").length == 0) { jQuery(\".input_area\").toggle(); jQuery(\".prompt\").toggle();}});</script>', raw=True)\n",
    "\n",
    "# This line will add a button to toggle visibility of code blocks, for use with the HTML export version\n",
    "di.display_html('''<button onclick=\"jQuery('.input_area').toggle(); jQuery('.prompt').toggle();\">Toggle code</button>''', raw=True)\n"
   ]
  },
  {
   "cell_type": "code",
   "execution_count": null,
   "metadata": {
    "collapsed": true
   },
   "outputs": [],
   "source": [
    "# all modules necessary for this nb\n",
    "import os\n",
    "import sys\n",
    "import pickle\n",
    "\n",
    "import numpy as np\n",
    "np.random.seed(0)\n",
    "import pylab as pl\n",
    "import scipy.stats as sstats\n",
    "\n",
    "# setting parameters for default matplotlib plots\n",
    "%matplotlib inline"
   ]
  },
  {
   "cell_type": "code",
   "execution_count": null,
   "metadata": {
    "collapsed": false
   },
   "outputs": [],
   "source": [
    "pl.style.use('fabiostyle')\n",
    "# needs to find the library of functions\n",
    "sys.path.append('../../../code/')  # to be replaced!\n",
    "\n",
    "import utils as ut\n",
    "import plots as pt"
   ]
  },
  {
   "cell_type": "code",
   "execution_count": null,
   "metadata": {
    "collapsed": false
   },
   "outputs": [],
   "source": [
    "NOTEBOOK_NAME = 'overlaps_d1d2'"
   ]
  },
  {
   "cell_type": "code",
   "execution_count": null,
   "metadata": {
    "collapsed": false
   },
   "outputs": [],
   "source": [
    "from pickleshare import PickleShareDB\n",
    "\n",
    "autorestore_folder = os.path.join(os.getcwd(), 'autorestore', NOTEBOOK_NAME)\n",
    "db = PickleShareDB(autorestore_folder)\n",
    "import sys\n",
    "from workspace import *\n",
    "import IPython\n",
    "ip = IPython.get_ipython()\n",
    "\n",
    "# this will restore all the saved variables. ignore the errors listed.\n",
    "load_workspace(ip, db)\n",
    "\n",
    "# use `save_worspace(db)` to save variables at the end"
   ]
  },
  {
   "cell_type": "code",
   "execution_count": null,
   "metadata": {
    "collapsed": false,
    "scrolled": false
   },
   "outputs": [],
   "source": [
    "#from itertools import product\n",
    "#def load_all_animals_vars(varname, animal_list, pilot_list=None, notebook='preprocessing'):\n",
    "#    all_of_them = {}\n",
    "#    for ani in animal_list:\n",
    "#        folder = '../autorestore/%s/' % (notebook)\n",
    "#        all_of_them.update({ani: ut.load_variable(varname, folder)})\n",
    "#    return all_of_them"
   ]
  },
  {
   "cell_type": "code",
   "execution_count": null,
   "metadata": {
    "collapsed": false
   },
   "outputs": [],
   "source": [
    "# load data\n",
    "from itertools import product\n",
    "prod = product(['d1', 'd2'], ['rew', 'sho', 'coyote', 'female', 'blasts','rew_v_odors', 'sho_v_odors',\n",
    "                             'fem_v_SS', 'coyote_v_SS'], ['all', ''], ['_up','_dn',''])\n",
    "for a, b, c, d in prod:\n",
    "    try:\n",
    "        exec('cells_%s%s_%s%s = ut.load_variable(\\'cells_%s%s_%s%s\\', folder=\\'./autorestore/tuning_stability_values/\\')'%(c,a,b,d,c,a,b,d))\n",
    "    except IOError:\n",
    "        print(\"Skip\", a, b, c, d)"
   ]
  },
  {
   "cell_type": "code",
   "execution_count": null,
   "metadata": {
    "collapsed": false
   },
   "outputs": [],
   "source": [
    "N = 50\n",
    "n_loops = 5000\n",
    "\n",
    "def calc_shuffle_overlap(pop1, pop2, n_loops=n_loops, N=N):\n",
    "     return [(np.random.choice([0, 1], size=N, p=(1-pop1.mean(), pop1.mean()))*\n",
    "                  np.random.choice([0, 1], size=N, p=(1-pop2.mean(), pop2.mean()))).mean() for r in range(n_loops)]\n",
    "\n"
   ]
  },
  {
   "cell_type": "code",
   "execution_count": null,
   "metadata": {
    "collapsed": false
   },
   "outputs": [],
   "source": [
    "def sigtest(values, x):\n",
    "    return [None, 1 - sstats.norm(np.mean(values), np.std(values)).cdf(x)]\n",
    "def plot_hist(ax, vals, colors=['0.7', 'k'], bins=np.linspace(0, 0.3, 30), ids=[0, 1]):\n",
    "    # ax.hist(vals2_all[0], bins=10, histtype='step', color='0.7')\n",
    "    y, x = np.histogram(vals[ids[0]], bins=bins, normed=True)\n",
    "    ax.step(x[:-1], y*np.diff(x)[0], color=colors[0], lw=1, where='post')\n",
    "    ax.vlines(vals[ids[1]], 0, 0.4, color=colors[1], lw=1, zorder=19)\n",
    "    y = np.diff(ax.axis()[-2:])*0.95 + ax.axis()[-2]\n",
    "    pt.add_significance(ax, vals[ids[0]], vals[ids[1]], vals[ids[1]], vals[ids[1]], 0.5, sig_func=sigtest)\n",
    "    pt.nicer_plot(ax)"
   ]
  },
  {
   "cell_type": "code",
   "execution_count": null,
   "metadata": {
    "collapsed": false
   },
   "outputs": [],
   "source": [
    "#trying to extract p-value of comparison...\n",
    "\n",
    "#tester = sstats.norm(np.mean([est, (pop1*pop2).mean()]), np.std([est, (pop1*pop2).mean()])).cdf()\n",
    "#print tester"
   ]
  },
  {
   "cell_type": "code",
   "execution_count": null,
   "metadata": {
    "collapsed": false
   },
   "outputs": [],
   "source": [
    "def plot_it(pop1, pop2, untuned, est, labels=['d1', 'd2', 'd1+d2', 'Untuned'], title=\"Sucrose\",\n",
    "            colors=['aqua', 'turquoise', 'darkcyan', (0.8, 0.8, 0.8)],\n",
    "            hist_colors=[(1, 0.7, 0.7), 'r'], bins=np.linspace(0, 0.3, 30)):\n",
    "    fig, axs = pl.subplots(1, 2, figsize=(3, 1))\n",
    "\n",
    "    ax = axs[0]\n",
    "    plot_hist(ax, [est, (pop1*pop2).mean()], bins=bins,\n",
    "            colors=hist_colors)\n",
    "\n",
    "    ax.set_xlabel('Co-tuned Cells Ratio')\n",
    "    ax.set_ylabel('PDF')\n",
    "\n",
    "    ax.set_xlim(0, 0.3)\n",
    "    ax.set_ylim(0, 0.5)\n",
    "\n",
    "    ax = axs[1]\n",
    "    \n",
    "    t = map(sum, [pop1*~pop2, pop2*~pop1, pop1*pop2, untuned])\n",
    "    total = np.sum(t)\n",
    "    _, txts, _ = ax.pie(t, colors=colors, explode=[0.05]*len(t),\n",
    "                        autopct=lambda x: \"%.1f%%\"%(x),\n",
    "                        labels=labels,\n",
    "                        textprops={'fontsize':3})\n",
    "    for tt in txts:\n",
    "        tt.set_fontsize(5)\n",
    "    ax.text(1, -1.3, 'n = %d'%total, fontsize=3)\n",
    "\n",
    "    ax.set_aspect('equal')\n",
    "    fig.suptitle(title)\n",
    "    \n",
    "    return fig, axs"
   ]
  },
  {
   "cell_type": "code",
   "execution_count": null,
   "metadata": {
    "collapsed": true
   },
   "outputs": [],
   "source": [
    "r1='lightskyblue'\n",
    "r2='lightblue'\n",
    "r12='royalblue'\n",
    "s1='lightcoral'\n",
    "s2='r'\n",
    "s12='crimson'\n",
    "c1='burlywood'\n",
    "c2='peru'\n",
    "c12='sienna'\n",
    "f1='palegoldenrod'\n",
    "f2='khaki'\n",
    "f12='goldenrod'\n",
    "b1='lightgreen'\n",
    "b2='greenyellow'\n",
    "b12='olivedrab'\n",
    "g='lightgrey'"
   ]
  },
  {
   "cell_type": "code",
   "execution_count": null,
   "metadata": {
    "collapsed": true
   },
   "outputs": [],
   "source": [
    "#initialize dictionary for chance vs observed overlap comparison\n",
    "#entries will be mean chance overlap, observed overlap, observed-chance, (observed-chance)/chance\n",
    "diff_from_chance = {}"
   ]
  },
  {
   "cell_type": "code",
   "execution_count": null,
   "metadata": {
    "collapsed": false
   },
   "outputs": [],
   "source": [
    "comparison = '_suc_d1_v_d2'\n",
    "try:\n",
    "    pop1 = cells_d1_rew\n",
    "    pop2 = cells_d2_rew\n",
    "    unt = ~(cells_d1_rew + cells_d2_rew)\n",
    "    N = len(pop1)\n",
    "    est = calc_shuffle_overlap(pop1, pop2, n_loops=n_loops,N=N)\n",
    "    \n",
    "    fig, axs = plot_it(pop1, pop2, unt, est,colors=[r1,r2,r12,g], hist_colors=[r1,r12])\n",
    "    diff_from_chance[comparison]=[np.mean(est),(pop1*pop2).mean(),((pop1*pop2).mean())-(np.mean(est)),\n",
    "                              (((pop1*pop2).mean())-(np.mean(est)))/(np.mean(est))]\n",
    "    #fig.savefig('../img/cotuned_%s.pdf' %(comparison))\n",
    "except:\n",
    "    print 'failed'"
   ]
  },
  {
   "cell_type": "code",
   "execution_count": null,
   "metadata": {
    "collapsed": false
   },
   "outputs": [],
   "source": [
    "comparison = '_shock_d1_v_d2'\n",
    "try:\n",
    "    pop1 = cells_d1_sho\n",
    "    pop2 = cells_d2_sho\n",
    "    unt = ~(cells_d1_sho + cells_d2_sho)\n",
    "    N = len(pop1)\n",
    "    est = calc_shuffle_overlap(pop1, pop2, n_loops=n_loops,N=N)\n",
    "    \n",
    "    fig, axs = plot_it(pop1, pop2, unt, est,\n",
    "                       title='Shock', colors=[s1,'r',s12,g], hist_colors=[s1,s12])\n",
    "    diff_from_chance[comparison]=[np.mean(est),(pop1*pop2).mean(),((pop1*pop2).mean())-(np.mean(est)),\n",
    "                              (((pop1*pop2).mean())-(np.mean(est)))/(np.mean(est))]\n",
    "    #fig.savefig('../img/cotuned_%s.pdf' %(comparison))\n",
    "except:\n",
    "    print 'fail'"
   ]
  },
  {
   "cell_type": "code",
   "execution_count": null,
   "metadata": {
    "collapsed": false
   },
   "outputs": [],
   "source": [
    "#using all cells here, since no need cellReg necessary (data are all from same session)\n",
    "comparison = 'suc_v_shock_d1'\n",
    "try:\n",
    "    pop1 = cells_alld1_rew\n",
    "    pop2 = cells_alld1_sho\n",
    "    unt = ~(cells_alld1_rew+cells_alld1_sho)\n",
    "    N = len(pop1)\n",
    "    est = calc_shuffle_overlap(pop1, pop2, n_loops=n_loops,N=N)\n",
    "    \n",
    "    colors = [(0, 0.2, 1), (0.5, 0.2, 1), (0.8, 0.2, 1), (0.8, 0.8, 0.8)]\n",
    "    fig, axs = plot_it(pop1, pop2, unt, est,\n",
    "                       title='d1', labels=['Sucrose', 'Shock', 'Sucrose+Shock', 'Untuned'],\n",
    "                       colors=[r1,s2,'magenta',g], hist_colors=[g, 'm'])\n",
    "    \n",
    "    diff_from_chance[comparison]=[np.mean(est),(pop1*pop2).mean(),((pop1*pop2).mean())-(np.mean(est)),\n",
    "                              (((pop1*pop2).mean())-(np.mean(est)))/(np.mean(est))]\n",
    "    #fig.savefig('../img/cotuned_%s.pdf' %(comparison))\n",
    "except:\n",
    "    print 'fail'"
   ]
  },
  {
   "cell_type": "code",
   "execution_count": null,
   "metadata": {
    "collapsed": false
   },
   "outputs": [],
   "source": [
    "#using all cells here, since no need cellReg necessary (data are all from same session)\n",
    "comparison = 'suc_v_shock_d2'\n",
    "try:\n",
    "    pop1 = cells_alld2_rew\n",
    "    pop2 = cells_alld2_sho\n",
    "    unt = ~(cells_alld2_rew + cells_alld2_sho)\n",
    "    N = len(pop1)\n",
    "    est = calc_shuffle_overlap(pop1, pop2, n_loops=n_loops,N=N)\n",
    "    \n",
    "    fig, axs = plot_it(pop1, pop2, unt, est,\n",
    "                       title='d2', labels=['Sucrose', 'Shock', 'Sucrose+Shock', 'Untuned'],\n",
    "                       colors=[r1,s2,'magenta',g], hist_colors=[g, 'm'])\n",
    "\n",
    "    diff_from_chance[comparison]=[np.mean(est),(pop1*pop2).mean(),((pop1*pop2).mean())-(np.mean(est)),\n",
    "                              (((pop1*pop2).mean())-(np.mean(est)))/(np.mean(est))]\n",
    "    #fig.savefig('../img/cotuned_%s.pdf' %(comparison))\n",
    "except:\n",
    "    print 'fail'"
   ]
  },
  {
   "cell_type": "code",
   "execution_count": null,
   "metadata": {
    "collapsed": false
   },
   "outputs": [],
   "source": [
    "comparison = '_coyote_d1_v_d2'\n",
    "try:\n",
    "    pop1 = cells_d1_coyote\n",
    "    pop2 = cells_d2_coyote\n",
    "    unt = ~(cells_d1_coyote + cells_d2_coyote)\n",
    "    N = len(pop1)\n",
    "    est = calc_shuffle_overlap(pop1, pop2, n_loops=n_loops,N=N)\n",
    "    \n",
    "    fig, axs = plot_it(pop1, pop2, unt, est,\n",
    "                       title='Coyote',\n",
    "                       colors=[c1,c2,c12,g], hist_colors=[c1, c12])\n",
    "\n",
    "    diff_from_chance[comparison]=[np.mean(est),(pop1*pop2).mean(),((pop1*pop2).mean())-(np.mean(est)),\n",
    "                              (((pop1*pop2).mean())-(np.mean(est)))/(np.mean(est))]\n",
    "    #fig.savefig('../img/cotuned_%s.pdf' %(comparison))\n",
    "except:\n",
    "    print 'fail'"
   ]
  },
  {
   "cell_type": "code",
   "execution_count": null,
   "metadata": {
    "collapsed": false
   },
   "outputs": [],
   "source": [
    "comparison = '_female_d1_v_d2'\n",
    "try:\n",
    "    pop1 = cells_d1_female\n",
    "    pop2 = cells_d2_female\n",
    "    unt = ~(cells_d1_female + cells_d2_female)\n",
    "    N = len(pop1)\n",
    "    est = calc_shuffle_overlap(pop1, pop2, n_loops=n_loops,N=N)\n",
    "    \n",
    "    colors = [(0, 0.2, 1), (0.5, 0.2, 1), (0.8, 0.2, 1), (0.8, 0.8, 0.8)]\n",
    "    fig, axs = plot_it(pop1, pop2, unt, est,\n",
    "                       title='Female', colors=[f1,f2,f12,g], hist_colors=[f1,f12])\n",
    "\n",
    "    diff_from_chance[comparison]=[np.mean(est),(pop1*pop2).mean(),((pop1*pop2).mean())-(np.mean(est)),\n",
    "                              (((pop1*pop2).mean())-(np.mean(est)))/(np.mean(est))]\n",
    "    #fig.savefig('../img/cotuned_%s.pdf' %(comparison))\n",
    "except:\n",
    "    print 'fail'"
   ]
  },
  {
   "cell_type": "code",
   "execution_count": null,
   "metadata": {
    "collapsed": false
   },
   "outputs": [],
   "source": [
    "#using all cells here, since no need cellReg necessary (data are all from same session)\n",
    "comparison = 'coyote_v_female_d1'\n",
    "try:\n",
    "    pop1 = cells_alld1_coyote\n",
    "    pop2 = cells_alld1_female\n",
    "    unt = ~(cells_alld1_coyote+cells_alld1_female)\n",
    "    N = len(pop1)\n",
    "    est = calc_shuffle_overlap(pop1, pop2, n_loops=n_loops,N=N)\n",
    "    \n",
    "    colors = [(0, 0.2, 1), (0.5, 0.2, 1), (0.8, 0.2, 1), (0.8, 0.8, 0.8)]\n",
    "    fig, axs = plot_it(pop1, pop2, unt, est,\n",
    "                       title='d1', labels=['Coyote', 'Female', 'C+F', 'Untuned'],\n",
    "                       colors=[c1,f1,'darkorange',g], hist_colors=[g,'darkorange'])\n",
    "   \n",
    "    diff_from_chance[comparison]=[np.mean(est),(pop1*pop2).mean(),((pop1*pop2).mean())-(np.mean(est)),\n",
    "                              (((pop1*pop2).mean())-(np.mean(est)))/(np.mean(est))]\n",
    "    #fig.savefig('../img/cotuned_%s.pdf' %(comparison))\n",
    "except:\n",
    "    print 'fail'"
   ]
  },
  {
   "cell_type": "code",
   "execution_count": null,
   "metadata": {
    "collapsed": false
   },
   "outputs": [],
   "source": [
    "#using all cells here, since no need cellReg necessary (data are all from same session)\n",
    "comparison = 'coyote_v_female_d2'\n",
    "try:\n",
    "    pop1 = cells_alld2_coyote\n",
    "    pop2 = cells_alld2_female\n",
    "    unt = ~(cells_alld2_coyote + cells_alld2_female)\n",
    "    N = len(pop1)\n",
    "    est = calc_shuffle_overlap(pop1, pop2, n_loops=n_loops,N=N)\n",
    "    \n",
    "    fig, axs = plot_it(pop1, pop2, unt, est,\n",
    "                       title='d2', labels=['Coyote', 'Female', 'C+F', 'Untuned'],\n",
    "                      colors=[c1,f1,'darkorange',g],hist_colors=[g,'darkorange'])\n",
    "\n",
    "    diff_from_chance[comparison]=[np.mean(est),(pop1*pop2).mean(),((pop1*pop2).mean())-(np.mean(est)),\n",
    "                              (((pop1*pop2).mean())-(np.mean(est)))/(np.mean(est))]\n",
    "    #fig.savefig('../img/cotuned_%s.pdf' %(comparison))\n",
    "except:\n",
    "    print 'fail'"
   ]
  },
  {
   "cell_type": "code",
   "execution_count": null,
   "metadata": {
    "collapsed": false
   },
   "outputs": [],
   "source": [
    "comparison = '_blasts_d1_v_d2'\n",
    "try:\n",
    "    pop1 = cells_d1_blasts\n",
    "    pop2 = cells_d2_blasts\n",
    "    unt = ~(cells_d1_blasts + cells_d2_blasts)\n",
    "    N = len(pop1)\n",
    "    est = calc_shuffle_overlap(pop1, pop2, n_loops=n_loops,N=N)\n",
    "    \n",
    "    fig, axs = plot_it(pop1, pop2, unt, est, title = \"Blasts\",\n",
    "                      colors=[b1,b2,b12,g],hist_colors=[b1,b12])\n",
    "\n",
    "    diff_from_chance[comparison]=[np.mean(est),(pop1*pop2).mean(),((pop1*pop2).mean())-(np.mean(est)),\n",
    "                              (((pop1*pop2).mean())-(np.mean(est)))/(np.mean(est))]\n",
    "    #fig.savefig('../img/cotuned_%s.pdf' %(comparison))\n",
    "except:\n",
    "    print 'fail'"
   ]
  },
  {
   "cell_type": "code",
   "execution_count": null,
   "metadata": {
    "collapsed": false
   },
   "outputs": [],
   "source": [
    "comparison = 'female_v_suc_d1'\n",
    "try:\n",
    "    pop1 = cells_d1_fem_v_SS\n",
    "    pop2 = cells_d1_rew_v_odors\n",
    "    unt = ~(cells_d1_fem_v_SS+cells_d1_rew_v_odors)\n",
    "    N = len(pop1)\n",
    "    est = calc_shuffle_overlap(pop1, pop2, n_loops=n_loops,N=N)\n",
    "    \n",
    "    colors = [(0, 0.2, 1), (0.5, 0.2, 1), (0.8, 0.2, 1), (0.8, 0.8, 0.8)]\n",
    "    fig, axs = plot_it(pop1, pop2, unt, est,\n",
    "                       title='d1', labels=['female', 'sucrose', 'F+Suc', 'Untuned'],\n",
    "                       colors=[f1,r1,'dimgrey',g],hist_colors=[g,'dimgrey'])\n",
    "    \n",
    "    diff_from_chance[comparison]=[np.mean(est),(pop1*pop2).mean(),((pop1*pop2).mean())-(np.mean(est)),\n",
    "                              (((pop1*pop2).mean())-(np.mean(est)))/(np.mean(est))]\n",
    "    #fig.savefig('../img/cotuned_%s.pdf' %(comparison))\n",
    "except:\n",
    "    print 'fail'"
   ]
  },
  {
   "cell_type": "code",
   "execution_count": null,
   "metadata": {
    "collapsed": false
   },
   "outputs": [],
   "source": [
    "comparison = 'female_v_suc_d2'\n",
    "try:\n",
    "    pop1 = cells_d2_fem_v_SS\n",
    "    pop2 = cells_d2_rew_v_odors\n",
    "    unt = ~(cells_d2_fem_v_SS+cells_d2_rew_v_odors)\n",
    "    N = len(pop1)\n",
    "    est = calc_shuffle_overlap(pop1, pop2, n_loops=n_loops,N=N)\n",
    "    \n",
    "    colors = [(0, 0.2, 1), (0.5, 0.2, 1), (0.8, 0.2, 1), (0.8, 0.8, 0.8)]\n",
    "    fig, axs = plot_it(pop1, pop2, unt, est,\n",
    "                       title='d2', labels=['female', 'sucrose', 'F+Suc', 'Untuned'],\n",
    "                       colors=[f1,r1,'dimgrey',g],hist_colors=[g,'dimgrey'])\n",
    "\n",
    "    diff_from_chance[comparison]=[np.mean(est),(pop1*pop2).mean(),((pop1*pop2).mean())-(np.mean(est)),\n",
    "                              (((pop1*pop2).mean())-(np.mean(est)))/(np.mean(est))]\n",
    "    #fig.savefig('../img/cotuned_%s.pdf' %(comparison))\n",
    "except:\n",
    "    print 'fail'"
   ]
  },
  {
   "cell_type": "code",
   "execution_count": null,
   "metadata": {
    "collapsed": false
   },
   "outputs": [],
   "source": [
    "comparison = 'female_V_shock_d1'\n",
    "try:\n",
    "    pop1 = cells_d1_fem_v_SS\n",
    "    pop2 = cells_d1_sho_v_odors\n",
    "    unt = ~(cells_d1_fem_v_SS+cells_d1_sho_v_odors)\n",
    "    N = len(pop1)\n",
    "    est = calc_shuffle_overlap(pop1, pop2, n_loops=n_loops,N=N)\n",
    "    \n",
    "    colors = [(0, 0.2, 1), (0.5, 0.2, 1), (0.8, 0.2, 1), (0.8, 0.8, 0.8)]\n",
    "    fig, axs = plot_it(pop1, pop2, unt, est,\n",
    "                       title='d1', labels=['female', 'shock', 'F+Sho', 'Untuned'],\n",
    "                       colors=[f1,s1,'dimgrey',g],hist_colors=[g,'dimgrey'])\n",
    "    \n",
    "    diff_from_chance[comparison]=[np.mean(est),(pop1*pop2).mean(),((pop1*pop2).mean())-(np.mean(est)),\n",
    "                              (((pop1*pop2).mean())-(np.mean(est)))/(np.mean(est))]\n",
    "    #fig.savefig('../img/cotuned_%s.pdf' %(comparison))\n",
    "except:\n",
    "    print 'fail'"
   ]
  },
  {
   "cell_type": "code",
   "execution_count": null,
   "metadata": {
    "collapsed": false
   },
   "outputs": [],
   "source": [
    "comparison = 'female_v_shock_d2'\n",
    "try:\n",
    "    pop1 = cells_d2_fem_v_SS\n",
    "    pop2 = cells_d2_sho_v_odors\n",
    "    unt = ~(cells_d2_fem_v_SS+cells_d2_sho_v_odors)\n",
    "    N = len(pop1)\n",
    "    est = calc_shuffle_overlap(pop1, pop2, n_loops=n_loops,N=N)\n",
    "    \n",
    "    colors = [(0, 0.2, 1), (0.5, 0.2, 1), (0.8, 0.2, 1), (0.8, 0.8, 0.8)]\n",
    "    fig, axs = plot_it(pop1, pop2, unt, est,\n",
    "                       title='d2', labels=['female', 'shock', 'F+Sho', 'Untuned'],\n",
    "                       colors=[f1,s1,'dimgrey',g],hist_colors=[g,'dimgrey'])\n",
    "    \n",
    "    diff_from_chance[comparison]=[np.mean(est),(pop1*pop2).mean(),((pop1*pop2).mean())-(np.mean(est)),\n",
    "                              (((pop1*pop2).mean())-(np.mean(est)))/(np.mean(est))]\n",
    "    #fig.savefig('../img/cotuned_%s.pdf' %(comparison))\n",
    "except:\n",
    "    print 'fail'"
   ]
  },
  {
   "cell_type": "code",
   "execution_count": null,
   "metadata": {
    "collapsed": false
   },
   "outputs": [],
   "source": [
    "comparison = 'coyote_v_suc_d1'\n",
    "try:\n",
    "    pop1 = cells_d1_coyote_v_SS\n",
    "    pop2 = cells_d1_rew_v_odors\n",
    "    unt = ~(cells_d1_coyote_v_SS+cells_d1_rew_v_odors)\n",
    "    N = len(pop1)\n",
    "    est = calc_shuffle_overlap(pop1, pop2, n_loops=n_loops,N=N)\n",
    "    \n",
    "    colors = [(0, 0.2, 1), (0.5, 0.2, 1), (0.8, 0.2, 1), (0.8, 0.8, 0.8)]\n",
    "    fig, axs = plot_it(pop1, pop2, unt, est,\n",
    "                       title='d1', labels=['coyote', 'sucrose', 'C+Suc', 'Untuned'],\n",
    "                      colors=[c1,r1,'dimgrey',g],hist_colors=[g,'dimgrey'])\n",
    "    \n",
    "    diff_from_chance[comparison]=[np.mean(est),(pop1*pop2).mean(),((pop1*pop2).mean())-(np.mean(est)),\n",
    "                              (((pop1*pop2).mean())-(np.mean(est)))/(np.mean(est))]\n",
    "    #fig.savefig('../img/cotuned_%s.pdf' %(comparison))\n",
    "except:\n",
    "    print 'fail'"
   ]
  },
  {
   "cell_type": "code",
   "execution_count": null,
   "metadata": {
    "collapsed": false
   },
   "outputs": [],
   "source": [
    "comparison = 'coyote_v_suc_d2'\n",
    "try:\n",
    "    pop1 = cells_d2_coyote_v_SS\n",
    "    pop2 = cells_d2_rew_v_odors\n",
    "    unt = ~(cells_d2_coyote_v_SS+cells_d2_rew_v_odors)\n",
    "    N = len(pop1)\n",
    "    est = calc_shuffle_overlap(pop1, pop2, n_loops=n_loops,N=N)\n",
    "    \n",
    "    colors = [(0, 0.2, 1), (0.5, 0.2, 1), (0.8, 0.2, 1), (0.8, 0.8, 0.8)]\n",
    "    fig, axs = plot_it(pop1, pop2, unt, est,\n",
    "                       title='d2', labels=['coyote', 'sucrose', 'C+Suc', 'Untuned'],\n",
    "                      colors=[c1,r1,'dimgrey',g],hist_colors=[g,'dimgrey'])\n",
    "\n",
    "    diff_from_chance[comparison]=[np.mean(est),(pop1*pop2).mean(),((pop1*pop2).mean())-(np.mean(est)),\n",
    "                              (((pop1*pop2).mean())-(np.mean(est)))/(np.mean(est))]\n",
    "    #fig.savefig('../img/cotuned_%s.pdf' %(comparison))\n",
    "except:\n",
    "    print 'fail'"
   ]
  },
  {
   "cell_type": "code",
   "execution_count": null,
   "metadata": {
    "collapsed": false,
    "scrolled": false
   },
   "outputs": [],
   "source": [
    "comparison = 'coyote_v_shock_d1'\n",
    "try:\n",
    "    pop1 = cells_d1_coyote_v_SS\n",
    "    pop2 = cells_d1_sho_v_odors\n",
    "    unt = ~(cells_d1_coyote_v_SS+cells_d1_sho_v_odors)\n",
    "    N = len(pop1)\n",
    "    est = calc_shuffle_overlap(pop1, pop2, n_loops=n_loops,N=N)\n",
    "    \n",
    "    colors = [(0, 0.2, 1), (0.5, 0.2, 1), (0.8, 0.2, 1), (0.8, 0.8, 0.8)]\n",
    "    fig, axs = plot_it(pop1, pop2, unt, est,\n",
    "                       title='d1', labels=['coyote', 'shock', 'C+Sho', 'Untuned'],\n",
    "                       colors=[c1,s1,'dimgrey',g],hist_colors=[g,'dimgrey'])\n",
    "\n",
    "    diff_from_chance[comparison]=[np.mean(est),(pop1*pop2).mean(),((pop1*pop2).mean())-(np.mean(est)),\n",
    "                              (((pop1*pop2).mean())-(np.mean(est)))/(np.mean(est))]\n",
    "    #fig.savefig('../img/cotuned_%s.pdf' %(comparison))\n",
    "except:\n",
    "    print 'fail'"
   ]
  },
  {
   "cell_type": "code",
   "execution_count": null,
   "metadata": {
    "collapsed": false
   },
   "outputs": [],
   "source": [
    "comparison = 'coyote_v_shock_d2'\n",
    "try:\n",
    "    pop1 = cells_d2_coyote_v_SS\n",
    "    pop2 = cells_d2_sho_v_odors\n",
    "    unt = ~(cells_d2_coyote_v_SS+cells_d2_sho_v_odors)\n",
    "    N = len(pop1)\n",
    "    est = calc_shuffle_overlap(pop1, pop2, n_loops=n_loops,N=N)\n",
    "    \n",
    "    colors = [(0, 0.2, 1), (0.5, 0.2, 1), (0.8, 0.2, 1), (0.8, 0.8, 0.8)]\n",
    "    fig, axs = plot_it(pop1, pop2, unt, est,\n",
    "                       title='d2', labels=['coyote', 'shock', 'C+Sho', 'Untuned'],\n",
    "                      colors=[c1,s1,'dimgrey',g],hist_colors=[g,'dimgrey'])\n",
    "\n",
    "    diff_from_chance[comparison]=[np.mean(est),(pop1*pop2).mean(),((pop1*pop2).mean())-(np.mean(est)),\n",
    "                              (((pop1*pop2).mean())-(np.mean(est)))/(np.mean(est))]\n",
    "    #fig.savefig('../img/cotuned_%s.pdf' %(comparison))\n",
    "except:\n",
    "    print 'fail'"
   ]
  },
  {
   "cell_type": "code",
   "execution_count": null,
   "metadata": {
    "collapsed": false
   },
   "outputs": [],
   "source": [
    "comparison = 'blast_v_suc_d1'\n",
    "try:\n",
    "    pop1 = cells_alld1_blasts\n",
    "    pop2 = cells_alld1_rew\n",
    "    unt = ~(cells_alld1_blasts+cells_alld1_rew)\n",
    "    N = len(pop1)\n",
    "    est = calc_shuffle_overlap(pop1, pop2, n_loops=n_loops,N=N)\n",
    "    \n",
    "    colors = [(0, 0.2, 1), (0.5, 0.2, 1), (0.8, 0.2, 1), (0.8, 0.8, 0.8)]\n",
    "    fig, axs = plot_it(pop1, pop2, unt, est,\n",
    "                       title='d1', labels=['blast', 'sucrose', 'B+Suc', 'Untuned'],\n",
    "                      colors=[b1,r1,'dimgrey',g],hist_colors=[g,'dimgrey'])\n",
    "\n",
    "    diff_from_chance[comparison]=[np.mean(est),(pop1*pop2).mean(),((pop1*pop2).mean())-(np.mean(est)),\n",
    "                              (((pop1*pop2).mean())-(np.mean(est)))/(np.mean(est))]\n",
    "    #fig.savefig('../img/cotuned_%s.pdf' %(comparison))\n",
    "except:\n",
    "    print 'fail'    "
   ]
  },
  {
   "cell_type": "code",
   "execution_count": null,
   "metadata": {
    "collapsed": false
   },
   "outputs": [],
   "source": [
    "comparison = 'blast_v_suc_d2'\n",
    "try:\n",
    "    pop1 = cells_alld2_blasts\n",
    "    pop2 = cells_alld2_rew\n",
    "    unt = ~(cells_alld2_blasts+cells_alld2_rew)\n",
    "    N = len(pop1)\n",
    "    est = calc_shuffle_overlap(pop1, pop2, n_loops=n_loops,N=N)\n",
    "    \n",
    "    colors = [(0, 0.2, 1), (0.5, 0.2, 1), (0.8, 0.2, 1), (0.8, 0.8, 0.8)]\n",
    "    fig, axs = plot_it(pop1, pop2, unt, est,\n",
    "                       title='d2', labels=['blast', 'sucrose', 'B+Suc', 'Untuned'],\n",
    "                      colors=[b1,r1,'dimgrey',g],hist_colors=[g,'dimgrey'])\n",
    "\n",
    "    diff_from_chance[comparison]=[np.mean(est),(pop1*pop2).mean(),((pop1*pop2).mean())-(np.mean(est)),\n",
    "                              (((pop1*pop2).mean())-(np.mean(est)))/(np.mean(est))]\n",
    "    #fig.savefig('../img/cotuned_%s.pdf' %(comparison))\n",
    "except:\n",
    "    print 'fail'"
   ]
  },
  {
   "cell_type": "code",
   "execution_count": null,
   "metadata": {
    "collapsed": false
   },
   "outputs": [],
   "source": [
    "comparison = 'blast_v_shock_d1'\n",
    "try:\n",
    "    pop1 = cells_alld1_blasts\n",
    "    pop2 = cells_alld1_sho\n",
    "    unt = ~(cells_alld1_blasts+cells_alld1_sho)\n",
    "    N = len(pop1)\n",
    "    est = calc_shuffle_overlap(pop1, pop2, n_loops=n_loops,N=N)\n",
    "    \n",
    "    colors = [(0, 0.2, 1), (0.5, 0.2, 1), (0.8, 0.2, 1), (0.8, 0.8, 0.8)]\n",
    "    fig, axs = plot_it(pop1, pop2, unt, est,\n",
    "                       title='d1', labels=['blast', 'shock', 'B+Sho', 'Untuned'],\n",
    "                      colors=[b1,s1,'dimgrey',g],hist_colors=[g,'dimgrey'])\n",
    "\n",
    "    diff_from_chance[comparison]=[np.mean(est),(pop1*pop2).mean(),((pop1*pop2).mean())-(np.mean(est)),\n",
    "                              (((pop1*pop2).mean())-(np.mean(est)))/(np.mean(est))]\n",
    "    #fig.savefig('../img/cotuned_%s.pdf' %(comparison))\n",
    "except:\n",
    "    print 'fail'"
   ]
  },
  {
   "cell_type": "code",
   "execution_count": null,
   "metadata": {
    "collapsed": false
   },
   "outputs": [],
   "source": [
    "comparison = 'blast_v_shock_d2'\n",
    "try:\n",
    "    pop1 = cells_alld2_blasts\n",
    "    pop2 = cells_alld2_sho\n",
    "    unt = ~(cells_alld2_blasts+cells_alld2_sho)\n",
    "    N = len(pop1)\n",
    "    est = calc_shuffle_overlap(pop1, pop2, n_loops=n_loops,N=N)\n",
    "    \n",
    "    colors = [(0, 0.2, 1), (0.5, 0.2, 1), (0.8, 0.2, 1), (0.8, 0.8, 0.8)]\n",
    "    fig, axs = plot_it(pop1, pop2, unt, est,\n",
    "                       title='d2', labels=['blast', 'shock', 'B+Sho', 'Untuned'],\n",
    "                      colors=[b1,s1,'dimgrey',g],hist_colors=[g,'dimgrey'])\n",
    "\n",
    "    diff_from_chance[comparison]=[np.mean(est),(pop1*pop2).mean(),((pop1*pop2).mean())-(np.mean(est)),\n",
    "                              (((pop1*pop2).mean())-(np.mean(est)))/(np.mean(est))]\n",
    "    #fig.savefig('../img/cotuned_%s.pdf' %(comparison))\n",
    "except:\n",
    "    print 'fail'"
   ]
  },
  {
   "cell_type": "code",
   "execution_count": null,
   "metadata": {
    "collapsed": false
   },
   "outputs": [],
   "source": [
    "comparison = 'blast_v_female_d1'\n",
    "try:\n",
    "    pop1 = cells_alld1_blasts\n",
    "    pop2 = cells_alld1_female\n",
    "    unt = ~(cells_alld1_blasts+cells_alld1_female)\n",
    "    N = len(pop1)\n",
    "    est = calc_shuffle_overlap(pop1, pop2, n_loops=n_loops,N=N)\n",
    "    \n",
    "    colors = [(0, 0.2, 1), (0.5, 0.2, 1), (0.8, 0.2, 1), (0.8, 0.8, 0.8)]\n",
    "    fig, axs = plot_it(pop1, pop2, unt, est,\n",
    "                       title='d1', labels=['blast', 'female', 'B+F', 'Untuned'],\n",
    "                      colors=[b1,f1,'dimgrey',g],hist_colors=[g,'dimgrey'])\n",
    "\n",
    "    diff_from_chance[comparison]=[np.mean(est),(pop1*pop2).mean(),((pop1*pop2).mean())-(np.mean(est)),\n",
    "                              (((pop1*pop2).mean())-(np.mean(est)))/(np.mean(est))]\n",
    "    #fig.savefig('../img/cotuned_%s.pdf' %(comparison))\n",
    "except:\n",
    "    print 'fail'"
   ]
  },
  {
   "cell_type": "code",
   "execution_count": null,
   "metadata": {
    "collapsed": false
   },
   "outputs": [],
   "source": [
    "comparison = 'blast_v_female_d2'\n",
    "try:\n",
    "    pop1 = cells_alld2_blasts\n",
    "    pop2 = cells_alld2_female\n",
    "    unt = ~(cells_alld2_blasts+cells_alld2_female)\n",
    "    N = len(pop1)\n",
    "    est = calc_shuffle_overlap(pop1, pop2, n_loops=n_loops,N=N)\n",
    "    \n",
    "    colors = [(0, 0.2, 1), (0.5, 0.2, 1), (0.8, 0.2, 1), (0.8, 0.8, 0.8)]\n",
    "    fig, axs = plot_it(pop1, pop2, unt, est,\n",
    "                       title='d2', labels=['blast', 'female', 'B+F', 'Untuned'],\n",
    "                      colors=[b1,f1,'dimgrey',g],hist_colors=[g,'dimgrey'])\n",
    "\n",
    "    diff_from_chance[comparison]=[np.mean(est),(pop1*pop2).mean(),((pop1*pop2).mean())-(np.mean(est)),\n",
    "                              (((pop1*pop2).mean())-(np.mean(est)))/(np.mean(est))]\n",
    "    #fig.savefig('../img/cotuned_%s.pdf' %(comparison))\n",
    "except:\n",
    "    print 'fail'"
   ]
  },
  {
   "cell_type": "code",
   "execution_count": null,
   "metadata": {
    "collapsed": false
   },
   "outputs": [],
   "source": [
    "comparison = 'blast_v_coyote_d1'\n",
    "try:\n",
    "    pop1 = cells_alld1_blasts\n",
    "    pop2 = cells_alld1_coyote\n",
    "    unt = ~(cells_alld1_blasts+cells_alld1_coyote)\n",
    "    N = len(pop1)\n",
    "    est = calc_shuffle_overlap(pop1, pop2, n_loops=n_loops,N=N)\n",
    "    \n",
    "    colors = [(0, 0.2, 1), (0.5, 0.2, 1), (0.8, 0.2, 1), (0.8, 0.8, 0.8)]\n",
    "    fig, axs = plot_it(pop1, pop2, unt, est,\n",
    "                       title='d1', labels=['blast', 'coyote', 'B+C', 'Untuned'],\n",
    "                      colors=[b1,c1,'dimgrey',g],hist_colors=[g,'dimgrey'])\n",
    "\n",
    "    diff_from_chance[comparison]=[np.mean(est),(pop1*pop2).mean(),((pop1*pop2).mean())-(np.mean(est)),\n",
    "                              (((pop1*pop2).mean())-(np.mean(est)))/(np.mean(est))]\n",
    "    #fig.savefig('../img/cotuned_%s.pdf' %(comparison))\n",
    "except:\n",
    "    print 'fail'"
   ]
  },
  {
   "cell_type": "code",
   "execution_count": null,
   "metadata": {
    "collapsed": false
   },
   "outputs": [],
   "source": [
    "comparison = 'blast_v_coyote_d2'\n",
    "try:\n",
    "    pop1 = cells_alld2_blasts\n",
    "    pop2 = cells_alld2_coyote\n",
    "    unt = ~(cells_alld2_blasts+cells_alld2_coyote)\n",
    "    N = len(pop1)\n",
    "    est = calc_shuffle_overlap(pop1, pop2, n_loops=n_loops,N=N)\n",
    "    \n",
    "    colors = [(0, 0.2, 1), (0.5, 0.2, 1), (0.8, 0.2, 1), (0.8, 0.8, 0.8)]\n",
    "    fig, axs = plot_it(pop1, pop2, unt, est,\n",
    "                       title='d2', labels=['blast', 'coyote', 'B+C', 'Untuned'],\n",
    "                      colors=[b1,c1,'dimgrey',g],hist_colors=[g,'dimgrey'])\n",
    "\n",
    "    diff_from_chance[comparison]=[np.mean(est),(pop1*pop2).mean(),((pop1*pop2).mean())-(np.mean(est)),\n",
    "                              (((pop1*pop2).mean())-(np.mean(est)))/(np.mean(est))]\n",
    "    #fig.savefig('../img/cotuned_%s.pdf' %(comparison))\n",
    "except:\n",
    "    print 'fail'"
   ]
  },
  {
   "cell_type": "code",
   "execution_count": null,
   "metadata": {
    "collapsed": false
   },
   "outputs": [],
   "source": [
    "diff_from_chance.iterkeys()"
   ]
  },
  {
   "cell_type": "code",
   "execution_count": null,
   "metadata": {
    "collapsed": false
   },
   "outputs": [],
   "source": [
    "sorted(diff_from_chance)"
   ]
  },
  {
   "cell_type": "code",
   "execution_count": null,
   "metadata": {
    "collapsed": false
   },
   "outputs": [],
   "source": [
    "fig, ax = pl.subplots(1, 1, figsize=(8, 1.5))\n",
    "values = [diff_from_chance[t][2] for t in sorted (diff_from_chance)]\n",
    "#values = [t[2] for t in diff_from_chance]\n",
    "pt.plot_bars(values, ax=ax)\n",
    "ax.set_xticks(range(len(diff_from_chance)))\n",
    "ax.set_xticklabels(sorted (diff_from_chance), rotation=70, fontsize=6)\n",
    "pt.nicer_plot(ax)\n",
    "ax.set_ylabel('% Observed - % Chance')\n",
    "ax.set_ylim(0, 0.1)\n",
    "fig.savefig('../img/overlaps_ALL_comparisons.jpg')"
   ]
  },
  {
   "cell_type": "code",
   "execution_count": null,
   "metadata": {
    "collapsed": false
   },
   "outputs": [],
   "source": [
    "save_workspace(db)"
   ]
  },
  {
   "cell_type": "code",
   "execution_count": null,
   "metadata": {
    "collapsed": true
   },
   "outputs": [],
   "source": []
  }
 ],
 "metadata": {
  "anaconda-cloud": {},
  "kernelspec": {
   "display_name": "Python [default]",
   "language": "python",
   "name": "python2"
  },
  "language_info": {
   "codemirror_mode": {
    "name": "ipython",
    "version": 2
   },
   "file_extension": ".py",
   "mimetype": "text/x-python",
   "name": "python",
   "nbconvert_exporter": "python",
   "pygments_lexer": "ipython2",
   "version": "2.7.12"
  },
  "nbpresent": {
   "slides": {
    "0d986ed2-5f0a-4fb5-bef8-671b9a7944c2": {
     "id": "0d986ed2-5f0a-4fb5-bef8-671b9a7944c2",
     "layout": "grid",
     "prev": null,
     "regions": {
      "8225e319-a034-4787-b6c3-67ba18e539df": {
       "attrs": {
        "height": 1,
        "pad": 0.01,
        "treemap:weight": 1,
        "width": 0.5,
        "x": 0.5,
        "y": 0
       },
       "id": "8225e319-a034-4787-b6c3-67ba18e539df"
      },
      "da963486-c522-4461-b750-f656e415a1be": {
       "attrs": {
        "height": 1,
        "pad": 0.01,
        "treemap:weight": 1,
        "width": 0.5,
        "x": 0,
        "y": 0
       },
       "id": "da963486-c522-4461-b750-f656e415a1be"
      }
     }
    },
    "1735d954-277d-4120-b50d-1eda74274968": {
     "id": "1735d954-277d-4120-b50d-1eda74274968",
     "prev": "0d986ed2-5f0a-4fb5-bef8-671b9a7944c2",
     "regions": {
      "a6210379-c2c0-4a0b-b180-def0b2e45d5a": {
       "attrs": {
        "height": 1,
        "width": 1,
        "x": 0,
        "y": 0
       },
       "content": {
        "cell": "58ed5f85-9757-4f05-94ef-a631c3d9dd51",
        "part": "outputs"
       },
       "id": "a6210379-c2c0-4a0b-b180-def0b2e45d5a"
      }
     }
    },
    "17414c21-2d5e-4e85-a979-be0a81228952": {
     "id": "17414c21-2d5e-4e85-a979-be0a81228952",
     "prev": "3ba851ce-b3eb-409e-8809-d72887d124c6",
     "regions": {
      "8b369589-ef7b-40d4-986f-89079045d9ea": {
       "attrs": {
        "height": 1,
        "width": 1,
        "x": 0,
        "y": 0
       },
       "id": "8b369589-ef7b-40d4-986f-89079045d9ea"
      }
     }
    },
    "3ba851ce-b3eb-409e-8809-d72887d124c6": {
     "id": "3ba851ce-b3eb-409e-8809-d72887d124c6",
     "prev": "1735d954-277d-4120-b50d-1eda74274968",
     "regions": {
      "a70ad6eb-6c6c-4a9b-b2e6-844787805048": {
       "attrs": {
        "height": 0.7020408163265306,
        "width": 0.8377551020408163,
        "x": 0.1622448979591837,
        "y": 0.2979591836734694
       },
       "content": {
        "cell": "c50576db-4f27-48e8-a63a-42de45527151",
        "part": "outputs"
       },
       "id": "a70ad6eb-6c6c-4a9b-b2e6-844787805048"
      },
      "bebea0da-137b-4a60-9392-618d040c348d": {
       "attrs": {
        "height": 0.1360544217687075,
        "width": 0.8604591836734694,
        "x": 0.1,
        "y": 0.1
       },
       "id": "bebea0da-137b-4a60-9392-618d040c348d"
      }
     }
    }
   },
   "themes": {}
  }
 },
 "nbformat": 4,
 "nbformat_minor": 2
}
