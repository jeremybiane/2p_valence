{
 "cells": [
  {
   "cell_type": "code",
   "execution_count": null,
   "metadata": {
    "collapsed": false
   },
   "outputs": [],
   "source": [
    "from IPython.display import display\n",
    "from IPython.display import HTML\n",
    "import IPython.core.display as di # Example: di.display_html('<h3>%s:</h3>' % str, raw=True)\n",
    "\n",
    "# This line will hide code by default when the notebook is exported as HTML\n",
    "di.display_html('<script>jQuery(function() {if (jQuery(\"body.notebook_app\").length == 0) { jQuery(\".input_area\").toggle(); jQuery(\".prompt\").toggle();}});</script>', raw=True)\n",
    "\n",
    "# This line will add a button to toggle visibility of code blocks, for use with the HTML export version\n",
    "di.display_html('''<button onclick=\"jQuery('.input_area').toggle(); jQuery('.prompt').toggle();\">Toggle code</button>''', raw=True)\n"
   ]
  },
  {
   "cell_type": "code",
   "execution_count": null,
   "metadata": {
    "collapsed": true
   },
   "outputs": [],
   "source": [
    "# all modules necessary for this nb\n",
    "import os\n",
    "import sys\n",
    "import pickle\n",
    "\n",
    "import numpy as np\n",
    "import pylab as pl\n",
    "\n",
    "# setting parameters for default matplotlib plots\n",
    "%matplotlib inline"
   ]
  },
  {
   "cell_type": "code",
   "execution_count": null,
   "metadata": {
    "collapsed": false
   },
   "outputs": [],
   "source": [
    "pl.style.use('fabiostyle')\n",
    "!mkdir ../img\n",
    "\n",
    "# needs to find the library of functions\n",
    "sys.path.append('/home/fabios/data/data/Jeremy2pValence_ForAnalysis/code/')  # to be replaced!\n",
    "\n",
    "import utils as ut\n",
    "import plots as pt"
   ]
  },
  {
   "cell_type": "code",
   "execution_count": null,
   "metadata": {
    "collapsed": true
   },
   "outputs": [],
   "source": [
    "NOTEBOOK_NAME = 'tuning_stability_values'"
   ]
  },
  {
   "cell_type": "code",
   "execution_count": null,
   "metadata": {
    "collapsed": false
   },
   "outputs": [],
   "source": [
    "from pickleshare import PickleShareDB\n",
    "\n",
    "autorestore_folder = os.path.join(os.getcwd(), 'autorestore', NOTEBOOK_NAME)\n",
    "db = PickleShareDB(autorestore_folder)\n",
    "import sys\n",
    "from workspace import *\n",
    "import IPython\n",
    "ip = IPython.get_ipython()\n",
    "\n",
    "# this will restore all the saved variables. ignore the errors listed.\n",
    "load_workspace(ip, db)\n",
    "\n",
    "# use `save_worspace(db)` to save variables at the end"
   ]
  },
  {
   "cell_type": "code",
   "execution_count": null,
   "metadata": {
    "collapsed": false
   },
   "outputs": [],
   "source": [
    "vars_SS_d1 = {}\n",
    "folder = '../day1/sucroseAndShock/notebooks/autorestore/preprocessing/'\n",
    "for var in ('time_ax', 'time_ax_single', 'events', 'cycles', 'licks',\n",
    "            'is_rewardt', 'is_shockt',\n",
    "            'CYCLE_START',\n",
    "            'US_START', 'US_DURATION', 'US_END'): \n",
    "    vars_SS_d1.update({var:ut.load_variable(var, folder=folder)})\n",
    "\n",
    "    \n",
    "vars_SS_d2 = {}\n",
    "folder = '../day2/sucroseAndShock/notebooks/autorestore/preprocessing/'\n",
    "for var in ('time_ax', 'time_ax_single', 'events', 'cycles', 'licks',\n",
    "            'is_rewardt', 'is_shockt',\n",
    "            'CYCLE_START',\n",
    "            'US_START', 'US_DURATION', 'US_END'): \n",
    "    vars_SS_d2.update({var:ut.load_variable(var, folder=folder)})\n",
    "\n",
    "    \n",
    "selectivity_SS_d1 = {}\n",
    "selectivity_SS_d1.update(ut.load_variable('selectivity', folder='../day1/sucroseAndShock/notebooks/autorestore/selectivity/'))\n",
    "\n",
    "selectivity_SS_d2 = {}\n",
    "selectivity_SS_d2.update(ut.load_variable('selectivity', folder='../day2/sucroseAndShock/notebooks/autorestore/selectivity/'))\n",
    "\n",
    "SS_all = 1"
   ]
  },
  {
   "cell_type": "code",
   "execution_count": null,
   "metadata": {
    "collapsed": false
   },
   "outputs": [],
   "source": [
    "try:\n",
    "    vars_Odors_d1 = {}\n",
    "    folder = '../day1/odors/notebooks/autorestore/preprocessing/'\n",
    "    for var in ('time_ax', 'time_ax_single', 'events', 'cycles', 'licks',\n",
    "                'is_femalet', 'is_coyotet',\n",
    "                'CYCLE_START',\n",
    "                'US_START', 'US_DURATION', 'US_END'): \n",
    "        vars_Odors_d1.update({var:ut.load_variable(var, folder=folder)})\n",
    "    \n",
    "        \n",
    "    vars_Odors_d2 = {}\n",
    "    folder = '../day2/odors/notebooks/autorestore/preprocessing/'\n",
    "    for var in ('time_ax', 'time_ax_single', 'events', 'cycles', 'licks',\n",
    "                'is_femalet', 'is_coyotet',\n",
    "                'CYCLE_START',\n",
    "                'US_START', 'US_DURATION', 'US_END'): \n",
    "        vars_Odors_d2.update({var:ut.load_variable(var, folder=folder)})\n",
    "    \n",
    "        \n",
    "    selectivity_Odors_d1 = {}\n",
    "    selectivity_Odors_d1.update(ut.load_variable('selectivity', folder='../day1/odors/notebooks/autorestore/selectivity/'))\n",
    "    \n",
    "    selectivity_Odors_d2 = {}\n",
    "    selectivity_Odors_d2.update(ut.load_variable('selectivity', folder='../day2/odors/notebooks/autorestore/selectivity/'))\n",
    "    \n",
    "    Od_all = 1\n",
    "    \n",
    "except:\n",
    "    print 'failed odors'\n",
    "    Od_all = 0"
   ]
  },
  {
   "cell_type": "code",
   "execution_count": null,
   "metadata": {
    "collapsed": false
   },
   "outputs": [],
   "source": [
    "try:\n",
    "    vars_Blasts_d1 = {}\n",
    "    folder = '../day1/blasts/notebooks/autorestore/preprocessing/'\n",
    "    for var in ('time_ax', 'time_ax_single', 'events', 'cycles', 'licks',\n",
    "                'is_blastt',\n",
    "                'CYCLE_START',\n",
    "                'US_START', 'US_DURATION', 'US_END'): \n",
    "        vars_Blasts_d1.update({var:ut.load_variable(var, folder=folder)})\n",
    "    \n",
    "        \n",
    "    vars_Blasts_d2 = {}\n",
    "    folder = '../day2/blasts/notebooks/autorestore/preprocessing/'\n",
    "    for var in ('time_ax', 'time_ax_single', 'events', 'cycles', 'licks',\n",
    "                'is_blastt',\n",
    "                'CYCLE_START',\n",
    "                'US_START', 'US_DURATION', 'US_END'): \n",
    "        vars_Blasts_d2.update({var:ut.load_variable(var, folder=folder)})\n",
    "    \n",
    "        \n",
    "    selectivity_Blasts_d1 = {}\n",
    "    selectivity_Blasts_d1.update(ut.load_variable('selectivity', folder='../day1/blasts/notebooks/autorestore/selectivity/'))\n",
    "    \n",
    "    selectivity_Blasts_d2 = {}\n",
    "    selectivity_Blasts_d2.update(ut.load_variable('selectivity', folder='../day2/blasts/notebooks/autorestore/selectivity/'))\n",
    "    Blasts_all = 1\n",
    "    \n",
    "except:\n",
    "    print 'failed blasts'    \n",
    "    Blasts_all = 0"
   ]
  },
  {
   "cell_type": "code",
   "execution_count": null,
   "metadata": {
    "collapsed": false
   },
   "outputs": [],
   "source": [
    "try:\n",
    "    conditions = ['d1', 'd2']\n",
    "    cellregs_all = ut.load_variable('cellregs_d1_vs_d2', './autorestore/cellregs')\n",
    "    days = 1\n",
    "except:\n",
    "    print 'failed'\n",
    "    days = 0"
   ]
  },
  {
   "cell_type": "code",
   "execution_count": null,
   "metadata": {
    "collapsed": true
   },
   "outputs": [],
   "source": [
    "try:\n",
    "    conditions = ['SS1', 'SS2']\n",
    "    cellregs_SS = ut.load_variable('cellregs_SS1_vs_SS2', './autorestore/cellregs')\n",
    "    SS = 1\n",
    "except:\n",
    "    print 'failed'\n",
    "    SS = 0"
   ]
  },
  {
   "cell_type": "code",
   "execution_count": null,
   "metadata": {
    "collapsed": false
   },
   "outputs": [],
   "source": [
    "try:\n",
    "    conditions = ['Od1', 'Od2']\n",
    "    cellregs_Od = ut.load_variable('cellregs_Od1_vs_Od2', './autorestore/cellregs')\n",
    "    Od = 1\n",
    "except:\n",
    "    print 'failed'\n",
    "    Od = 0    "
   ]
  },
  {
   "cell_type": "code",
   "execution_count": null,
   "metadata": {
    "collapsed": false
   },
   "outputs": [],
   "source": [
    "try:\n",
    "    conditions = ['SSOd1', 'SSOd2']\n",
    "    cellregs_SSOd1_vs_SSOd2 = ut.load_variable('cellregs_SSOd1_vs_SSOd2', './autorestore/cellregs')\n",
    "    SSOd = 1\n",
    "except:\n",
    "    print 'failed'\n",
    "    SSOd = 0"
   ]
  },
  {
   "cell_type": "code",
   "execution_count": null,
   "metadata": {
    "collapsed": false
   },
   "outputs": [],
   "source": [
    "try:\n",
    "    conditions = ['SS1', 'Od1']\n",
    "    cellregs_SS1_vs_Od1 = ut.load_variable('cellregs_SS1_vs_Od1', './autorestore/cellregs')\n",
    "    SSOd = 1\n",
    "except:\n",
    "    print 'failed'\n",
    "    SSOd = 0"
   ]
  },
  {
   "cell_type": "code",
   "execution_count": null,
   "metadata": {
    "collapsed": false
   },
   "outputs": [],
   "source": [
    "try:\n",
    "    conditions = ['SS2', 'Od2']\n",
    "    cellregs_SS2_vs_Od2 = ut.load_variable('cellregs_SS2_vs_Od2', './autorestore/cellregs')\n",
    "    SSOd = 1\n",
    "except:\n",
    "    print 'failed'\n",
    "    SSOd = 0"
   ]
  },
  {
   "cell_type": "code",
   "execution_count": null,
   "metadata": {
    "collapsed": false
   },
   "outputs": [],
   "source": [
    "try:\n",
    "    conditions = ['B1', 'B2']\n",
    "    cellregs_B = ut.load_variable('cellregs_B1_vs_B2', './autorestore/cellregs')\n",
    "    B = 1\n",
    "except:\n",
    "    print 'failed'\n",
    "    B = 0"
   ]
  },
  {
   "cell_type": "code",
   "execution_count": null,
   "metadata": {
    "collapsed": false
   },
   "outputs": [],
   "source": [
    "#import json\n",
    "#\n",
    "#with open('../data/cellreg_dict.txt', 'w+') as f:\n",
    "#    a = np.loadtxt('../data/CellReg/SS/cellreg.txt')\n",
    "#    json.dump(dict(day1=a[:, 0].astype(int).tolist(), day2=a[:, 1].astype(int).tolist()), f)"
   ]
  },
  {
   "cell_type": "code",
   "execution_count": null,
   "metadata": {
    "collapsed": false
   },
   "outputs": [],
   "source": [
    "#conditions = ['day1', 'day2']\n",
    "#cellregs = dict(zip(conditions, [ut.load_cellreg_dict('../data/cellreg_dict.txt', c) for c in conditions]))"
   ]
  },
  {
   "cell_type": "code",
   "execution_count": null,
   "metadata": {
    "collapsed": false
   },
   "outputs": [],
   "source": [
    "selectivity_SS_d1.keys()"
   ]
  },
  {
   "cell_type": "code",
   "execution_count": null,
   "metadata": {
    "collapsed": true
   },
   "outputs": [],
   "source": [
    "pvalue = 0.05"
   ]
  },
  {
   "cell_type": "code",
   "execution_count": null,
   "metadata": {
    "collapsed": false
   },
   "outputs": [],
   "source": [
    "#Sucrose and shock\n",
    "# all cells\n",
    "if SS_all == 1:  # test to see if the data are present (value set above when importing data)\n",
    "    pvalues_alld1_rew = ut.adjust_pvalues([s[0][-1] for s in selectivity_SS_d1['consumption_25_4s_us']])\n",
    "    d_up = np.r_[[s[1]>0 for s in selectivity_SS_d1['consumption_25_4s_us']]]\n",
    "    d_dn = np.r_[[s[1]<0 for s in selectivity_SS_d1['consumption_25_4s_us']]]\n",
    "    cells_alld1_rew_up = pvalues_alld1_rew < pvalue * d_up\n",
    "    cells_alld1_rew_dn = pvalues_alld1_rew < pvalue * d_dn\n",
    "    cells_alld1_rew = (pvalues_alld1_rew) < pvalue\n",
    "    \n",
    "    pvalues_alld2_rew = ut.adjust_pvalues([s[0][-1] for s in selectivity_SS_d2['consumption_25_4s_us']])\n",
    "    d_up = np.r_[[s[1]>0 for s in selectivity_SS_d2['consumption_25_4s_us']]]\n",
    "    d_dn = np.r_[[s[1]<0 for s in selectivity_SS_d2['consumption_25_4s_us']]]\n",
    "    cells_alld2_rew_up = pvalues_alld2_rew < pvalue * d_up\n",
    "    cells_alld2_rew_dn = pvalues_alld2_rew < pvalue * d_dn\n",
    "    cells_alld2_rew = (pvalues_alld2_rew) < pvalue\n",
    "    \n",
    "    pvalues_alld1_sho = ut.adjust_pvalues([s[0][-1] for s in selectivity_SS_d1['shock_10_4s_us']])\n",
    "    d_up = np.r_[[s[1]>0 for s in selectivity_SS_d1['shock_10_4s_us']]]\n",
    "    d_dn = np.r_[[s[1]<0 for s in selectivity_SS_d1['shock_10_4s_us']]]\n",
    "    cells_alld1_sho_up = pvalues_alld1_sho < pvalue * d_up\n",
    "    cells_alld1_sho_dn = pvalues_alld1_sho < pvalue * d_dn\n",
    "    cells_alld1_sho = (pvalues_alld1_sho) < pvalue\n",
    "    \n",
    "    pvalues_alld2_sho = ut.adjust_pvalues([s[0][-1] for s in selectivity_SS_d2['shock_10_4s_us']])\n",
    "    d_up = np.r_[[s[1]>0 for s in selectivity_SS_d2['shock_10_4s_us']]]\n",
    "    d_dn = np.r_[[s[1]<0 for s in selectivity_SS_d2['shock_10_4s_us']]]\n",
    "    cells_alld2_sho_up = pvalues_alld2_sho < pvalue * d_up\n",
    "    cells_alld2_sho_dn = pvalues_alld2_sho < pvalue * d_dn\n",
    "    cells_alld2_sho = (pvalues_alld2_sho) < pvalue\n",
    "\n",
    "# registered cells\n",
    "if SS == 1:\n",
    "    pvalues_d1_rew = ut.adjust_pvalues([s[0][-1] for s in selectivity_SS_d1['consumption_25_4s_us']])[cellregs_SS['SS1']]\n",
    "    d_up = np.r_[[s[1]>0 for s in selectivity_SS_d1['consumption_25_4s_us']]][cellregs_SS['SS1']]\n",
    "    d_dn = np.r_[[s[1]<0 for s in selectivity_SS_d1['consumption_25_4s_us']]][cellregs_SS['SS1']]\n",
    "    cells_d1_rew_up = pvalues_d1_rew < pvalue * d_up\n",
    "    cells_d1_rew_dn = pvalues_d1_rew < pvalue * d_dn\n",
    "    cells_d1_rew = (pvalues_d1_rew) < pvalue\n",
    "    \n",
    "    pvalues_d2_rew = ut.adjust_pvalues([s[0][-1] for s in selectivity_SS_d2['consumption_25_4s_us']])[cellregs_SS['SS2']]\n",
    "    d_up = np.r_[[s[1]>0 for s in selectivity_SS_d2['consumption_25_4s_us']]][cellregs_SS['SS2']]\n",
    "    d_dn = np.r_[[s[1]<0 for s in selectivity_SS_d2['consumption_25_4s_us']]][cellregs_SS['SS2']]\n",
    "    cells_d2_rew_up = pvalues_d2_rew < pvalue * d_up\n",
    "    cells_d2_rew_dn = pvalues_d2_rew < pvalue * d_dn\n",
    "    cells_d2_rew = (pvalues_d2_rew) < pvalue\n",
    "    \n",
    "    pvalues_d1_sho = ut.adjust_pvalues([s[0][-1] for s in selectivity_SS_d1['shock_10_4s_us']])[cellregs_SS['SS1']]\n",
    "    d_up = np.r_[[s[1]>0 for s in selectivity_SS_d1['shock_10_4s_us']]][cellregs_SS['SS1']]\n",
    "    d_dn = np.r_[[s[1]<0 for s in selectivity_SS_d1['shock_10_4s_us']]][cellregs_SS['SS1']]\n",
    "    cells_d1_sho_up = (pvalues_d1_sho < pvalue) * d_up\n",
    "    cells_d1_sho_dn = pvalues_d1_sho < pvalue * d_dn\n",
    "    cells_d1_sho = pvalues_d1_sho < pvalue\n",
    "    \n",
    "    pvalues_d2_sho = ut.adjust_pvalues([s[0][-1] for s in selectivity_SS_d2['shock_10_4s_us']])[cellregs_SS['SS2']]\n",
    "    d_up = np.r_[[s[1]>0 for s in selectivity_SS_d2['shock_10_4s_us']]][cellregs_SS['SS2']]\n",
    "    d_dn = np.r_[[s[1]<0 for s in selectivity_SS_d2['shock_10_4s_us']]][cellregs_SS['SS2']]\n",
    "    cells_d2_sho_up = pvalues_d2_sho < pvalue * d_up\n",
    "    cells_d2_sho_dn = pvalues_d2_sho < pvalue * d_dn\n",
    "    cells_d2_sho = (pvalues_d2_sho) < pvalue"
   ]
  },
  {
   "cell_type": "code",
   "execution_count": null,
   "metadata": {
    "collapsed": false
   },
   "outputs": [],
   "source": [
    "#odors\n",
    "#all cells\n",
    "if Od_all ==1:\n",
    "    pvalues_alld1_coyote = ut.adjust_pvalues([s[0][-1] for s in selectivity_Odors_d1['coyote_4s_us']])\n",
    "    d_up = np.r_[[s[1]>0 for s in selectivity_Odors_d1['coyote_4s_us']]]\n",
    "    d_dn = np.r_[[s[1]<0 for s in selectivity_Odors_d1['coyote_4s_us']]]\n",
    "    cells_alld1_coyote_up = pvalues_alld1_coyote < pvalue * d_up\n",
    "    cells_alld1_coyote_dn = pvalues_alld1_coyote < pvalue * d_dn\n",
    "    cells_alld1_coyote = (pvalues_alld1_coyote) < pvalue\n",
    "    \n",
    "    pvalues_alld2_coyote = ut.adjust_pvalues([s[0][-1] for s in selectivity_Odors_d2['coyote_4s_us']])\n",
    "    d_up = np.r_[[s[1]>0 for s in selectivity_Odors_d2['coyote_4s_us']]]\n",
    "    d_dn = np.r_[[s[1]<0 for s in selectivity_Odors_d2['coyote_4s_us']]]\n",
    "    cells_alld2_coyote_up = pvalues_alld2_coyote < pvalue * d_up\n",
    "    cells_alld2_coyote_dn = pvalues_alld2_coyote < pvalue * d_dn\n",
    "    cells_alld2_coyote = (pvalues_alld2_coyote) < pvalue\n",
    "    \n",
    "    pvalues_alld1_female = ut.adjust_pvalues([s[0][-1] for s in selectivity_Odors_d1['female_4s_us']])\n",
    "    d_up = np.r_[[s[1]>0 for s in selectivity_Odors_d1['female_4s_us']]]\n",
    "    d_dn = np.r_[[s[1]<0 for s in selectivity_Odors_d1['female_4s_us']]]\n",
    "    cells_alld1_female_up = pvalues_alld1_female < pvalue * d_up\n",
    "    cells_alld1_female_dn = pvalues_alld1_female < pvalue * d_dn\n",
    "    cells_alld1_female = (pvalues_alld1_female) < pvalue\n",
    "    \n",
    "    pvalues_alld2_female = ut.adjust_pvalues([s[0][-1] for s in selectivity_Odors_d2['female_4s_us']])\n",
    "    d_up = np.r_[[s[1]>0 for s in selectivity_Odors_d2['female_4s_us']]]\n",
    "    d_dn = np.r_[[s[1]<0 for s in selectivity_Odors_d2['female_4s_us']]]\n",
    "    cells_alld2_female_up = pvalues_alld2_female < pvalue * d_up\n",
    "    cells_alld2_female_dn = pvalues_alld2_female < pvalue * d_dn\n",
    "    cells_alld2_female = (pvalues_alld2_female) < pvalue\n",
    "\n",
    "#registered cells only\n",
    "if Od == 1:\n",
    "    pvalues_d1_coyote = ut.adjust_pvalues([s[0][-1] for s in selectivity_Odors_d1['coyote_4s_us']])[cellregs_Od['Od1']]\n",
    "    d_up = np.r_[[s[1]>0 for s in selectivity_Odors_d1['coyote_4s_us']]][cellregs_Od['Od1']]\n",
    "    d_dn = np.r_[[s[1]<0 for s in selectivity_Odors_d1['coyote_4s_us']]][cellregs_Od['Od1']]\n",
    "    cells_d1_coyote_up = pvalues_d1_coyote < pvalue * d_up\n",
    "    cells_d1_coyote_dn = pvalues_d1_coyote < pvalue * d_dn\n",
    "    cells_d1_coyote = (pvalues_d1_coyote) < pvalue\n",
    "    \n",
    "    pvalues_d2_coyote = ut.adjust_pvalues([s[0][-1] for s in selectivity_Odors_d2['coyote_4s_us']])[cellregs_Od['Od2']]\n",
    "    d_up = np.r_[[s[1]>0 for s in selectivity_Odors_d2['coyote_4s_us']]][cellregs_Od['Od2']]\n",
    "    d_dn = np.r_[[s[1]<0 for s in selectivity_Odors_d2['coyote_4s_us']]][cellregs_Od['Od2']]\n",
    "    cells_d2_coyote_up = pvalues_d2_coyote < pvalue * d_up\n",
    "    cells_d2_coyote_dn = pvalues_d2_coyote < pvalue * d_dn\n",
    "    cells_d2_coyote = (pvalues_d2_coyote) < pvalue\n",
    "    \n",
    "    pvalues_d1_female = ut.adjust_pvalues([s[0][-1] for s in selectivity_Odors_d1['female_4s_us']])[cellregs_Od['Od1']]\n",
    "    d_up = np.r_[[s[1]>0 for s in selectivity_Odors_d1['female_4s_us']]][cellregs_Od['Od1']]\n",
    "    d_dn = np.r_[[s[1]<0 for s in selectivity_Odors_d1['female_4s_us']]][cellregs_Od['Od1']]\n",
    "    cells_d1_female_up = pvalues_d1_female < pvalue * d_up\n",
    "    cells_d1_female_dn = pvalues_d1_female < pvalue * d_dn\n",
    "    cells_d1_female = (pvalues_d1_female) < pvalue\n",
    "    \n",
    "    pvalues_d2_female = ut.adjust_pvalues([s[0][-1] for s in selectivity_Odors_d2['female_4s_us']])[cellregs_Od['Od2']]\n",
    "    d_up = np.r_[[s[1]>0 for s in selectivity_Odors_d2['female_4s_us']]][cellregs_Od['Od2']]\n",
    "    d_dn = np.r_[[s[1]<0 for s in selectivity_Odors_d2['female_4s_us']]][cellregs_Od['Od2']]\n",
    "    cells_d2_female_up = pvalues_d2_female < pvalue * d_up\n",
    "    cells_d2_female_dn = pvalues_d2_female < pvalue * d_dn\n",
    "    cells_d2_female = (pvalues_d2_female) < pvalue"
   ]
  },
  {
   "cell_type": "code",
   "execution_count": null,
   "metadata": {
    "collapsed": false
   },
   "outputs": [],
   "source": [
    "#Blasts\n",
    "#all cells\n",
    "if Blasts_all == 1:\n",
    "    pvalues_alld1_blasts = ut.adjust_pvalues([s[0][-1] for s in selectivity_Blasts_d1['blast_4s_us']])\n",
    "    d_up = np.r_[[s[1]>0 for s in selectivity_Blasts_d1['blast_4s_us']]]\n",
    "    d_dn = np.r_[[s[1]<0 for s in selectivity_Blasts_d1['blast_4s_us']]]\n",
    "    cells_alld1_blasts_up = pvalues_alld1_blasts < pvalue * d_up\n",
    "    cells_alld1_blasts_dn = pvalues_alld1_blasts < pvalue * d_dn\n",
    "    cells_alld1_blasts = (pvalues_alld1_blasts) < pvalue\n",
    "    \n",
    "    pvalues_alld2_blasts = ut.adjust_pvalues([s[0][-1] for s in selectivity_Blasts_d2['blast_4s_us']])\n",
    "    d_up = np.r_[[s[1]>0 for s in selectivity_Blasts_d2['blast_4s_us']]]\n",
    "    d_dn = np.r_[[s[1]<0 for s in selectivity_Blasts_d2['blast_4s_us']]]\n",
    "    cells_alld2_blasts_up = pvalues_alld2_blasts < pvalue * d_up\n",
    "    cells_alld2_blasts_dn = pvalues_alld2_blasts < pvalue * d_dn\n",
    "    cells_alld2_blasts = (pvalues_alld2_blasts) < pvalue\n",
    "\n",
    "\n",
    "#registered cells only\n",
    "if B ==1:\n",
    "    pvalues_d1_blasts = ut.adjust_pvalues([s[0][-1] for s in selectivity_Blasts_d1['blast_4s_us']])[cellregs_B['B1']]\n",
    "    d_up = np.r_[[s[1]>0 for s in selectivity_Blasts_d1['blast_4s_us']]][cellregs_B['B1']]\n",
    "    d_dn = np.r_[[s[1]<0 for s in selectivity_Blasts_d1['blast_4s_us']]][cellregs_B['B1']]\n",
    "    cells_d1_blasts_up = pvalues_d1_blasts < pvalue * d_up\n",
    "    cells_d1_blasts_dn = pvalues_d1_blasts < pvalue * d_dn\n",
    "    cells_d1_blasts = (pvalues_d1_blasts) < pvalue\n",
    "    \n",
    "    pvalues_d2_blasts = ut.adjust_pvalues([s[0][-1] for s in selectivity_Blasts_d2['blast_4s_us']])[cellregs_B['B2']]\n",
    "    d_up = np.r_[[s[1]>0 for s in selectivity_Blasts_d2['blast_4s_us']]][cellregs_B['B2']]\n",
    "    d_dn = np.r_[[s[1]<0 for s in selectivity_Blasts_d2['blast_4s_us']]][cellregs_B['B2']]\n",
    "    cells_d2_blasts_up = pvalues_d2_blasts < pvalue * d_up\n",
    "    cells_d2_blasts_dn = pvalues_d2_blasts < pvalue * d_dn\n",
    "    cells_d2_blasts = (pvalues_d2_blasts) < pvalue"
   ]
  },
  {
   "cell_type": "code",
   "execution_count": null,
   "metadata": {
    "collapsed": false
   },
   "outputs": [],
   "source": [
    "#Sucrose+shock vs odors\n",
    "if SS == 1:\n",
    "    if Od ==1:\n",
    "        #reward\n",
    "        pvalues_d1_rew_v_odors = ut.adjust_pvalues([s[0][-1] for s in selectivity_SS_d1['consumption_25_4s_us']])[cellregs_SS1_vs_Od1['SS1']]\n",
    "        d_up = np.r_[[s[1]>0 for s in selectivity_SS_d1['consumption_25_4s_us']]][cellregs_SS1_vs_Od1['SS1']]\n",
    "        d_dn = np.r_[[s[1]<0 for s in selectivity_SS_d1['consumption_25_4s_us']]][cellregs_SS1_vs_Od1['SS1']]\n",
    "        cells_d1_rew_v_odors_up = pvalues_d1_rew_v_odors < pvalue * d_up\n",
    "        cells_d1_rew_v_odors_dn = pvalues_d1_rew_v_odors < pvalue * d_dn\n",
    "        cells_d1_rew_v_odors = (pvalues_d1_rew_v_odors) < pvalue\n",
    "        \n",
    "        pvalues_d2_rew_v_odors = ut.adjust_pvalues([s[0][-1] for s in selectivity_SS_d2['consumption_25_4s_us']])[cellregs_SS2_vs_Od2['SS2']]\n",
    "        d_up = np.r_[[s[1]>0 for s in selectivity_SS_d2['consumption_25_4s_us']]][cellregs_SS2_vs_Od2['SS2']]\n",
    "        d_dn = np.r_[[s[1]<0 for s in selectivity_SS_d2['consumption_25_4s_us']]][cellregs_SS2_vs_Od2['SS2']]\n",
    "        cells_d2_rew_v_odors_up = pvalues_d2_rew_v_odors < pvalue * d_up\n",
    "        cells_d2_rew_v_odors_dn = pvalues_d2_rew_v_odors < pvalue * d_dn\n",
    "        cells_d2_rew_v_odors = (pvalues_d2_rew_v_odors) < pvalue\n",
    "       \n",
    "        #female\n",
    "        pvalues_d1_fem_v_SS = ut.adjust_pvalues([s[0][-1] for s in selectivity_Odors_d1['female_4s_us']])[cellregs_SS1_vs_Od1['Od1']]\n",
    "        d_up = np.r_[[s[1]>0 for s in selectivity_SS_d1['female_4s_us']]][cellregs_SS1_vs_Od1['Od1']]\n",
    "        d_dn = np.r_[[s[1]<0 for s in selectivity_SS_d1['female_4s_us']]][cellregs_SS1_vs_Od1['Od1']]\n",
    "        cells_d1_fem_v_SS_up = (pvalues_d1_fem_v_SS < pvalue) * d_up\n",
    "        cells_d1_fem_v_SS_dn = pvalues_d1_fem_v_SS < pvalue * d_dn\n",
    "        cells_d1_fem_v_SS = pvalues_d1_fem_v_SS < pvalue\n",
    "        \n",
    "        pvalues_d2_fem_v_SS = ut.adjust_pvalues([s[0][-1] for s in selectivity_Odors_d2['female_4s_us']])[cellregs_SS2_vs_Od2['Od2']]\n",
    "        d_up = np.r_[[s[1]>0 for s in selectivity_SS_d2['female_4s_us']]][cellregs_SS2_vs_Od2['Od2']]\n",
    "        d_dn = np.r_[[s[1]<0 for s in selectivity_SS_d2['female_4s_us']]][cellregs_SS2_vs_Od2['Od2']]\n",
    "        cells_d2_fem_v_SS_up = pvalues_d2_fem_v_SS < pvalue * d_up\n",
    "        cells_d2_fem_v_SS_dn = pvalues_d2_fem_v_SS < pvalue * d_dn\n",
    "        cells_d2_fem_v_SS = (pvalues_d2_fem_v_SS) < pvalue\n",
    "        \n",
    "        #shock\n",
    "        pvalues_d1_sho_v_odors = ut.adjust_pvalues([s[0][-1] for s in selectivity_SS_d1['shock_10_4s_us']])[cellregs_SS1_vs_Od1['SS1']]\n",
    "        d_up = np.r_[[s[1]>0 for s in selectivity_SS_d1['shock_10_4s_us']]][cellregs_SS1_vs_Od1['SS1']]\n",
    "        d_dn = np.r_[[s[1]<0 for s in selectivity_SS_d1['shock_10_4s_us']]][cellregs_SS1_vs_Od1['SS1']]\n",
    "        cells_d1_sho_v_odors_up = pvalues_d1_sho_v_odors < pvalue * d_up\n",
    "        cells_d1_sho_v_odors_dn = pvalues_d1_sho_v_odors < pvalue * d_dn\n",
    "        cells_d1_sho_v_odors = (pvalues_d1_sho_v_odors) < pvalue\n",
    "        \n",
    "        pvalues_d2_sho_v_odors = ut.adjust_pvalues([s[0][-1] for s in selectivity_SS_d2['shock_10_4s_us']])[cellregs_SS2_vs_Od2['SS2']]\n",
    "        d_up = np.r_[[s[1]>0 for s in selectivity_SS_d2['shock_10_4s_us']]][cellregs_SS2_vs_Od2['SS2']]\n",
    "        d_dn = np.r_[[s[1]<0 for s in selectivity_SS_d2['shock_10_4s_us']]][cellregs_SS2_vs_Od2['SS2']]\n",
    "        cells_d2_sho_v_odors_up = pvalues_d2_sho_v_odors < pvalue * d_up\n",
    "        cells_d2_sho_v_odors_dn = pvalues_d2_sho_v_odors < pvalue * d_dn\n",
    "        cells_d2_sho_v_odors = (pvalues_d2_sho_v_odors) < pvalue\n",
    "        \n",
    "        #coyote\n",
    "        pvalues_d1_coyote_v_SS = ut.adjust_pvalues([s[0][-1] for s in selectivity_Odors_d1['coyote_4s_us']])[cellregs_SS1_vs_Od1['Od1']]\n",
    "        d_up = np.r_[[s[1]>0 for s in selectivity_SS_d1['coyote_4s_us']]][cellregs_SS1_vs_Od1['Od1']]\n",
    "        d_dn = np.r_[[s[1]<0 for s in selectivity_SS_d1['coyote_4s_us']]][cellregs_SS1_vs_Od1['Od1']]\n",
    "        cells_d1_coyote_v_SS_up = (pvalues_d1_coyote_v_SS < pvalue) * d_up\n",
    "        cells_d1_coyote_v_SS_dn = pvalues_d1_coyote_v_SS < pvalue * d_dn\n",
    "        cells_d1_coyote_v_SS = pvalues_d1_coyote_v_SS < pvalue\n",
    "        \n",
    "        pvalues_d2_coyote_v_SS = ut.adjust_pvalues([s[0][-1] for s in selectivity_Odors_d2['coyote_4s_us']])[cellregs_SS2_vs_Od2['Od2']]\n",
    "        d_up = np.r_[[s[1]>0 for s in selectivity_SS_d2['coyote_4s_us']]][cellregs_SS2_vs_Od2['Od2']]\n",
    "        d_dn = np.r_[[s[1]<0 for s in selectivity_SS_d2['coyote_4s_us']]][cellregs_SS2_vs_Od2['Od2']]\n",
    "        cells_d2_coyote_v_SS_up = pvalues_d2_coyote_v_SS < pvalue * d_up\n",
    "        cells_d2_coyote_v_SS_dn = pvalues_d2_coyote_v_SS < pvalue * d_dn\n",
    "        cells_d2_coyote_v_SS = (pvalues_d2_coyote_v_SS) < pvalue"
   ]
  },
  {
   "cell_type": "code",
   "execution_count": null,
   "metadata": {
    "collapsed": false
   },
   "outputs": [],
   "source": [
    "print 'all cells = ',\n",
    "print len(cells_alld1_rew)\n",
    "print'registered cells = ',\n",
    "print(len(cells_d1_rew))"
   ]
  },
  {
   "cell_type": "code",
   "execution_count": null,
   "metadata": {
    "collapsed": false,
    "scrolled": true
   },
   "outputs": [],
   "source": [
    "save_workspace(db)"
   ]
  },
  {
   "cell_type": "code",
   "execution_count": null,
   "metadata": {
    "collapsed": true
   },
   "outputs": [],
   "source": []
  }
 ],
 "metadata": {
  "anaconda-cloud": {},
  "kernelspec": {
   "display_name": "Python [default]",
   "language": "python",
   "name": "python2"
  },
  "language_info": {
   "codemirror_mode": {
    "name": "ipython",
    "version": 2
   },
   "file_extension": ".py",
   "mimetype": "text/x-python",
   "name": "python",
   "nbconvert_exporter": "python",
   "pygments_lexer": "ipython2",
   "version": "2.7.12"
  }
 },
 "nbformat": 4,
 "nbformat_minor": 2
}
