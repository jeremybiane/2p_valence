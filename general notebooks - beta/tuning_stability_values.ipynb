{
 "cells": [
  {
   "cell_type": "code",
   "execution_count": null,
   "metadata": {
    "collapsed": false
   },
   "outputs": [],
   "source": [
    "from IPython.display import display\n",
    "from IPython.display import HTML\n",
    "import IPython.core.display as di # Example: di.display_html('<h3>%s:</h3>' % str, raw=True)\n",
    "\n",
    "# This line will hide code by default when the notebook is exported as HTML\n",
    "di.display_html('<script>jQuery(function() {if (jQuery(\"body.notebook_app\").length == 0) { jQuery(\".input_area\").toggle(); jQuery(\".prompt\").toggle();}});</script>', raw=True)\n",
    "\n",
    "# This line will add a button to toggle visibility of code blocks, for use with the HTML export version\n",
    "di.display_html('''<button onclick=\"jQuery('.input_area').toggle(); jQuery('.prompt').toggle();\">Toggle code</button>''', raw=True)\n"
   ]
  },
  {
   "cell_type": "code",
   "execution_count": null,
   "metadata": {
    "collapsed": true
   },
   "outputs": [],
   "source": [
    "# all modules necessary for this nb\n",
    "import os\n",
    "import sys\n",
    "import pickle\n",
    "\n",
    "import numpy as np\n",
    "import pylab as pl\n",
    "\n",
    "# setting parameters for default matplotlib plots\n",
    "%matplotlib inline"
   ]
  },
  {
   "cell_type": "code",
   "execution_count": null,
   "metadata": {
    "collapsed": false
   },
   "outputs": [],
   "source": [
    "pl.style.use('fabiostyle')\n",
    "!mkdir ../img\n",
    "\n",
    "# needs to find the library of functions\n",
    "sys.path.append('/home/fabios/data/data/Jeremy2pValence_ForAnalysis/code/')  # to be replaced!\n",
    "\n",
    "import utils as ut\n",
    "import plots as pt"
   ]
  },
  {
   "cell_type": "code",
   "execution_count": null,
   "metadata": {
    "collapsed": true
   },
   "outputs": [],
   "source": [
    "NOTEBOOK_NAME = 'tuning_stability_values'"
   ]
  },
  {
   "cell_type": "code",
   "execution_count": null,
   "metadata": {
    "collapsed": false
   },
   "outputs": [],
   "source": [
    "from pickleshare import PickleShareDB\n",
    "\n",
    "autorestore_folder = os.path.join(os.getcwd(), 'autorestore', NOTEBOOK_NAME)\n",
    "db = PickleShareDB(autorestore_folder)\n",
    "import sys\n",
    "from workspace import *\n",
    "import IPython\n",
    "ip = IPython.get_ipython()\n",
    "\n",
    "# this will restore all the saved variables. ignore the errors listed.\n",
    "load_workspace(ip, db)\n",
    "\n",
    "# use `save_worspace(db)` to save variables at the end"
   ]
  },
  {
   "cell_type": "code",
   "execution_count": null,
   "metadata": {
    "collapsed": false
   },
   "outputs": [],
   "source": [
    "vars_SS_pre = {}\n",
    "folder = '../day1/sucroseAndShock/notebooks/autorestore/preprocessing/'\n",
    "for var in ('time_ax', 'time_ax_single', 'events', 'cycles', 'licks',\n",
    "            'is_rewardt', 'is_shockt',\n",
    "            'CYCLE_START',\n",
    "            'US_START', 'US_DURATION', 'US_END'): \n",
    "    vars_SS_pre.update({var:ut.load_variable(var, folder=folder)})\n",
    "\n",
    "    \n",
    "vars_SS_post = {}\n",
    "folder = '../day2/sucroseAndShock/notebooks/autorestore/preprocessing/'\n",
    "for var in ('time_ax', 'time_ax_single', 'events', 'cycles', 'licks',\n",
    "            'is_rewardt', 'is_shockt',\n",
    "            'CYCLE_START',\n",
    "            'US_START', 'US_DURATION', 'US_END'): \n",
    "    vars_SS_post.update({var:ut.load_variable(var, folder=folder)})\n",
    "\n",
    "    \n",
    "selectivity_SS_pre = {}\n",
    "selectivity_SS_pre.update(ut.load_variable('selectivity', folder='../day1/sucroseAndShock/notebooks/autorestore/selectivity/'))\n",
    "\n",
    "selectivity_SS_post = {}\n",
    "selectivity_SS_post.update(ut.load_variable('selectivity', folder='../day2/sucroseAndShock/notebooks/autorestore/selectivity/'))\n",
    "    \n",
    "\n",
    "# corrs_pre = {}\n",
    "# folder = '../day1/sucroseAndShock/notebooks/autorestore/selectivity_SucroseAndShock/'\n",
    "# for var in ('correlatedLicks_US','correlatedLicks_CS_US','correlatedLicks_Tr_US','correlatedLicks_CS_Tr'): \n",
    "#     corrs_pre.update({var:ut.load_variable(var, folder=folder)})\n",
    "\n",
    "# corrs_post = {}\n",
    "# folder = '../post/notebooks/autorestore/selectivity'\n",
    "# for var in ( 'correlatedLicks_US','correlatedLicks_CS_US','correlatedLicks_Tr_US','correlatedLicks_CS_Tr'): \n",
    "#     corrs_post.update({var:ut.load_variable(var, folder=folder)})\n"
   ]
  },
  {
   "cell_type": "code",
   "execution_count": null,
   "metadata": {
    "collapsed": false
   },
   "outputs": [],
   "source": [
    "vars_Odors_pre = {}\n",
    "folder = '../day1/Odors/notebooks/autorestore/preprocessing/'\n",
    "for var in ('time_ax', 'time_ax_single', 'events', 'cycles', 'licks',\n",
    "            'is_femalet', 'is_coyotet',\n",
    "            'CYCLE_START',\n",
    "            'US_START', 'US_DURATION', 'US_END'): \n",
    "    vars_Odors_pre.update({var:ut.load_variable(var, folder=folder)})\n",
    "\n",
    "    \n",
    "vars_Odors_post = {}\n",
    "folder = '../day2/Odors/notebooks/autorestore/preprocessing/'\n",
    "for var in ('time_ax', 'time_ax_single', 'events', 'cycles', 'licks',\n",
    "            'is_femalet', 'is_coyotet',\n",
    "            'CYCLE_START',\n",
    "            'US_START', 'US_DURATION', 'US_END'): \n",
    "    vars_Odors_post.update({var:ut.load_variable(var, folder=folder)})\n",
    "\n",
    "    \n",
    "selectivity_Odors_pre = {}\n",
    "selectivity_Odors_pre.update(ut.load_variable('selectivity', folder='../day1/Odors/notebooks/autorestore/selectivity/'))\n",
    "\n",
    "selectivity_Odors_post = {}\n",
    "selectivity_Odors_post.update(ut.load_variable('selectivity', folder='../day2/Odors/notebooks/autorestore/selectivity/'))\n",
    "    \n",
    "\n",
    "# corrs_pre = {}\n",
    "# folder = '../day1/sucroseAndShock/notebooks/autorestore/selectivity_SucroseAndShock/'\n",
    "# for var in ('correlatedLicks_US','correlatedLicks_CS_US','correlatedLicks_Tr_US','correlatedLicks_CS_Tr'): \n",
    "#     corrs_pre.update({var:ut.load_variable(var, folder=folder)})\n",
    "\n",
    "# corrs_post = {}\n",
    "# folder = '../post/notebooks/autorestore/selectivity'\n",
    "# for var in ( 'correlatedLicks_US','correlatedLicks_CS_US','correlatedLicks_Tr_US','correlatedLicks_CS_Tr'): \n",
    "#     corrs_post.update({var:ut.load_variable(var, folder=folder)})\n"
   ]
  },
  {
   "cell_type": "code",
   "execution_count": null,
   "metadata": {
    "collapsed": true
   },
   "outputs": [],
   "source": [
    "vars_Blast_pre = {}\n",
    "folder = '../day1/blasts/notebooks/autorestore/preprocessing/'\n",
    "for var in ('time_ax', 'time_ax_single', 'events', 'cycles', 'licks',\n",
    "            'is_rewardt', 'is_shockt',\n",
    "            'CYCLE_START',\n",
    "            'US_START', 'US_DURATION', 'US_END'): \n",
    "    vars_Blast_pre.update({var:ut.load_variable(var, folder=folder)})\n",
    "\n",
    "    \n",
    "vars_Blast_post = {}\n",
    "folder = '../day2/blasts/notebooks/autorestore/preprocessing/'\n",
    "for var in ('time_ax', 'time_ax_single', 'events', 'cycles', 'licks',\n",
    "            'is_rewardt', 'is_shockt',\n",
    "            'CYCLE_START',\n",
    "            'US_START', 'US_DURATION', 'US_END'): \n",
    "    vars_Blast_post.update({var:ut.load_variable(var, folder=folder)})\n",
    "\n",
    "    \n",
    "selectivity_Blast_pre = {}\n",
    "selectivity_Blast_pre.update(ut.load_variable('selectivity', folder='../day1/blasts/notebooks/autorestore/selectivity/'))\n",
    "\n",
    "selectivity_Blast_post = {}\n",
    "selectivity_Blast_post.update(ut.load_variable('selectivity', folder='../day2/blasts/notebooks/autorestore/selectivity/'))\n",
    "    \n",
    "\n",
    "# corrs_pre = {}\n",
    "# folder = '../day1/sucroseAndShock/notebooks/autorestore/selectivity_SucroseAndShock/'\n",
    "# for var in ('correlatedLicks_US','correlatedLicks_CS_US','correlatedLicks_Tr_US','correlatedLicks_CS_Tr'): \n",
    "#     corrs_pre.update({var:ut.load_variable(var, folder=folder)})\n",
    "\n",
    "# corrs_post = {}\n",
    "# folder = '../post/notebooks/autorestore/selectivity'\n",
    "# for var in ( 'correlatedLicks_US','correlatedLicks_CS_US','correlatedLicks_Tr_US','correlatedLicks_CS_Tr'): \n",
    "#     corrs_post.update({var:ut.load_variable(var, folder=folder)})\n"
   ]
  },
  {
   "cell_type": "code",
   "execution_count": null,
   "metadata": {
    "collapsed": false
   },
   "outputs": [],
   "source": [
    "conditions = ['d1', 'd2']\n",
    "cellregs_all = ut.load_variable('cellregs_d1_vs_d2', './autorestore/cellregs')"
   ]
  },
  {
   "cell_type": "code",
   "execution_count": null,
   "metadata": {
    "collapsed": true
   },
   "outputs": [],
   "source": [
    "conditions = ['SS1', 'SS2']\n",
    "cellregs_SS = ut.load_variable('cellregs_SS1_vs_SS2', './autorestore/cellregs')"
   ]
  },
  {
   "cell_type": "code",
   "execution_count": null,
   "metadata": {
    "collapsed": false
   },
   "outputs": [],
   "source": [
    "conditions = ['Od1', 'Od2']\n",
    "cellregs_Od = ut.load_variable('cellregs_Od1_vs_Od2', './autorestore/cellregs')"
   ]
  },
  {
   "cell_type": "code",
   "execution_count": null,
   "metadata": {
    "collapsed": false
   },
   "outputs": [],
   "source": [
    "conditions = ['SSOd1', 'SSOd2']\n",
    "cellregs_SSOd1_vs_SSOd2 = ut.load_variable('cellregs_SSOd1_vs_SSOd2', './autorestore/cellregs')"
   ]
  },
  {
   "cell_type": "code",
   "execution_count": null,
   "metadata": {
    "collapsed": false
   },
   "outputs": [],
   "source": [
    "conditions = ['SS1', 'Od1']\n",
    "cellregs_SS1_vs_Od1 = ut.load_variable('cellregs_SS1_vs_Od1', './autorestore/cellregs')"
   ]
  },
  {
   "cell_type": "code",
   "execution_count": null,
   "metadata": {
    "collapsed": false
   },
   "outputs": [],
   "source": [
    "conditions = ['SS2', 'Od2']\n",
    "cellregs_SS2_vs_Od2 = ut.load_variable('cellregs_SS2_vs_Od2', './autorestore/cellregs')"
   ]
  },
  {
   "cell_type": "code",
   "execution_count": null,
   "metadata": {
    "collapsed": false
   },
   "outputs": [],
   "source": [
    "conditions = ['B1', 'B2']\n",
    "cellregs_B = ut.load_variable('cellregs_B1_vs_B2', './autorestore/cellregs')"
   ]
  },
  {
   "cell_type": "code",
   "execution_count": null,
   "metadata": {
    "collapsed": false
   },
   "outputs": [],
   "source": [
    "#import json\n",
    "#\n",
    "#with open('../data/cellreg_dict.txt', 'w+') as f:\n",
    "#    a = np.loadtxt('../data/CellReg/SS/cellreg.txt')\n",
    "#    json.dump(dict(day1=a[:, 0].astype(int).tolist(), day2=a[:, 1].astype(int).tolist()), f)"
   ]
  },
  {
   "cell_type": "code",
   "execution_count": null,
   "metadata": {
    "collapsed": false
   },
   "outputs": [],
   "source": [
    "#conditions = ['day1', 'day2']\n",
    "#cellregs = dict(zip(conditions, [ut.load_cellreg_dict('../data/cellreg_dict.txt', c) for c in conditions]))"
   ]
  },
  {
   "cell_type": "code",
   "execution_count": null,
   "metadata": {
    "collapsed": false
   },
   "outputs": [],
   "source": [
    "selectivity_SS_pre.keys()"
   ]
  },
  {
   "cell_type": "code",
   "execution_count": null,
   "metadata": {
    "collapsed": true
   },
   "outputs": [],
   "source": [
    "pvalue = 0.05"
   ]
  },
  {
   "cell_type": "code",
   "execution_count": null,
   "metadata": {
    "collapsed": false
   },
   "outputs": [],
   "source": [
    "# all cells\n",
    "pvalues_allpre_rew = ut.adjust_pvalues([s[0][-1] for s in selectivity_SS_pre['consumption_25_4s_us']])\n",
    "d_up = np.r_[[s[1]>0 for s in selectivity_SS_pre['consumption_25_4s_us']]]\n",
    "d_dn = np.r_[[s[1]<0 for s in selectivity_SS_pre['consumption_25_4s_us']]]\n",
    "cells_allpre_rew_up = pvalues_allpre_rew < pvalue * d_up\n",
    "cells_allpre_rew_dn = pvalues_allpre_rew < pvalue * d_dn\n",
    "cells_allpre_rew = (pvalues_allpre_rew) < pvalue\n",
    "\n",
    "pvalues_allpost_rew = ut.adjust_pvalues([s[0][-1] for s in selectivity_SS_post['consumption_25_4s_us']])\n",
    "d_up = np.r_[[s[1]>0 for s in selectivity_SS_post['consumption_25_4s_us']]]\n",
    "d_dn = np.r_[[s[1]<0 for s in selectivity_SS_post['consumption_25_4s_us']]]\n",
    "cells_allpost_rew_up = pvalues_allpost_rew < pvalue * d_up\n",
    "cells_allpost_rew_dn = pvalues_allpost_rew < pvalue * d_dn\n",
    "cells_allpost_rew = (pvalues_allpost_rew) < pvalue\n",
    "\n",
    "pvalues_allpre_sho = ut.adjust_pvalues([s[0][-1] for s in selectivity_SS_pre['shock_10_4s_us']])\n",
    "d_up = np.r_[[s[1]>0 for s in selectivity_SS_pre['shock_10_4s_us']]]\n",
    "d_dn = np.r_[[s[1]<0 for s in selectivity_SS_pre['shock_10_4s_us']]]\n",
    "cells_allpre_sho_up = pvalues_allpre_sho < pvalue * d_up\n",
    "cells_allpre_sho_dn = pvalues_allpre_sho < pvalue * d_dn\n",
    "cells_allpre_sho = (pvalues_allpre_sho) < pvalue\n",
    "\n",
    "pvalues_allpost_sho = ut.adjust_pvalues([s[0][-1] for s in selectivity_SS_post['shock_10_4s_us']])\n",
    "d_up = np.r_[[s[1]>0 for s in selectivity_SS_post['shock_10_4s_us']]]\n",
    "d_dn = np.r_[[s[1]<0 for s in selectivity_SS_post['shock_10_4s_us']]]\n",
    "cells_allpost_sho_up = pvalues_allpost_sho < pvalue * d_up\n",
    "cells_allpost_sho_dn = pvalues_allpost_sho < pvalue * d_dn\n",
    "cells_allpost_sho = (pvalues_allpost_sho) < pvalue\n",
    "\n",
    "# registered\n",
    "pvalues_pre_rew = ut.adjust_pvalues([s[0][-1] for s in selectivity_SS_pre['consumption_25_4s_us']])[cellregs_SS['SS1']]\n",
    "d_up = np.r_[[s[1]>0 for s in selectivity_SS_pre['consumption_25_4s_us']]][cellregs_SS['SS1']]\n",
    "d_dn = np.r_[[s[1]<0 for s in selectivity_SS_pre['consumption_25_4s_us']]][cellregs_SS['SS1']]\n",
    "cells_pre_rew_up = pvalues_pre_rew < pvalue * d_up\n",
    "cells_pre_rew_dn = pvalues_pre_rew < pvalue * d_dn\n",
    "cells_pre_rew = (pvalues_pre_rew) < pvalue\n",
    "\n",
    "pvalues_post_rew = ut.adjust_pvalues([s[0][-1] for s in selectivity_SS_post['consumption_25_4s_us']])[cellregs_SS['SS2']]\n",
    "d_up = np.r_[[s[1]>0 for s in selectivity_SS_post['consumption_25_4s_us']]][cellregs_SS['SS2']]\n",
    "d_dn = np.r_[[s[1]<0 for s in selectivity_SS_post['consumption_25_4s_us']]][cellregs_SS['SS2']]\n",
    "cells_post_rew_up = pvalues_post_rew < pvalue * d_up\n",
    "cells_post_rew_dn = pvalues_post_rew < pvalue * d_dn\n",
    "cells_post_rew = (pvalues_post_rew) < pvalue\n",
    "\n",
    "pvalues_pre_sho = ut.adjust_pvalues([s[0][-1] for s in selectivity_SS_pre['shock_10_4s_us']])[cellregs_SS['SS1']]\n",
    "d_up = np.r_[[s[1]>0 for s in selectivity_SS_pre['shock_10_4s_us']]][cellregs_SS['SS1']]\n",
    "d_dn = np.r_[[s[1]<0 for s in selectivity_SS_pre['shock_10_4s_us']]][cellregs_SS['SS1']]\n",
    "cells_pre_sho_up = (pvalues_pre_sho < pvalue) * d_up\n",
    "cells_pre_sho_dn = pvalues_pre_sho < pvalue * d_dn\n",
    "cells_pre_sho = pvalues_pre_sho < pvalue\n",
    "\n",
    "pvalues_post_sho = ut.adjust_pvalues([s[0][-1] for s in selectivity_SS_post['shock_10_4s_us']])[cellregs_SS['SS2']]\n",
    "d_up = np.r_[[s[1]>0 for s in selectivity_SS_post['shock_10_4s_us']]][cellregs_SS['SS2']]\n",
    "d_dn = np.r_[[s[1]<0 for s in selectivity_SS_post['shock_10_4s_us']]][cellregs_SS['SS2']]\n",
    "cells_post_sho_up = pvalues_post_sho < pvalue * d_up\n",
    "cells_post_sho_dn = pvalues_post_sho < pvalue * d_dn\n",
    "cells_post_sho = (pvalues_post_sho) < pvalue"
   ]
  },
  {
   "cell_type": "code",
   "execution_count": null,
   "metadata": {
    "collapsed": false
   },
   "outputs": [],
   "source": [
    "#odors\n",
    "#all cells\n",
    "pvalues_allpre_coyote = ut.adjust_pvalues([s[0][-1] for s in selectivity_Odors_pre['coyote_4s_us']])\n",
    "d_up = np.r_[[s[1]>0 for s in selectivity_Odors_pre['coyote_4s_us']]]\n",
    "d_dn = np.r_[[s[1]<0 for s in selectivity_Odors_pre['coyote_4s_us']]]\n",
    "cells_allpre_coyote_up = pvalues_allpre_coyote < pvalue * d_up\n",
    "cells_allpre_coyote_dn = pvalues_allpre_coyote < pvalue * d_dn\n",
    "cells_allpre_coyote = (pvalues_allpre_coyote) < pvalue\n",
    "\n",
    "pvalues_allpost_coyote = ut.adjust_pvalues([s[0][-1] for s in selectivity_Odors_post['coyote_4s_us']])\n",
    "d_up = np.r_[[s[1]>0 for s in selectivity_Odors_post['coyote_4s_us']]]\n",
    "d_dn = np.r_[[s[1]<0 for s in selectivity_Odors_post['coyote_4s_us']]]\n",
    "cells_allpost_coyote_up = pvalues_allpost_coyote < pvalue * d_up\n",
    "cells_allpost_coyote_dn = pvalues_allpost_coyote < pvalue * d_dn\n",
    "cells_allpost_coyote = (pvalues_allpost_coyote) < pvalue\n",
    "\n",
    "pvalues_allpre_female = ut.adjust_pvalues([s[0][-1] for s in selectivity_Odors_pre['female_4s_us']])\n",
    "d_up = np.r_[[s[1]>0 for s in selectivity_Odors_pre['female_4s_us']]]\n",
    "d_dn = np.r_[[s[1]<0 for s in selectivity_Odors_pre['female_4s_us']]]\n",
    "cells_allpre_female_up = pvalues_allpre_female < pvalue * d_up\n",
    "cells_allpre_female_dn = pvalues_allpre_female < pvalue * d_dn\n",
    "cells_allpre_female = (pvalues_allpre_female) < pvalue\n",
    "\n",
    "pvalues_allpost_female = ut.adjust_pvalues([s[0][-1] for s in selectivity_Odors_post['female_4s_us']])\n",
    "d_up = np.r_[[s[1]>0 for s in selectivity_Odors_post['female_4s_us']]]\n",
    "d_dn = np.r_[[s[1]<0 for s in selectivity_Odors_post['female_4s_us']]]\n",
    "cells_allpost_female_up = pvalues_allpost_female < pvalue * d_up\n",
    "cells_allpost_female_dn = pvalues_allpost_female < pvalue * d_dn\n",
    "cells_allpost_female = (pvalues_allpost_female) < pvalue\n",
    "\n",
    "#registered cells only\n",
    "pvalues_pre_coyote = ut.adjust_pvalues([s[0][-1] for s in selectivity_Odors_pre['coyote_4s_us']])[cellregs_Od['Od1']]\n",
    "d_up = np.r_[[s[1]>0 for s in selectivity_Odors_pre['coyote_4s_us']]]\n",
    "d_dn = np.r_[[s[1]<0 for s in selectivity_Odors_pre['coyote_4s_us']]]\n",
    "cells_allpre_coyote_up = pvalues_pre_coyote < pvalue * d_up\n",
    "cells_allpre_coyote_dn = pvalues_pre_coyote < pvalue * d_dn\n",
    "cells_allpre_coyote = (pvalues_pre_coyote) < pvalue\n",
    "\n",
    "pvalues_post_coyote = ut.adjust_pvalues([s[0][-1] for s in selectivity_Odors_post['coyote_4s_us']])[cellregs_Od['Od2']]\n",
    "d_up = np.r_[[s[1]>0 for s in selectivity_Odors_post['coyote_4s_us']]]\n",
    "d_dn = np.r_[[s[1]<0 for s in selectivity_Odors_post['coyote_4s_us']]]\n",
    "cells_post_coyote_up = pvalues_post_coyote < pvalue * d_up\n",
    "cells_post_coyote_dn = pvalues_post_coyote < pvalue * d_dn\n",
    "cells_post_coyote = (pvalues_post_coyote) < pvalue\n",
    "\n",
    "pvalues_pre_female = ut.adjust_pvalues([s[0][-1] for s in selectivity_Odors_pre['female_4s_us']])[cellregs_Od['Od1']]\n",
    "d_up = np.r_[[s[1]>0 for s in selectivity_Odors_pre['female_4s_us']]]\n",
    "d_dn = np.r_[[s[1]<0 for s in selectivity_Odors_pre['female_4s_us']]]\n",
    "cells_pre_female_up = pvalues_pre_female < pvalue * d_up\n",
    "cells_pre_female_dn = pvalues_pre_female < pvalue * d_dn\n",
    "cells_pre_female = (pvalues_pre_female) < pvalue\n",
    "\n",
    "pvalues_post_female = ut.adjust_pvalues([s[0][-1] for s in selectivity_Odors_post['female_4s_us']])[cellregs_Od['Od2']]\n",
    "d_up = np.r_[[s[1]>0 for s in selectivity_Odors_post['female_4s_us']]]\n",
    "d_dn = np.r_[[s[1]<0 for s in selectivity_Odors_post['female_4s_us']]]\n",
    "cells_post_female_up = pvalues_post_female < pvalue * d_up\n",
    "cells_post_female_dn = pvalues_post_female < pvalue * d_dn\n",
    "cells_post_female = (pvalues_post_female) < pvalue"
   ]
  },
  {
   "cell_type": "code",
   "execution_count": null,
   "metadata": {
    "collapsed": true
   },
   "outputs": [],
   "source": [
    "#Blasts\n",
    "#all cells\n",
    "pvalues_allpre_blasts = ut.adjust_pvalues([s[0][-1] for s in selectivity_Blasts_pre['blast_4s_us']])\n",
    "d_up = np.r_[[s[1]>0 for s in selectivity_Blasts_pre['blast_4s_us']]]\n",
    "d_dn = np.r_[[s[1]<0 for s in selectivity_Blasts_pre['blast_4s_us']]]\n",
    "cells_allpre_blasts_up = pvalues_allpre_blasts < pvalue * d_up\n",
    "cells_allpre_blasts_dn = pvalues_allpre_blasts < pvalue * d_dn\n",
    "cells_allpre_blasts = (pvalues_allpre_blasts) < pvalue\n",
    "\n",
    "pvalues_allpost_blasts = ut.adjust_pvalues([s[0][-1] for s in selectivity_Blasts_post['blast_4s_us']])\n",
    "d_up = np.r_[[s[1]>0 for s in selectivity_Blasts_post['blast_4s_us']]]\n",
    "d_dn = np.r_[[s[1]<0 for s in selectivity_Blasts_post['blast_4s_us']]]\n",
    "cells_allpost_blasts_up = pvalues_allpost_blasts < pvalue * d_up\n",
    "cells_allpost_blasts_dn = pvalues_allpost_blasts < pvalue * d_dn\n",
    "cells_allpost_blasts = (pvalues_allpost_blasts) < pvalue\n",
    "\n",
    "\n",
    "#registered cells only\n",
    "pvalues_pre_blasts = ut.adjust_pvalues([s[0][-1] for s in selectivity_Blasts_pre['blast_4s_us']])[cellregs_B['B1']]\n",
    "d_up = np.r_[[s[1]>0 for s in selectivity_Blasts_pre['blast_4s_us']]]\n",
    "d_dn = np.r_[[s[1]<0 for s in selectivity_Blasts_pre['blast_4s_us']]]\n",
    "cells_allpre_blasts_up = pvalues_pre_blasts < pvalue * d_up\n",
    "cells_allpre_blasts_dn = pvalues_pre_blasts < pvalue * d_dn\n",
    "cells_allpre_blasts = (pvalues_pre_blasts) < pvalue\n",
    "\n",
    "pvalues_post_blasts = ut.adjust_pvalues([s[0][-1] for s in selectivity_Blasts_post['blast_4s_us']])[cellregs_B['B2']]\n",
    "d_up = np.r_[[s[1]>0 for s in selectivity_Blasts_post['blast_4s_us']]]\n",
    "d_dn = np.r_[[s[1]<0 for s in selectivity_Blasts_post['blast_4s_us']]]\n",
    "cells_post_blasts_up = pvalues_post_blasts < pvalue * d_up\n",
    "cells_post_blasts_dn = pvalues_post_blasts < pvalue * d_dn\n",
    "cells_post_blasts = (pvalues_post_blasts) < pvalue"
   ]
  },
  {
   "cell_type": "code",
   "execution_count": null,
   "metadata": {
    "collapsed": false
   },
   "outputs": [],
   "source": [
    "print pvalues_pre_sho <pvalue\n",
    "print cells_pre_sho"
   ]
  },
  {
   "cell_type": "code",
   "execution_count": null,
   "metadata": {
    "collapsed": false
   },
   "outputs": [],
   "source": [
    "print len(cells_pre_rew)\n",
    "print len(cells_allpre_rew)"
   ]
  },
  {
   "cell_type": "code",
   "execution_count": null,
   "metadata": {
    "collapsed": false,
    "scrolled": true
   },
   "outputs": [],
   "source": [
    "save_workspace(db)"
   ]
  },
  {
   "cell_type": "code",
   "execution_count": null,
   "metadata": {
    "collapsed": true
   },
   "outputs": [],
   "source": []
  }
 ],
 "metadata": {
  "anaconda-cloud": {},
  "kernelspec": {
   "display_name": "Python [default]",
   "language": "python",
   "name": "python2"
  },
  "language_info": {
   "codemirror_mode": {
    "name": "ipython",
    "version": 2
   },
   "file_extension": ".py",
   "mimetype": "text/x-python",
   "name": "python",
   "nbconvert_exporter": "python",
   "pygments_lexer": "ipython2",
   "version": "2.7.12"
  }
 },
 "nbformat": 4,
 "nbformat_minor": 2
}
