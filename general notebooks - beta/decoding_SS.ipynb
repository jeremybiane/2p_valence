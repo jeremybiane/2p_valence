{
 "cells": [
  {
   "cell_type": "code",
   "execution_count": 1,
   "metadata": {
    "collapsed": false
   },
   "outputs": [
    {
     "data": {
      "text/html": [
       "<script>jQuery(function() {if (jQuery(\"body.notebook_app\").length == 0) { jQuery(\".input_area\").toggle(); jQuery(\".prompt\").toggle();}});</script>"
      ]
     },
     "metadata": {},
     "output_type": "display_data"
    },
    {
     "data": {
      "text/html": [
       "<button onclick=\"jQuery('.input_area').toggle(); jQuery('.prompt').toggle();\">Toggle code</button>"
      ]
     },
     "metadata": {},
     "output_type": "display_data"
    }
   ],
   "source": [
    "from IPython.display import display\n",
    "from IPython.display import HTML\n",
    "import IPython.core.display as di # Example: di.display_html('<h3>%s:</h3>' % str, raw=True)\n",
    "\n",
    "# This line will hide code by default when the notebook is exported as HTML\n",
    "di.display_html('<script>jQuery(function() {if (jQuery(\"body.notebook_app\").length == 0) { jQuery(\".input_area\").toggle(); jQuery(\".prompt\").toggle();}});</script>', raw=True)\n",
    "\n",
    "# This line will add a button to toggle visibility of code blocks, for use with the HTML export version\n",
    "di.display_html('''<button onclick=\"jQuery('.input_area').toggle(); jQuery('.prompt').toggle();\">Toggle code</button>''', raw=True)\n"
   ]
  },
  {
   "cell_type": "code",
   "execution_count": 5,
   "metadata": {
    "collapsed": false
   },
   "outputs": [],
   "source": [
    "# all modules necessary for this nb\n",
    "import os\n",
    "import sys\n",
    "import pickle\n",
    "\n",
    "import numpy as np\n",
    "import pylab as pl\n",
    "\n",
    "# setting parameters for default matplotlib plots\n",
    "%matplotlib inline\n",
    "pl.rcParams['savefig.dpi'] = 300 # dpi for most publications\n",
    "pl.rcParams['xtick.labelsize'] = 7\n",
    "pl.rcParams['ytick.labelsize'] = 7\n",
    "pl.rcParams['axes.labelsize'] = 7\n",
    "\n",
    "# needs to find the library of functions\n",
    "sys.path.append('../../../../../code/')  # to be replaced!\n",
    "\n",
    "import utils as ut\n",
    "import plots as pt"
   ]
  },
  {
   "cell_type": "code",
   "execution_count": 6,
   "metadata": {
    "collapsed": false
   },
   "outputs": [],
   "source": [
    "# %%javascript\n",
    "# var nb = IPython.notebook;\n",
    "# var kernel = IPython.notebook.kernel;\n",
    "# var command = \"NOTEBOOK_NAME = '\" + nb.base_url + nb.notebook_path + \"'\";\n",
    "# kernel.execute(command);"
   ]
  },
  {
   "cell_type": "code",
   "execution_count": 7,
   "metadata": {
    "collapsed": true
   },
   "outputs": [],
   "source": [
    "# NOTEBOOK_NAME = NOTEBOOK_NAME.split('/')[-1][:-6]\n",
    "NOTEBOOK_NAME = 'decoding_SS'"
   ]
  },
  {
   "cell_type": "code",
   "execution_count": 8,
   "metadata": {
    "collapsed": false
   },
   "outputs": [],
   "source": [
    "from pickleshare import PickleShareDB\n",
    "\n",
    "autorestore_folder = os.path.join(os.getcwd(), 'autorestore', NOTEBOOK_NAME)\n",
    "db = PickleShareDB(autorestore_folder)\n",
    "import sys\n",
    "from workspace import *\n",
    "import IPython\n",
    "ip = IPython.get_ipython()\n",
    "\n",
    "# this will restore all the saved variables. ignore the errors listed.\n",
    "load_workspace(ip, db)\n",
    "\n",
    "# use `save_worspace(db)` to save variables at the end"
   ]
  },
  {
   "cell_type": "code",
   "execution_count": 75,
   "metadata": {
    "collapsed": false
   },
   "outputs": [],
   "source": [
    "folder = './autorestore/preprocessing'\n",
    "for var in ('time_ax', 'traces', 'events', 'areas', 'cycles',\n",
    "            'is_rewardt', 'is_shockt', 'is_femalet', 'is_coyotet',\n",
    "            'is_blastt', 'consumptions', 'shocks', 'female', 'coyote',\n",
    "            'blasts', 'licks', 'consumption_times',\n",
    "            'is_25_consumptiont', 'first_25_consumptions',\n",
    "            'CYCLE_START', 'US_DURATION',\n",
    "            'US_offsets', 'US_perceptions'): \n",
    "    exec('%s = ut.load_variable(\\'%s\\', folder=\\'%s\\')'%(var, var, folder))"
   ]
  },
  {
   "cell_type": "code",
   "execution_count": 13,
   "metadata": {
    "collapsed": false
   },
   "outputs": [],
   "source": [
    "from sklearn.svm import SVC\n",
    "from sklearn.naive_bayes import MultinomialNB"
   ]
  },
  {
   "cell_type": "code",
   "execution_count": 14,
   "metadata": {
    "collapsed": true
   },
   "outputs": [],
   "source": [
    "n_loops = 10"
   ]
  },
  {
   "cell_type": "code",
   "execution_count": 15,
   "metadata": {
    "collapsed": true
   },
   "outputs": [],
   "source": [
    "# %%time\n",
    "# %%px\n",
    "\n",
    "from sklearn.model_selection import cross_val_score\n",
    "from sklearn.svm import SVC, LinearSVC\n",
    "import numpy as np\n",
    "\n",
    "# decoder = SVC(kernel='linear')\n",
    "decoder = LinearSVC()\n",
    "# decoder = MultinomialNB()"
   ]
  },
  {
   "cell_type": "code",
   "execution_count": 78,
   "metadata": {
    "collapsed": false
   },
   "outputs": [
    {
     "name": "stdout",
     "output_type": "stream",
     "text": [
      "[False False False False False False False False False False False False\n",
      " False False False False False False False False False False False False\n",
      " False False False False False False False  True  True  True  True  True\n",
      "  True  True  True  True  True  True  True  True  True  True  True  True\n",
      "  True  True  True  True  True  True  True  True False False False False\n",
      "  True  True  True  True  True  True  True  True  True  True False False\n",
      " False False False False False False False False]\n"
     ]
    }
   ],
   "source": [
    "#make boolean array of sucrose and shock trials\n",
    "is_sucrose_or_shockt = np.array([sum(x) for x in zip(is_25_consumptiont, is_shockt)], dtype=bool)\n",
    "print is_sucrose_or_shockt\n",
    "#find a way to only add 25 reward trials"
   ]
  },
  {
   "cell_type": "code",
   "execution_count": 79,
   "metadata": {
    "collapsed": false
   },
   "outputs": [
    {
     "data": {
      "text/plain": [
       "80"
      ]
     },
     "execution_count": 79,
     "metadata": {},
     "output_type": "execute_result"
    }
   ],
   "source": [
    "len(is_sucrose_or_shockt)"
   ]
  },
  {
   "cell_type": "code",
   "execution_count": 80,
   "metadata": {
    "collapsed": false
   },
   "outputs": [
    {
     "data": {
      "text/plain": [
       "array([[ 1006.3473947 ,  1018.3473947 ],\n",
       "       [ 1033.24520957,  1045.24520957],\n",
       "       [ 1054.89874276,  1066.89874276],\n",
       "       [ 1077.20945945,  1089.20945945],\n",
       "       [ 1099.54019262,  1111.54019262],\n",
       "       [ 1121.07907617,  1133.07907617],\n",
       "       [ 1146.80765662,  1158.80765662],\n",
       "       [ 1171.11028108,  1183.11028108],\n",
       "       [ 1191.87036086,  1203.87036086],\n",
       "       [ 1211.96210783,  1223.96210783],\n",
       "       [ 1229.6784098 ,  1241.6784098 ],\n",
       "       [ 1251.88492089,  1263.88492089],\n",
       "       [ 1272.86455297,  1284.86455297],\n",
       "       [ 1292.75559296,  1304.75559296],\n",
       "       [ 1316.92977588,  1328.92977588],\n",
       "       [ 1338.8116991 ,  1350.8116991 ],\n",
       "       [ 1360.74745956,  1372.74745956],\n",
       "       [ 1381.60697867,  1393.60697867],\n",
       "       [ 1404.26562827,  1416.26562827],\n",
       "       [ 1426.90948913,  1438.90948913],\n",
       "       [ 1448.97019892,  1460.97019892],\n",
       "       [ 1467.6492369 ,  1479.6492369 ],\n",
       "       [ 1490.67800918,  1502.67800918],\n",
       "       [ 1508.62277356,  1520.62277356],\n",
       "       [ 1529.3139103 ,  1541.3139103 ],\n",
       "       [ 1639.72793702,  1651.72793702],\n",
       "       [ 1675.35198079,  1687.35198079],\n",
       "       [ 1712.09934366,  1724.09934366],\n",
       "       [ 1752.83888956,  1764.83888956],\n",
       "       [ 1789.38229625,  1801.38229625],\n",
       "       [ 1827.41680865,  1839.41680865],\n",
       "       [ 1872.66429809,  1884.66429809],\n",
       "       [ 1911.90682257,  1923.90682257],\n",
       "       [ 1948.15335705,  1960.15335705],\n",
       "       [ 1983.87789028,  1995.87789028]])"
      ]
     },
     "execution_count": 80,
     "metadata": {},
     "output_type": "execute_result"
    }
   ],
   "source": [
    "cycles[is_sucrose_or_shockt]"
   ]
  },
  {
   "cell_type": "code",
   "execution_count": 103,
   "metadata": {
    "collapsed": false
   },
   "outputs": [
    {
     "data": {
      "text/plain": [
       "array([  993.89950414,  1017.71892765,  1039.92956522,  1062.37035053,\n",
       "        1084.41745374,  1108.46306455,  1132.79068633,  1155.93878748,\n",
       "        1179.20996104,  1198.29480765,  1217.97200502,  1235.81838485,\n",
       "        1260.36616747,  1279.32797142,  1303.14397522,  1325.93134453,\n",
       "        1345.55217646,  1367.14935686,  1391.4577674 ,  1413.50959836,\n",
       "        1434.56982852,  1455.93139798,  1475.63247993,  1496.76600867,\n",
       "        1515.70872611,  1537.90278073,  1559.69733718,  1581.15799442,\n",
       "        1602.20725365,  1624.63803326])"
      ]
     },
     "execution_count": 103,
     "metadata": {},
     "output_type": "execute_result"
    }
   ],
   "source": [
    "consumptions"
   ]
  },
  {
   "cell_type": "code",
   "execution_count": 99,
   "metadata": {
    "collapsed": false
   },
   "outputs": [],
   "source": [
    "patterns = ut.extract_patterns(time_ax, traces, cycles[is_sucrose_or_shockt], CYCLE_START, 0, 4)\n",
    "patterns_evs = ut.extract_patterns(time_ax, events, cycles[is_sucrose_or_shockt], CYCLE_START, 0, 4) #only taking sucrose and shock trials\n",
    "labels = (np.r_[is_25_consumptiont] * 0) + (np.r_[is_shockt] * 1)"
   ]
  },
  {
   "cell_type": "code",
   "execution_count": 100,
   "metadata": {
    "collapsed": false
   },
   "outputs": [
    {
     "data": {
      "text/plain": [
       "array([0, 0, 0, 0, 0, 0, 0, 0, 0, 0, 0, 0, 0, 0, 0, 0, 0, 0, 0, 0, 0, 0, 0,\n",
       "       0, 0, 1, 1, 1, 1, 1, 1, 1, 1, 1, 1])"
      ]
     },
     "execution_count": 100,
     "metadata": {},
     "output_type": "execute_result"
    }
   ],
   "source": [
    "labels[is_sucrose_or_shockt]"
   ]
  },
  {
   "cell_type": "code",
   "execution_count": 101,
   "metadata": {
    "collapsed": false
   },
   "outputs": [
    {
     "name": "stdout",
     "output_type": "stream",
     "text": [
      "CPU times: user 1.77 s, sys: 1.65 s, total: 3.42 s\n",
      "Wall time: 4.19 s\n"
     ]
    }
   ],
   "source": [
    "%%time\n",
    "\n",
    "scores, scores_chance = ut.decode(patterns_evs, labels[is_sucrose_or_shockt], cv=10, n_jobs=10, decoder=decoder)"
   ]
  },
  {
   "cell_type": "code",
   "execution_count": 102,
   "metadata": {
    "collapsed": false
   },
   "outputs": [
    {
     "data": {
      "text/plain": [
       "<matplotlib.text.Text at 0x7f02e8131e10>"
      ]
     },
     "execution_count": 102,
     "metadata": {},
     "output_type": "execute_result"
    },
    {
     "data": {
      "image/png": "[encoded data removed]",
      "text/plain": [
       "<matplotlib.figure.Figure at 0x7f02e8190490>"
      ]
     },
     "metadata": {},
     "output_type": "display_data"
    }
   ],
   "source": [
    "fig, ax = pl.subplots(1, 1, figsize=(1, 2))\n",
    "\n",
    "values = [scores_chance*100, scores*100, ]\n",
    "\n",
    "xpos = np.r_[[0, 1]]\n",
    "pt.plot_bars(values, xpos=xpos, colors=['0.7', 'k']*4, ax=ax)\n",
    "pt.nicer_plot(ax)\n",
    "pt.add_significance(ax, values[0], values[1], 0, 1, 110)\n",
    "\n",
    "ax.set_ylim(0, 100)\n",
    "ax.set_xticks(range(2))\n",
    "ax.set_xticklabels(['Chance', \"Data\"])\n",
    "\n",
    "ax.set_ylabel('Decoding Accuracy %')"
   ]
  },
  {
   "cell_type": "code",
   "execution_count": 21,
   "metadata": {
    "collapsed": false
   },
   "outputs": [],
   "source": [
    "#%#%time\n",
    "##\n",
    "##scores_early, scores_early_chance = ut.decode(patterns_evs[:40], labels[:40], cv=10, n_jobs=10, decoder=decoder)\n",
    "#scores_mid, scores_mid_chance = ut.decode(patterns_evs[40:80], labels[40:80], cv=10, n_jobs=10, decoder=decoder)\n",
    "#scores_late, scores_late_chance = ut.decode(patterns_evs[80:], labels[80:], cv=10, n_jobs=10, decoder=decoder)"
   ]
  },
  {
   "cell_type": "code",
   "execution_count": 22,
   "metadata": {
    "collapsed": false
   },
   "outputs": [],
   "source": [
    "#fig, ax = pl.subplots(1, 1, figsize=(2, 2))\n",
    "#\n",
    "#values = [scores_early_chance*100, scores_early*100,\n",
    "#          scores_mid_chance*100, scores_mid*100,\n",
    "#          scores_late_chance*100, scores_late*100,]\n",
    "#\n",
    "#xpos = np.r_[[0, 1, 3, 4, 6, 7]]\n",
    "#pt.plot_bars(values, xpos=xpos, colors=['0.7', 'k']*3, ax=ax)\n",
    "#pt.nicer_plot(ax)\n",
    "#for v1, v2, x in zip(values[::2], values[1::2], xpos[::2]):\n",
    "#    pt.add_significance(ax, v1, v2, x, x+1, 110)\n",
    "#\n",
    "#ax.set_ylim(0, 100)\n",
    "#ax.set_xticks(xpos[::2]+0.5)\n",
    "#ax.set_xticklabels(['Early', 'Mid', 'Late'])\n",
    "#\n",
    "#ax.set_ylabel('Decoding Accuracy %')"
   ]
  },
  {
   "cell_type": "code",
   "execution_count": 15,
   "metadata": {
    "collapsed": false
   },
   "outputs": [
    {
     "name": "stdout",
     "output_type": "stream",
     "text": [
      "Could not store variable 'IPython'. Skipping...\n",
      "Could not store variable 'pt'. Skipping...\n",
      "Could not store variable 'pl'. Skipping...\n",
      "Could not store variable 'di'. Skipping...\n",
      "Could not store variable 'ut'. Skipping...\n",
      "Could not store variable 'ip'. Skipping...\n",
      "Could not store variable 'np'. Skipping...\n",
      "Could not store variable 'sys'. Skipping...\n",
      "Could not store variable 'pickle'. Skipping...\n",
      "Could not store variable 'os'. Skipping...\n"
     ]
    }
   ],
   "source": [
    "save_workspace(db)"
   ]
  },
  {
   "cell_type": "code",
   "execution_count": 16,
   "metadata": {
    "collapsed": true
   },
   "outputs": [],
   "source": []
  }
 ],
 "metadata": {
  "anaconda-cloud": {},
  "kernelspec": {
   "display_name": "Python [default]",
   "language": "python",
   "name": "python2"
  },
  "language_info": {
   "codemirror_mode": {
    "name": "ipython",
    "version": 2
   },
   "file_extension": ".py",
   "mimetype": "text/x-python",
   "name": "python",
   "nbconvert_exporter": "python",
   "pygments_lexer": "ipython2",
   "version": "2.7.12"
  }
 },
 "nbformat": 4,
 "nbformat_minor": 2
}
